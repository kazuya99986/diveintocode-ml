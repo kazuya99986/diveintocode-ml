{
  "nbformat": 4,
  "nbformat_minor": 0,
  "metadata": {
    "colab": {
      "name": "Untitled44.ipynb",
      "provenance": [],
      "collapsed_sections": []
    },
    "kernelspec": {
      "name": "python3",
      "display_name": "Python 3"
    },
    "language_info": {
      "name": "python"
    }
  },
  "cells": [
    {
      "cell_type": "markdown",
      "metadata": {
        "id": "fhe5Ya7eylpE"
      },
      "source": [
        "# Sprint14 Keras"
      ]
    },
    {
      "cell_type": "markdown",
      "metadata": {
        "id": "cFTOsigtyzlg"
      },
      "source": [
        "# 【問題1】公式チュートリアルモデルを分担して実行\n",
        "TensorFLowの公式チュートリアルモデルを分担して実行してください。\n",
        "\n",
        "\n",
        "以下の中から1人ひとつ選び実行し、その結果を簡単に発表してください。"
      ]
    },
    {
      "cell_type": "code",
      "metadata": {
        "id": "K4YwjjP1-fTv"
      },
      "source": [
        "import tensorflow as tf\n",
        "import tensorflow_datasets as tfds\n",
        "import numpy as np\n",
        "from sklearn.model_selection import train_test_split"
      ],
      "execution_count": 9,
      "outputs": []
    },
    {
      "cell_type": "code",
      "metadata": {
        "colab": {
          "base_uri": "https://localhost:8080/"
        },
        "id": "3xqMrAqL26-L",
        "outputId": "be3441d4-3575-446e-8fc2-f8f016b5522d"
      },
      "source": [
        "mnist = tf.keras.datasets.mnist\n",
        "\n",
        "(x_train, y_train), (x_test, y_test) = mnist.load_data()\n",
        "x_train, x_test = x_train / 255.0, x_test / 255.0\n",
        "\n",
        "model = tf.keras.models.Sequential([\n",
        "  tf.keras.layers.Flatten(input_shape=(28, 28)),\n",
        "  tf.keras.layers.Dense(128, activation='relu'),\n",
        "  tf.keras.layers.Dropout(0.2),\n",
        "  tf.keras.layers.Dense(10)\n",
        "])\n",
        "\n",
        "predictions = model(x_train[:1]).numpy()\n",
        "predictions"
      ],
      "execution_count": 2,
      "outputs": [
        {
          "output_type": "stream",
          "text": [
            "Downloading data from https://storage.googleapis.com/tensorflow/tf-keras-datasets/mnist.npz\n",
            "11493376/11490434 [==============================] - 0s 0us/step\n"
          ],
          "name": "stdout"
        },
        {
          "output_type": "execute_result",
          "data": {
            "text/plain": [
              "array([[-0.27040094, -0.14162745, -0.11076418, -0.5656812 , -0.14782846,\n",
              "        -0.18261239,  0.8661366 ,  0.234083  ,  0.15451452, -0.5720195 ]],\n",
              "      dtype=float32)"
            ]
          },
          "metadata": {
            "tags": []
          },
          "execution_count": 2
        }
      ]
    },
    {
      "cell_type": "code",
      "metadata": {
        "colab": {
          "base_uri": "https://localhost:8080/"
        },
        "id": "ZB8DOszY3KLl",
        "outputId": "ccdcb31f-171a-4f6f-ec3c-4767320c108d"
      },
      "source": [
        "tf.nn.softmax(predictions).numpy()"
      ],
      "execution_count": 3,
      "outputs": [
        {
          "output_type": "execute_result",
          "data": {
            "text/plain": [
              "array([[0.07508539, 0.08540455, 0.08808151, 0.05588778, 0.08487659,\n",
              "        0.08197501, 0.23396312, 0.12435121, 0.11484017, 0.05553466]],\n",
              "      dtype=float32)"
            ]
          },
          "metadata": {
            "tags": []
          },
          "execution_count": 3
        }
      ]
    },
    {
      "cell_type": "code",
      "metadata": {
        "id": "XJ8c2JbE3MFg"
      },
      "source": [
        "loss_fn = tf.keras.losses.SparseCategoricalCrossentropy(from_logits=True)"
      ],
      "execution_count": 4,
      "outputs": []
    },
    {
      "cell_type": "code",
      "metadata": {
        "colab": {
          "base_uri": "https://localhost:8080/"
        },
        "id": "gEGWXH7X3RZd",
        "outputId": "80c9ae9f-ef6a-47d4-a6d7-798a659f8a47"
      },
      "source": [
        "model.compile(optimizer='adam',\n",
        "              loss=loss_fn,\n",
        "              metrics=['accuracy'])\n",
        "\n",
        "model.fit(x_train, y_train, epochs=5)\n",
        "model.evaluate(x_test,  y_test, verbose=2)\n",
        "\n",
        "probability_model = tf.keras.Sequential([\n",
        "  model,\n",
        "  tf.keras.layers.Softmax()\n",
        "])\n",
        "\n",
        "probability_model(x_test[:5])"
      ],
      "execution_count": 5,
      "outputs": [
        {
          "output_type": "stream",
          "text": [
            "Epoch 1/5\n",
            "1875/1875 [==============================] - 5s 2ms/step - loss: 0.2957 - accuracy: 0.9142\n",
            "Epoch 2/5\n",
            "1875/1875 [==============================] - 5s 2ms/step - loss: 0.1402 - accuracy: 0.9590\n",
            "Epoch 3/5\n",
            "1875/1875 [==============================] - 4s 2ms/step - loss: 0.1033 - accuracy: 0.9691\n",
            "Epoch 4/5\n",
            "1875/1875 [==============================] - 4s 2ms/step - loss: 0.0859 - accuracy: 0.9736\n",
            "Epoch 5/5\n",
            "1875/1875 [==============================] - 4s 2ms/step - loss: 0.0752 - accuracy: 0.9765\n",
            "313/313 - 0s - loss: 0.0778 - accuracy: 0.9764\n"
          ],
          "name": "stdout"
        },
        {
          "output_type": "execute_result",
          "data": {
            "text/plain": [
              "<tf.Tensor: shape=(5, 10), dtype=float32, numpy=\n",
              "array([[6.83950958e-08, 3.83515886e-09, 2.52698192e-06, 2.18831439e-04,\n",
              "        4.15363854e-11, 2.74614571e-08, 4.53300557e-11, 9.99774992e-01,\n",
              "        9.64551646e-07, 2.63555580e-06],\n",
              "       [3.28834585e-06, 9.40279642e-05, 9.99610960e-01, 2.60531291e-04,\n",
              "        4.58591532e-14, 6.57570070e-07, 6.74117018e-06, 2.76342803e-11,\n",
              "        2.36859378e-05, 3.72776506e-12],\n",
              "       [2.97720845e-07, 9.98968244e-01, 9.34516793e-05, 1.11787986e-05,\n",
              "        3.99734563e-05, 1.31194665e-05, 3.84764053e-06, 7.38934148e-04,\n",
              "        1.30227025e-04, 7.54881569e-07],\n",
              "       [9.99798119e-01, 4.58486582e-11, 5.05689168e-05, 2.77113543e-07,\n",
              "        5.98590987e-07, 1.86863269e-06, 1.17578275e-04, 2.84012403e-05,\n",
              "        7.91009711e-08, 2.54984707e-06],\n",
              "       [8.62236931e-08, 3.18676285e-09, 9.38494395e-07, 4.47826238e-08,\n",
              "        9.99750435e-01, 1.81614396e-07, 2.09082054e-06, 6.00146304e-05,\n",
              "        1.74694989e-07, 1.86110454e-04]], dtype=float32)>"
            ]
          },
          "metadata": {
            "tags": []
          },
          "execution_count": 5
        }
      ]
    },
    {
      "cell_type": "markdown",
      "metadata": {
        "id": "LWJzN6Iny8B8"
      },
      "source": [
        "# 【問題3】Iris（2値分類）をKerasで学習\n",
        "TensorFlowによるIrisデータセットに対する2値分類をKerasに書き換えてください。"
      ]
    },
    {
      "cell_type": "code",
      "metadata": {
        "id": "qidBP3-tzX7F"
      },
      "source": [
        "# データセットの読み込み\n",
        "from sklearn.datasets import load_iris\n",
        "iris_dataset = load_iris()\n",
        "\n",
        "temp_X = iris_dataset.data\n",
        "temp_y = iris_dataset.target.reshape(-1,1)\n",
        "\n",
        "iris_marged = np.concatenate((temp_X, temp_y), axis=1)\n",
        "iris_marged = iris_marged[iris_marged[:,4] >= 1]\n",
        "\n",
        "iris_marged[:,4] = np.where(iris_marged[:,4] == 1, 0, 1)\n",
        "\n",
        "X = iris_marged[:, :4].astype(np.float32)\n",
        "y = iris_marged[:, 4]\n",
        "y = y.astype(np.float32).reshape(-1,1)\n",
        "\n",
        "# trainとtestに分割\n",
        "X_train, X_test, y_train, y_test = train_test_split(X, y, test_size=0.2, random_state=0)\n",
        "# さらにtrainとvalに分割\n",
        "X_train, X_val, y_train, y_val = train_test_split(X_train, y_train, test_size=0.1, random_state=0)"
      ],
      "execution_count": 27,
      "outputs": []
    },
    {
      "cell_type": "code",
      "metadata": {
        "colab": {
          "base_uri": "https://localhost:8080/"
        },
        "id": "KTuwitdAzsOE",
        "outputId": "a4c522d8-b4ff-4df4-d00a-5798da6fb120"
      },
      "source": [
        "#モデルの作成\n",
        "\n",
        "hidden_layer_size = 50\n",
        "output_size = 1\n",
        "\n",
        "model = tf.keras.models.Sequential([\n",
        "  tf.keras.layers.Dense(hidden_layer_size, activation='relu'),\n",
        "  tf.keras.layers.Dense(hidden_layer_size, activation='relu'),\n",
        "  tf.keras.layers.Dense(output_size)\n",
        "])\n",
        "\n",
        "predictions = model(X_train[:10]).numpy()\n",
        "predictions"
      ],
      "execution_count": 28,
      "outputs": [
        {
          "output_type": "execute_result",
          "data": {
            "text/plain": [
              "array([[0.17447832],\n",
              "       [0.13758314],\n",
              "       [0.0042426 ],\n",
              "       [0.10882667],\n",
              "       [0.03779012],\n",
              "       [0.10127094],\n",
              "       [0.10097942],\n",
              "       [0.10359001],\n",
              "       [0.14086369],\n",
              "       [0.06115142]], dtype=float32)"
            ]
          },
          "metadata": {
            "tags": []
          },
          "execution_count": 28
        }
      ]
    },
    {
      "cell_type": "code",
      "metadata": {
        "colab": {
          "base_uri": "https://localhost:8080/"
        },
        "id": "uR-1ZiArIHvy",
        "outputId": "f0b24ee9-2ae2-438f-aa6f-8ef0025c7c45"
      },
      "source": [
        "tf.nn.sigmoid(predictions).numpy()"
      ],
      "execution_count": 29,
      "outputs": [
        {
          "output_type": "execute_result",
          "data": {
            "text/plain": [
              "array([[0.54350924],\n",
              "       [0.53434163],\n",
              "       [0.50106066],\n",
              "       [0.52717984],\n",
              "       [0.5094464 ],\n",
              "       [0.5252961 ],\n",
              "       [0.52522343],\n",
              "       [0.5258744 ],\n",
              "       [0.5351578 ],\n",
              "       [0.5152831 ]], dtype=float32)"
            ]
          },
          "metadata": {
            "tags": []
          },
          "execution_count": 29
        }
      ]
    },
    {
      "cell_type": "code",
      "metadata": {
        "id": "orqcv0ESIfeH"
      },
      "source": [
        "loss_fn = tf.keras.losses.BinaryCrossentropy(from_logits=True)"
      ],
      "execution_count": 30,
      "outputs": []
    },
    {
      "cell_type": "code",
      "metadata": {
        "id": "c2uNDD72I4KR"
      },
      "source": [
        "model.compile(optimizer='adam',\n",
        "              loss=loss_fn,\n",
        "              metrics=['accuracy'])\n",
        "\n",
        "model.fit(X_train, y_train, epochs=50)\n",
        "model.evaluate(X_test,  y_test, verbose=2)\n",
        "\n",
        "probability_model = tf.keras.Sequential([\n",
        "  model,\n",
        "  tf.keras.layers.Softmax()\n",
        "])\n",
        "\n",
        "probability_model(X_test)"
      ],
      "execution_count": null,
      "outputs": []
    },
    {
      "cell_type": "markdown",
      "metadata": {
        "id": "VMsf10eIy-8J"
      },
      "source": [
        "# 【問題4】Iris（多値分類）をKerasで学習\n",
        "TensorFlowによるIrisデータセットに対する3値分類をKerasに書き換えてください。"
      ]
    },
    {
      "cell_type": "code",
      "metadata": {
        "colab": {
          "base_uri": "https://localhost:8080/"
        },
        "id": "GpN_oW64egDB",
        "outputId": "c0195a92-3563-41ce-9e83-726926eb226f"
      },
      "source": [
        "# データセットの読み込み\n",
        "iris_dataset = load_iris()\n",
        "\n",
        "X = iris_dataset.data.astype(np.float32)\n",
        "y = iris_dataset.target.astype(np.int32)\n",
        "y = np.identity(3)[y] #onehot\n",
        "\n",
        "# trainとtestに分割\n",
        "X_train, X_test, y_train, y_test = train_test_split(X, y, test_size=0.2, random_state=0)\n",
        "# さらにtrainとvalに分割\n",
        "X_train, X_val, y_train, y_val = train_test_split(X_train, y_train, test_size=0.2, random_state=0)\n",
        "\n",
        "#モデルの作成\n",
        "\n",
        "hidden_layer_size = 50\n",
        "output_size = 3\n",
        "\n",
        "model = tf.keras.models.Sequential([\n",
        "  tf.keras.layers.Dense(hidden_layer_size, activation='relu'),\n",
        "  tf.keras.layers.Dense(hidden_layer_size, activation='relu'),\n",
        "  tf.keras.layers.Dense(output_size)\n",
        "])\n",
        "\n",
        "predictions = model(X_train[:10]).numpy()\n",
        "predictions"
      ],
      "execution_count": 39,
      "outputs": [
        {
          "output_type": "execute_result",
          "data": {
            "text/plain": [
              "array([[ 0.01027587, -1.2088268 , -0.2849437 ],\n",
              "       [ 0.1617908 , -0.927117  , -0.04281303],\n",
              "       [ 0.06292316, -1.4828999 , -0.49136028],\n",
              "       [ 0.20209005, -0.849277  , -0.01313961],\n",
              "       [-0.03789453, -1.1219807 , -0.33255863],\n",
              "       [ 0.19354169, -1.4315438 , -0.46661496],\n",
              "       [ 0.04606593, -1.2010453 , -0.30747554],\n",
              "       [ 0.3753575 , -0.8803386 , -0.09497288],\n",
              "       [ 0.03202066, -1.2656595 , -0.41123757],\n",
              "       [ 0.37031236, -0.68482006, -0.21231055]], dtype=float32)"
            ]
          },
          "metadata": {
            "tags": []
          },
          "execution_count": 39
        }
      ]
    },
    {
      "cell_type": "code",
      "metadata": {
        "colab": {
          "base_uri": "https://localhost:8080/"
        },
        "id": "VrshUwcae2Mz",
        "outputId": "d6dcfc75-8dcb-470e-f51e-819b19e53fb6"
      },
      "source": [
        "tf.nn.softmax(predictions).numpy()"
      ],
      "execution_count": 40,
      "outputs": [
        {
          "output_type": "execute_result",
          "data": {
            "text/plain": [
              "array([[0.49022892, 0.1448603 , 0.36491078],\n",
              "       [0.46478036, 0.15643759, 0.3787821 ],\n",
              "       [0.5594029 , 0.1192291 , 0.3213679 ],\n",
              "       [0.46386153, 0.16210091, 0.37403765],\n",
              "       [0.48007852, 0.16236769, 0.35755372],\n",
              "       [0.58354455, 0.11489691, 0.30155852],\n",
              "       [0.5026312 , 0.14442284, 0.35294604],\n",
              "       [0.52364975, 0.14917602, 0.32717416],\n",
              "       [0.5221643 , 0.14263688, 0.33519888],\n",
              "       [0.5244999 , 0.1826027 , 0.2928974 ]], dtype=float32)"
            ]
          },
          "metadata": {
            "tags": []
          },
          "execution_count": 40
        }
      ]
    },
    {
      "cell_type": "code",
      "metadata": {
        "id": "vp7G1eWRe4o4"
      },
      "source": [
        "loss_fn = tf.keras.losses.CategoricalCrossentropy(from_logits=True)"
      ],
      "execution_count": 41,
      "outputs": []
    },
    {
      "cell_type": "code",
      "metadata": {
        "colab": {
          "base_uri": "https://localhost:8080/"
        },
        "id": "l7QenSrUe8ws",
        "outputId": "7ea739f2-936e-4292-e586-4261d61e6969"
      },
      "source": [
        "model.compile(optimizer='adam',\n",
        "              loss=loss_fn,\n",
        "              metrics=['accuracy'])\n",
        "\n",
        "model.fit(X_train, y_train, epochs=10)\n",
        "model.evaluate(X_test,  y_test, verbose=2)\n",
        "\n",
        "probability_model = tf.keras.Sequential([\n",
        "  model,\n",
        "  tf.keras.layers.Softmax()\n",
        "])\n",
        "\n",
        "probability_model(X_test)"
      ],
      "execution_count": 43,
      "outputs": [
        {
          "output_type": "stream",
          "text": [
            "Epoch 1/10\n",
            "3/3 [==============================] - 0s 5ms/step - loss: 0.7739 - accuracy: 0.7917\n",
            "Epoch 2/10\n",
            "3/3 [==============================] - 0s 4ms/step - loss: 0.7260 - accuracy: 0.6875\n",
            "Epoch 3/10\n",
            "3/3 [==============================] - 0s 5ms/step - loss: 0.6794 - accuracy: 0.7500\n",
            "Epoch 4/10\n",
            "3/3 [==============================] - 0s 4ms/step - loss: 0.6405 - accuracy: 0.8646\n",
            "Epoch 5/10\n",
            "3/3 [==============================] - 0s 4ms/step - loss: 0.6052 - accuracy: 0.8646\n",
            "Epoch 6/10\n",
            "3/3 [==============================] - 0s 3ms/step - loss: 0.5730 - accuracy: 0.8646\n",
            "Epoch 7/10\n",
            "3/3 [==============================] - 0s 3ms/step - loss: 0.5441 - accuracy: 0.8646\n",
            "Epoch 8/10\n",
            "3/3 [==============================] - 0s 4ms/step - loss: 0.5177 - accuracy: 0.8854\n",
            "Epoch 9/10\n",
            "3/3 [==============================] - 0s 4ms/step - loss: 0.4928 - accuracy: 0.9062\n",
            "Epoch 10/10\n",
            "3/3 [==============================] - 0s 4ms/step - loss: 0.4730 - accuracy: 0.9167\n",
            "1/1 - 0s - loss: 0.4897 - accuracy: 0.8333\n"
          ],
          "name": "stdout"
        },
        {
          "output_type": "execute_result",
          "data": {
            "text/plain": [
              "<tf.Tensor: shape=(30, 3), dtype=float32, numpy=\n",
              "array([[0.02450736, 0.2512724 , 0.7242202 ],\n",
              "       [0.13051595, 0.5292489 , 0.34023508],\n",
              "       [0.87235796, 0.08458792, 0.04305409],\n",
              "       [0.01958506, 0.29928365, 0.6811313 ],\n",
              "       [0.8085096 , 0.13052432, 0.06096604],\n",
              "       [0.01366477, 0.1890066 , 0.7973286 ],\n",
              "       [0.831895  , 0.11381109, 0.05429385],\n",
              "       [0.09264383, 0.496326  , 0.41103014],\n",
              "       [0.08232472, 0.51183134, 0.40584394],\n",
              "       [0.14138512, 0.517657  , 0.3409578 ],\n",
              "       [0.02775975, 0.28738517, 0.6848551 ],\n",
              "       [0.1047105 , 0.477874  , 0.41741544],\n",
              "       [0.07686611, 0.43989658, 0.48323736],\n",
              "       [0.0850741 , 0.49341276, 0.4215131 ],\n",
              "       [0.07227653, 0.42483377, 0.50288975],\n",
              "       [0.835274  , 0.10843322, 0.05629288],\n",
              "       [0.08056643, 0.43597573, 0.48345786],\n",
              "       [0.07597917, 0.40599585, 0.51802504],\n",
              "       [0.76689225, 0.16413026, 0.06897743],\n",
              "       [0.85635465, 0.09716795, 0.0464774 ],\n",
              "       [0.03328173, 0.28350756, 0.68321073],\n",
              "       [0.07144309, 0.37261766, 0.55593926],\n",
              "       [0.7213118 , 0.17602311, 0.1026651 ],\n",
              "       [0.74508005, 0.17159462, 0.08332533],\n",
              "       [0.05446595, 0.39760035, 0.54793364],\n",
              "       [0.8331056 , 0.10805116, 0.05884325],\n",
              "       [0.7546662 , 0.15141228, 0.09392151],\n",
              "       [0.1147597 , 0.49896663, 0.38627365],\n",
              "       [0.1747057 , 0.48990387, 0.33539045],\n",
              "       [0.76847434, 0.15519667, 0.07632904]], dtype=float32)>"
            ]
          },
          "metadata": {
            "tags": []
          },
          "execution_count": 43
        }
      ]
    },
    {
      "cell_type": "markdown",
      "metadata": {
        "id": "aEDdhUeCzCE0"
      },
      "source": [
        "# 【問題5】House PricesをKerasで学習\n",
        "TensorFlowによるHouse Pricesデータセットに対する回帰をKerasに書き換えてください。"
      ]
    },
    {
      "cell_type": "code",
      "metadata": {
        "colab": {
          "base_uri": "https://localhost:8080/"
        },
        "id": "LDzdif8YfjtT",
        "outputId": "44356b18-4814-43d7-e1a4-f5cfeb069142"
      },
      "source": [
        "#データ読み込み\n",
        "import pandas as pd\n",
        "from sklearn.preprocessing import StandardScaler\n",
        "\n",
        "df = pd.read_csv('drive/My Drive/data/house-prices-advanced-regression-techniques_train.csv')\n",
        "X = df[['GrLivArea', 'YearBuilt']].values\n",
        "y = df['SalePrice'].values.reshape(-1,1)\n",
        "\n",
        "\n",
        "scaler = StandardScaler()\n",
        "X = scaler.fit_transform(X)\n",
        "\n",
        "# trainとtestに分割\n",
        "X_train, X_test, y_train, y_test = train_test_split(X, y, test_size=0.2, random_state=0)\n",
        "# さらにtrainとvalに分割\n",
        "X_train, X_val, y_train, y_val = train_test_split(X_train, y_train, test_size=0.2, random_state=0)\n",
        "\n",
        "\n",
        "#モデルの作成\n",
        "hidden_layer_size = 50\n",
        "output_size = 1\n",
        "\n",
        "model = tf.keras.models.Sequential([\n",
        "  tf.keras.layers.Dense(hidden_layer_size, activation='relu'),\n",
        "  tf.keras.layers.Dense(hidden_layer_size, activation='relu'),\n",
        "  tf.keras.layers.Dense(output_size)\n",
        "])\n",
        "\n",
        "predictions = model(X_train[:10]).numpy()\n",
        "predictions"
      ],
      "execution_count": 46,
      "outputs": [
        {
          "output_type": "execute_result",
          "data": {
            "text/plain": [
              "array([[-0.15471107],\n",
              "       [-0.03475707],\n",
              "       [-0.12483937],\n",
              "       [-0.03581494],\n",
              "       [-0.11866688],\n",
              "       [-0.06218399],\n",
              "       [-0.01945069],\n",
              "       [-0.28150588],\n",
              "       [-0.05530083],\n",
              "       [-0.02901087]], dtype=float32)"
            ]
          },
          "metadata": {
            "tags": []
          },
          "execution_count": 46
        }
      ]
    },
    {
      "cell_type": "code",
      "metadata": {
        "colab": {
          "base_uri": "https://localhost:8080/"
        },
        "id": "GizttntLgSmY",
        "outputId": "acc80c40-a965-4fab-d9d2-3f4dda797827"
      },
      "source": [
        "tf.keras.metrics.mean_squared_error(y_train[:10], predictions).numpy()"
      ],
      "execution_count": 50,
      "outputs": [
        {
          "output_type": "execute_result",
          "data": {
            "text/plain": [
              "array([1.9432403e+10, 1.6900008e+10, 6.9765784e+10, 3.5607704e+10,\n",
              "       3.2400044e+10, 6.4157377e+10, 4.4100006e+10, 1.6900073e+10,\n",
              "       6.5025032e+10, 2.8561011e+10], dtype=float32)"
            ]
          },
          "metadata": {
            "tags": []
          },
          "execution_count": 50
        }
      ]
    },
    {
      "cell_type": "code",
      "metadata": {
        "id": "aPr2a9GegzoV"
      },
      "source": [
        "loss_fn = tf.keras.losses.MeanSquaredError()"
      ],
      "execution_count": 52,
      "outputs": []
    },
    {
      "cell_type": "code",
      "metadata": {
        "colab": {
          "base_uri": "https://localhost:8080/"
        },
        "id": "RPnlO_syg7gC",
        "outputId": "df75b7bc-a868-491a-b67e-5e5e99e6b7e5"
      },
      "source": [
        "model.compile(optimizer='adam',\n",
        "              loss=loss_fn,\n",
        "              metrics=['mse'])\n",
        "\n",
        "model.fit(X_train, y_train, epochs=50)\n",
        "model.evaluate(X_test,  y_test, verbose=2)\n",
        "\n",
        "probability_model = tf.keras.Sequential([\n",
        "  model,\n",
        "  #何もいらない？\n",
        "])\n",
        "\n",
        "Y_pred = probability_model(X_test)\n",
        "np.concatenate((Y_pred[:10], y_test[:10]), axis=1)"
      ],
      "execution_count": 64,
      "outputs": [
        {
          "output_type": "stream",
          "text": [
            "Epoch 1/50\n",
            "30/30 [==============================] - 0s 2ms/step - loss: 8706276352.0000 - mse: 8706276352.0000\n",
            "Epoch 2/50\n",
            "30/30 [==============================] - 0s 1ms/step - loss: 8378416128.0000 - mse: 8378416128.0000\n",
            "Epoch 3/50\n",
            "30/30 [==============================] - 0s 1ms/step - loss: 8057304064.0000 - mse: 8057304064.0000\n",
            "Epoch 4/50\n",
            "30/30 [==============================] - 0s 2ms/step - loss: 7741607936.0000 - mse: 7741607936.0000\n",
            "Epoch 5/50\n",
            "30/30 [==============================] - 0s 1ms/step - loss: 7435552768.0000 - mse: 7435552768.0000\n",
            "Epoch 6/50\n",
            "30/30 [==============================] - 0s 1ms/step - loss: 7141898752.0000 - mse: 7141898752.0000\n",
            "Epoch 7/50\n",
            "30/30 [==============================] - 0s 2ms/step - loss: 6852344832.0000 - mse: 6852344832.0000\n",
            "Epoch 8/50\n",
            "30/30 [==============================] - 0s 1ms/step - loss: 6573233664.0000 - mse: 6573233664.0000\n",
            "Epoch 9/50\n",
            "30/30 [==============================] - 0s 2ms/step - loss: 6304993792.0000 - mse: 6304993792.0000\n",
            "Epoch 10/50\n",
            "30/30 [==============================] - 0s 2ms/step - loss: 6049825280.0000 - mse: 6049825280.0000\n",
            "Epoch 11/50\n",
            "30/30 [==============================] - 0s 2ms/step - loss: 5801967616.0000 - mse: 5801967616.0000\n",
            "Epoch 12/50\n",
            "30/30 [==============================] - 0s 2ms/step - loss: 5561991680.0000 - mse: 5561991680.0000\n",
            "Epoch 13/50\n",
            "30/30 [==============================] - 0s 2ms/step - loss: 5335253504.0000 - mse: 5335253504.0000\n",
            "Epoch 14/50\n",
            "30/30 [==============================] - 0s 2ms/step - loss: 5114208768.0000 - mse: 5114208768.0000\n",
            "Epoch 15/50\n",
            "30/30 [==============================] - 0s 2ms/step - loss: 4907752960.0000 - mse: 4907752960.0000\n",
            "Epoch 16/50\n",
            "30/30 [==============================] - 0s 2ms/step - loss: 4709965824.0000 - mse: 4709965824.0000\n",
            "Epoch 17/50\n",
            "30/30 [==============================] - 0s 2ms/step - loss: 4518702592.0000 - mse: 4518702592.0000\n",
            "Epoch 18/50\n",
            "30/30 [==============================] - 0s 1ms/step - loss: 4347662336.0000 - mse: 4347662336.0000\n",
            "Epoch 19/50\n",
            "30/30 [==============================] - 0s 1ms/step - loss: 4178237184.0000 - mse: 4178237184.0000\n",
            "Epoch 20/50\n",
            "30/30 [==============================] - 0s 1ms/step - loss: 4024420864.0000 - mse: 4024420864.0000\n",
            "Epoch 21/50\n",
            "30/30 [==============================] - 0s 2ms/step - loss: 3880470272.0000 - mse: 3880470272.0000\n",
            "Epoch 22/50\n",
            "30/30 [==============================] - 0s 2ms/step - loss: 3741449472.0000 - mse: 3741449472.0000\n",
            "Epoch 23/50\n",
            "30/30 [==============================] - 0s 1ms/step - loss: 3613711104.0000 - mse: 3613711104.0000\n",
            "Epoch 24/50\n",
            "30/30 [==============================] - 0s 2ms/step - loss: 3496023296.0000 - mse: 3496023296.0000\n",
            "Epoch 25/50\n",
            "30/30 [==============================] - 0s 1ms/step - loss: 3384173056.0000 - mse: 3384173056.0000\n",
            "Epoch 26/50\n",
            "30/30 [==============================] - 0s 2ms/step - loss: 3285254912.0000 - mse: 3285254912.0000\n",
            "Epoch 27/50\n",
            "30/30 [==============================] - 0s 2ms/step - loss: 3188041984.0000 - mse: 3188041984.0000\n",
            "Epoch 28/50\n",
            "30/30 [==============================] - 0s 1ms/step - loss: 3100764928.0000 - mse: 3100764928.0000\n",
            "Epoch 29/50\n",
            "30/30 [==============================] - 0s 2ms/step - loss: 3020497920.0000 - mse: 3020497920.0000\n",
            "Epoch 30/50\n",
            "30/30 [==============================] - 0s 1ms/step - loss: 2945388032.0000 - mse: 2945388032.0000\n",
            "Epoch 31/50\n",
            "30/30 [==============================] - 0s 1ms/step - loss: 2883546624.0000 - mse: 2883546624.0000\n",
            "Epoch 32/50\n",
            "30/30 [==============================] - 0s 2ms/step - loss: 2820552448.0000 - mse: 2820552448.0000\n",
            "Epoch 33/50\n",
            "30/30 [==============================] - 0s 1ms/step - loss: 2767092992.0000 - mse: 2767092992.0000\n",
            "Epoch 34/50\n",
            "30/30 [==============================] - 0s 2ms/step - loss: 2717837312.0000 - mse: 2717837312.0000\n",
            "Epoch 35/50\n",
            "30/30 [==============================] - 0s 2ms/step - loss: 2674116352.0000 - mse: 2674116352.0000\n",
            "Epoch 36/50\n",
            "30/30 [==============================] - 0s 2ms/step - loss: 2632860416.0000 - mse: 2632860416.0000\n",
            "Epoch 37/50\n",
            "30/30 [==============================] - 0s 1ms/step - loss: 2597829632.0000 - mse: 2597829632.0000\n",
            "Epoch 38/50\n",
            "30/30 [==============================] - 0s 1ms/step - loss: 2564774912.0000 - mse: 2564774912.0000\n",
            "Epoch 39/50\n",
            "30/30 [==============================] - 0s 2ms/step - loss: 2534500096.0000 - mse: 2534500096.0000\n",
            "Epoch 40/50\n",
            "30/30 [==============================] - 0s 2ms/step - loss: 2507096320.0000 - mse: 2507096320.0000\n",
            "Epoch 41/50\n",
            "30/30 [==============================] - 0s 2ms/step - loss: 2483709184.0000 - mse: 2483709184.0000\n",
            "Epoch 42/50\n",
            "30/30 [==============================] - 0s 2ms/step - loss: 2461724416.0000 - mse: 2461724416.0000\n",
            "Epoch 43/50\n",
            "30/30 [==============================] - 0s 2ms/step - loss: 2441787904.0000 - mse: 2441787904.0000\n",
            "Epoch 44/50\n",
            "30/30 [==============================] - 0s 2ms/step - loss: 2425123840.0000 - mse: 2425123840.0000\n",
            "Epoch 45/50\n",
            "30/30 [==============================] - 0s 2ms/step - loss: 2409305600.0000 - mse: 2409305600.0000\n",
            "Epoch 46/50\n",
            "30/30 [==============================] - 0s 1ms/step - loss: 2396182528.0000 - mse: 2396182528.0000\n",
            "Epoch 47/50\n",
            "30/30 [==============================] - 0s 2ms/step - loss: 2383970048.0000 - mse: 2383970048.0000\n",
            "Epoch 48/50\n",
            "30/30 [==============================] - 0s 1ms/step - loss: 2371794688.0000 - mse: 2371794688.0000\n",
            "Epoch 49/50\n",
            "30/30 [==============================] - 0s 2ms/step - loss: 2361598720.0000 - mse: 2361598720.0000\n",
            "Epoch 50/50\n",
            "30/30 [==============================] - 0s 2ms/step - loss: 2352561664.0000 - mse: 2352561664.0000\n",
            "10/10 - 0s - loss: 3493964800.0000 - mse: 3493964800.0000\n"
          ],
          "name": "stdout"
        },
        {
          "output_type": "execute_result",
          "data": {
            "text/plain": [
              "array([[238549.546875 , 200624.       ],\n",
              "       [118285.5234375, 133000.       ],\n",
              "       [ 98515.5546875, 110000.       ],\n",
              "       [218430.578125 , 192000.       ],\n",
              "       [114451.6484375,  88000.       ],\n",
              "       [150364.21875  ,  85000.       ],\n",
              "       [207582.65625  , 282922.       ],\n",
              "       [105475.6796875, 141000.       ],\n",
              "       [619109.0625   , 745000.       ],\n",
              "       [165768.375    , 148800.       ]])"
            ]
          },
          "metadata": {
            "tags": []
          },
          "execution_count": 64
        }
      ]
    },
    {
      "cell_type": "markdown",
      "metadata": {
        "id": "6xLSWYX1zF_4"
      },
      "source": [
        "# 【問題6】MNISTをKerasで学習\n",
        "TensorFlowによるMNISTデータセットによる画像の多値分類をKerasに書き換えてください。"
      ]
    },
    {
      "cell_type": "code",
      "metadata": {
        "colab": {
          "base_uri": "https://localhost:8080/"
        },
        "id": "3SNMwBCRxTpf",
        "outputId": "c18fccbe-5b44-4b49-93c1-58231d601e1e"
      },
      "source": [
        "# データセットの読み込み\n",
        "from keras.datasets import mnist\n",
        "from sklearn.preprocessing import OneHotEncoder\n",
        "\n",
        "(X_train, y_train), (X_test, y_test) = mnist.load_data()\n",
        "\n",
        "X_train = X_train.reshape(-1, 784).astype(np.float32)\n",
        "X_test = X_test.reshape(-1, 784).astype(np.float32)\n",
        "\n",
        "enc = OneHotEncoder(handle_unknown='ignore', sparse=False)\n",
        "y_train_one_hot = enc.fit_transform(y_train[:, np.newaxis])\n",
        "y_test_one_hot = enc.transform(y_test[:, np.newaxis])\n",
        "\n",
        "X_train, X_val, y_train, y_val = train_test_split(X_train, y_train, test_size=0.2)\n",
        "\n",
        "\n",
        "#モデルの作成\n",
        "hidden_layer_size = 400\n",
        "output_size = 10\n",
        "\n",
        "model = tf.keras.models.Sequential([\n",
        "  tf.keras.layers.Dense(hidden_layer_size, activation='relu'),\n",
        "  tf.keras.layers.Dense(hidden_layer_size, activation='relu'),\n",
        "  tf.keras.layers.Dense(output_size)\n",
        "])\n",
        "\n",
        "predictions = model(X_train[:1]).numpy()\n",
        "predictions"
      ],
      "execution_count": 87,
      "outputs": [
        {
          "output_type": "execute_result",
          "data": {
            "text/plain": [
              "array([[-32.280983,  39.455044, -64.82447 ,   9.51247 ,  29.124895,\n",
              "         32.603252,  -7.758602,  56.715958,  42.017834,  73.65127 ]],\n",
              "      dtype=float32)"
            ]
          },
          "metadata": {
            "tags": []
          },
          "execution_count": 87
        }
      ]
    },
    {
      "cell_type": "code",
      "metadata": {
        "colab": {
          "base_uri": "https://localhost:8080/"
        },
        "id": "9SU_PVHCxhU6",
        "outputId": "13038dfb-5f88-48f8-c69a-3a08f14abd4f"
      },
      "source": [
        "tf.nn.softmax(predictions).numpy()"
      ],
      "execution_count": 88,
      "outputs": [
        {
          "output_type": "execute_result",
          "data": {
            "text/plain": [
              "array([[0.0000000e+00, 1.4085378e-15, 0.0000000e+00, 1.3959688e-28,\n",
              "        4.5966465e-20, 1.4896126e-18, 4.4070122e-36, 4.4166008e-08,\n",
              "        1.8271493e-14, 1.0000000e+00]], dtype=float32)"
            ]
          },
          "metadata": {
            "tags": []
          },
          "execution_count": 88
        }
      ]
    },
    {
      "cell_type": "code",
      "metadata": {
        "id": "yrOq-6cBxhVF"
      },
      "source": [
        "loss_fn = tf.keras.losses.SparseCategoricalCrossentropy(from_logits=True)"
      ],
      "execution_count": 89,
      "outputs": []
    },
    {
      "cell_type": "code",
      "metadata": {
        "colab": {
          "base_uri": "https://localhost:8080/"
        },
        "id": "RCMph8v2xhVF",
        "outputId": "94316d91-940d-4ba4-e887-8d67d246d7f3"
      },
      "source": [
        "model.compile(optimizer='adam',\n",
        "              loss=loss_fn,\n",
        "              metrics=['accuracy'])\n",
        "\n",
        "model.fit(X_train, y_train, epochs=5)\n",
        "model.evaluate(X_val, y_val, verbose=2)\n",
        "\n",
        "probability_model = tf.keras.Sequential([\n",
        "  model,\n",
        "  tf.keras.layers.Softmax()\n",
        "])\n",
        "\n",
        "probability_model(X_test)"
      ],
      "execution_count": 90,
      "outputs": [
        {
          "output_type": "stream",
          "text": [
            "Epoch 1/5\n",
            "1500/1500 [==============================] - 9s 6ms/step - loss: 1.7589 - accuracy: 0.8970\n",
            "Epoch 2/5\n",
            "1500/1500 [==============================] - 9s 6ms/step - loss: 0.2337 - accuracy: 0.9464\n",
            "Epoch 3/5\n",
            "1500/1500 [==============================] - 9s 6ms/step - loss: 0.1860 - accuracy: 0.9539\n",
            "Epoch 4/5\n",
            "1500/1500 [==============================] - 9s 6ms/step - loss: 0.1668 - accuracy: 0.9560\n",
            "Epoch 5/5\n",
            "1500/1500 [==============================] - 8s 6ms/step - loss: 0.1506 - accuracy: 0.9605\n",
            "375/375 - 1s - loss: 0.2056 - accuracy: 0.9522\n"
          ],
          "name": "stdout"
        },
        {
          "output_type": "execute_result",
          "data": {
            "text/plain": [
              "<tf.Tensor: shape=(10000, 10), dtype=float32, numpy=\n",
              "array([[2.4016486e-15, 4.2149853e-07, 6.0415657e-12, ..., 9.9999952e-01,\n",
              "        4.6774192e-16, 2.5000732e-08],\n",
              "       [1.9457752e-22, 7.4526753e-07, 9.9999928e-01, ..., 4.2541665e-21,\n",
              "        1.6525301e-22, 8.2582514e-30],\n",
              "       [2.5252283e-13, 9.9999988e-01, 4.6491461e-08, ..., 3.6899067e-11,\n",
              "        1.6378300e-07, 6.0370500e-09],\n",
              "       ...,\n",
              "       [2.1089735e-21, 4.2566059e-13, 4.3624284e-25, ..., 6.9599856e-16,\n",
              "        6.1871705e-14, 1.1417062e-09],\n",
              "       [1.1510468e-06, 6.5251402e-07, 2.0511654e-07, ..., 8.9066243e-06,\n",
              "        1.0721552e-04, 5.4971722e-05],\n",
              "       [1.1588753e-14, 7.1259916e-15, 2.5048990e-09, ..., 3.2026125e-23,\n",
              "        2.6332465e-12, 5.7135779e-19]], dtype=float32)>"
            ]
          },
          "metadata": {
            "tags": []
          },
          "execution_count": 90
        }
      ]
    },
    {
      "cell_type": "code",
      "metadata": {
        "id": "lGghuIYnxu-Y"
      },
      "source": [
        ""
      ],
      "execution_count": null,
      "outputs": []
    }
  ]
}