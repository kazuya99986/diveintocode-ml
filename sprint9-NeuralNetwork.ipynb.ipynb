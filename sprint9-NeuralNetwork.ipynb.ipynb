{
  "nbformat": 4,
  "nbformat_minor": 0,
  "metadata": {
    "colab": {
      "name": "Untitled37.ipynb",
      "provenance": [],
      "collapsed_sections": []
    },
    "kernelspec": {
      "name": "python3",
      "display_name": "Python 3"
    },
    "language_info": {
      "name": "python"
    }
  },
  "cells": [
    {
      "cell_type": "markdown",
      "metadata": {
        "id": "MqlPL2xX3r23"
      },
      "source": [
        "# Sprint9 NeuralNetwork"
      ]
    },
    {
      "cell_type": "code",
      "metadata": {
        "id": "ZRo7zaLMamFL"
      },
      "source": [
        "from keras.datasets import mnist\n",
        "import numpy as np\n",
        "\n",
        "(X_train, y_train), (X_test, y_test) = mnist.load_data()\n",
        "\n",
        "X_train = X_train.reshape(-1, 784)\n",
        "X_test = X_test.reshape(-1, 784)"
      ],
      "execution_count": 1,
      "outputs": []
    },
    {
      "cell_type": "code",
      "metadata": {
        "colab": {
          "base_uri": "https://localhost:8080/"
        },
        "id": "S3G_i5dwasfY",
        "outputId": "29de1a79-2df0-456f-bc79-080acb64e8c0"
      },
      "source": [
        "X_train.shape"
      ],
      "execution_count": 2,
      "outputs": [
        {
          "output_type": "execute_result",
          "data": {
            "text/plain": [
              "(60000, 784)"
            ]
          },
          "metadata": {
            "tags": []
          },
          "execution_count": 2
        }
      ]
    },
    {
      "cell_type": "code",
      "metadata": {
        "colab": {
          "base_uri": "https://localhost:8080/",
          "height": 281
        },
        "id": "NwMeN_KZasmt",
        "outputId": "1511c85b-0c71-4dab-f9b3-2b9c10a3f786"
      },
      "source": [
        "import matplotlib.pyplot as plt\n",
        "%matplotlib inline\n",
        "index = 1\n",
        "image = X_train[index].reshape(28,28)\n",
        "# X_train[index]: (784,)\n",
        "# image: (28, 28)\n",
        "plt.imshow(image, 'gray')\n",
        "plt.title('label : {}'.format(y_train[index]))\n",
        "plt.show()"
      ],
      "execution_count": 3,
      "outputs": [
        {
          "output_type": "display_data",
          "data": {
            "image/png": "[encoded data removed]",
            "text/plain": [
              "<Figure size 432x288 with 1 Axes>"
            ]
          },
          "metadata": {
            "tags": [],
            "needs_background": "light"
          }
        }
      ]
    },
    {
      "cell_type": "code",
      "metadata": {
        "colab": {
          "base_uri": "https://localhost:8080/",
          "height": 1000
        },
        "id": "gjylc31EatDt",
        "outputId": "95ffb064-33c6-4768-db57-c5bec14c3eb1"
      },
      "source": [
        "index = 0\n",
        "image = X_train[index].reshape(28,28)\n",
        "image = image.astype(np.float) # float型に変換\n",
        "image -= 105.35 # 意図的に負の小数値を作り出してみる\n",
        "plt.imshow(image, 'gray')\n",
        "plt.title('label : {}'.format(y_train[index]))\n",
        "plt.show()\n",
        "print(image) # 値を確認"
      ],
      "execution_count": 4,
      "outputs": [
        {
          "output_type": "display_data",
          "data": {
            "image/png": "[encoded data removed]",
            "text/plain": [
              "<Figure size 432x288 with 1 Axes>"
            ]
          },
          "metadata": {
            "tags": [],
            "needs_background": "light"
          }
        },
        {
          "output_type": "stream",
          "text": [
            "[[-105.35 -105.35 -105.35 -105.35 -105.35 -105.35 -105.35 -105.35 -105.35\n",
            "  -105.35 -105.35 -105.35 -105.35 -105.35 -105.35 -105.35 -105.35 -105.35\n",
            "  -105.35 -105.35 -105.35 -105.35 -105.35 -105.35 -105.35 -105.35 -105.35\n",
            "  -105.35]\n",
            " [-105.35 -105.35 -105.35 -105.35 -105.35 -105.35 -105.35 -105.35 -105.35\n",
            "  -105.35 -105.35 -105.35 -105.35 -105.35 -105.35 -105.35 -105.35 -105.35\n",
            "  -105.35 -105.35 -105.35 -105.35 -105.35 -105.35 -105.35 -105.35 -105.35\n",
            "  -105.35]\n",
            " [-105.35 -105.35 -105.35 -105.35 -105.35 -105.35 -105.35 -105.35 -105.35\n",
            "  -105.35 -105.35 -105.35 -105.35 -105.35 -105.35 -105.35 -105.35 -105.35\n",
            "  -105.35 -105.35 -105.35 -105.35 -105.35 -105.35 -105.35 -105.35 -105.35\n",
            "  -105.35]\n",
            " [-105.35 -105.35 -105.35 -105.35 -105.35 -105.35 -105.35 -105.35 -105.35\n",
            "  -105.35 -105.35 -105.35 -105.35 -105.35 -105.35 -105.35 -105.35 -105.35\n",
            "  -105.35 -105.35 -105.35 -105.35 -105.35 -105.35 -105.35 -105.35 -105.35\n",
            "  -105.35]\n",
            " [-105.35 -105.35 -105.35 -105.35 -105.35 -105.35 -105.35 -105.35 -105.35\n",
            "  -105.35 -105.35 -105.35 -105.35 -105.35 -105.35 -105.35 -105.35 -105.35\n",
            "  -105.35 -105.35 -105.35 -105.35 -105.35 -105.35 -105.35 -105.35 -105.35\n",
            "  -105.35]\n",
            " [-105.35 -105.35 -105.35 -105.35 -105.35 -105.35 -105.35 -105.35 -105.35\n",
            "  -105.35 -105.35 -105.35 -102.35  -87.35  -87.35  -87.35   20.65   30.65\n",
            "    69.65  -79.35   60.65  149.65  141.65   21.65 -105.35 -105.35 -105.35\n",
            "  -105.35]\n",
            " [-105.35 -105.35 -105.35 -105.35 -105.35 -105.35 -105.35 -105.35  -75.35\n",
            "   -69.35  -11.35   48.65   64.65  147.65  147.65  147.65  147.65  147.65\n",
            "   119.65   66.65  147.65  136.65   89.65  -41.35 -105.35 -105.35 -105.35\n",
            "  -105.35]\n",
            " [-105.35 -105.35 -105.35 -105.35 -105.35 -105.35 -105.35  -56.35  132.65\n",
            "   147.65  147.65  147.65  147.65  147.65  147.65  147.65  147.65  145.65\n",
            "   -12.35  -23.35  -23.35  -49.35  -66.35 -105.35 -105.35 -105.35 -105.35\n",
            "  -105.35]\n",
            " [-105.35 -105.35 -105.35 -105.35 -105.35 -105.35 -105.35  -87.35  113.65\n",
            "   147.65  147.65  147.65  147.65  147.65   92.65   76.65  141.65  135.65\n",
            "  -105.35 -105.35 -105.35 -105.35 -105.35 -105.35 -105.35 -105.35 -105.35\n",
            "  -105.35]\n",
            " [-105.35 -105.35 -105.35 -105.35 -105.35 -105.35 -105.35 -105.35  -25.35\n",
            "    50.65    1.65  147.65  147.65   99.65  -94.35 -105.35  -62.35   48.65\n",
            "  -105.35 -105.35 -105.35 -105.35 -105.35 -105.35 -105.35 -105.35 -105.35\n",
            "  -105.35]\n",
            " [-105.35 -105.35 -105.35 -105.35 -105.35 -105.35 -105.35 -105.35 -105.35\n",
            "   -91.35 -104.35   48.65  147.65  -15.35 -105.35 -105.35 -105.35 -105.35\n",
            "  -105.35 -105.35 -105.35 -105.35 -105.35 -105.35 -105.35 -105.35 -105.35\n",
            "  -105.35]\n",
            " [-105.35 -105.35 -105.35 -105.35 -105.35 -105.35 -105.35 -105.35 -105.35\n",
            "  -105.35 -105.35   33.65  147.65   84.65 -103.35 -105.35 -105.35 -105.35\n",
            "  -105.35 -105.35 -105.35 -105.35 -105.35 -105.35 -105.35 -105.35 -105.35\n",
            "  -105.35]\n",
            " [-105.35 -105.35 -105.35 -105.35 -105.35 -105.35 -105.35 -105.35 -105.35\n",
            "  -105.35 -105.35  -94.35   84.65  147.65  -35.35 -105.35 -105.35 -105.35\n",
            "  -105.35 -105.35 -105.35 -105.35 -105.35 -105.35 -105.35 -105.35 -105.35\n",
            "  -105.35]\n",
            " [-105.35 -105.35 -105.35 -105.35 -105.35 -105.35 -105.35 -105.35 -105.35\n",
            "  -105.35 -105.35 -105.35  -70.35  135.65  119.65   54.65    2.65 -104.35\n",
            "  -105.35 -105.35 -105.35 -105.35 -105.35 -105.35 -105.35 -105.35 -105.35\n",
            "  -105.35]\n",
            " [-105.35 -105.35 -105.35 -105.35 -105.35 -105.35 -105.35 -105.35 -105.35\n",
            "  -105.35 -105.35 -105.35 -105.35  -24.35  134.65  147.65  147.65   13.65\n",
            "   -80.35 -105.35 -105.35 -105.35 -105.35 -105.35 -105.35 -105.35 -105.35\n",
            "  -105.35]\n",
            " [-105.35 -105.35 -105.35 -105.35 -105.35 -105.35 -105.35 -105.35 -105.35\n",
            "  -105.35 -105.35 -105.35 -105.35 -105.35  -60.35   80.65  147.65  147.65\n",
            "    44.65  -78.35 -105.35 -105.35 -105.35 -105.35 -105.35 -105.35 -105.35\n",
            "  -105.35]\n",
            " [-105.35 -105.35 -105.35 -105.35 -105.35 -105.35 -105.35 -105.35 -105.35\n",
            "  -105.35 -105.35 -105.35 -105.35 -105.35 -105.35  -89.35  -12.35  146.65\n",
            "   147.65   81.65 -105.35 -105.35 -105.35 -105.35 -105.35 -105.35 -105.35\n",
            "  -105.35]\n",
            " [-105.35 -105.35 -105.35 -105.35 -105.35 -105.35 -105.35 -105.35 -105.35\n",
            "  -105.35 -105.35 -105.35 -105.35 -105.35 -105.35 -105.35 -105.35  143.65\n",
            "   147.65  143.65  -41.35 -105.35 -105.35 -105.35 -105.35 -105.35 -105.35\n",
            "  -105.35]\n",
            " [-105.35 -105.35 -105.35 -105.35 -105.35 -105.35 -105.35 -105.35 -105.35\n",
            "  -105.35 -105.35 -105.35 -105.35 -105.35  -59.35   24.65   77.65  147.65\n",
            "   147.65  101.65 -103.35 -105.35 -105.35 -105.35 -105.35 -105.35 -105.35\n",
            "  -105.35]\n",
            " [-105.35 -105.35 -105.35 -105.35 -105.35 -105.35 -105.35 -105.35 -105.35\n",
            "  -105.35 -105.35 -105.35  -66.35   42.65  123.65  147.65  147.65  147.65\n",
            "   144.65   76.65 -105.35 -105.35 -105.35 -105.35 -105.35 -105.35 -105.35\n",
            "  -105.35]\n",
            " [-105.35 -105.35 -105.35 -105.35 -105.35 -105.35 -105.35 -105.35 -105.35\n",
            "  -105.35  -81.35    8.65  115.65  147.65  147.65  147.65  147.65   95.65\n",
            "   -27.35 -105.35 -105.35 -105.35 -105.35 -105.35 -105.35 -105.35 -105.35\n",
            "  -105.35]\n",
            " [-105.35 -105.35 -105.35 -105.35 -105.35 -105.35 -105.35 -105.35  -82.35\n",
            "   -39.35  107.65  147.65  147.65  147.65  147.65   92.65  -24.35 -103.35\n",
            "  -105.35 -105.35 -105.35 -105.35 -105.35 -105.35 -105.35 -105.35 -105.35\n",
            "  -105.35]\n",
            " [-105.35 -105.35 -105.35 -105.35 -105.35 -105.35  -87.35   65.65  113.65\n",
            "   147.65  147.65  147.65  147.65   89.65  -25.35  -96.35 -105.35 -105.35\n",
            "  -105.35 -105.35 -105.35 -105.35 -105.35 -105.35 -105.35 -105.35 -105.35\n",
            "  -105.35]\n",
            " [-105.35 -105.35 -105.35 -105.35  -50.35   66.65  120.65  147.65  147.65\n",
            "   147.65  147.65  138.65   27.65  -94.35 -105.35 -105.35 -105.35 -105.35\n",
            "  -105.35 -105.35 -105.35 -105.35 -105.35 -105.35 -105.35 -105.35 -105.35\n",
            "  -105.35]\n",
            " [-105.35 -105.35 -105.35 -105.35   30.65  147.65  147.65  147.65  106.65\n",
            "    29.65   26.65  -89.35 -105.35 -105.35 -105.35 -105.35 -105.35 -105.35\n",
            "  -105.35 -105.35 -105.35 -105.35 -105.35 -105.35 -105.35 -105.35 -105.35\n",
            "  -105.35]\n",
            " [-105.35 -105.35 -105.35 -105.35 -105.35 -105.35 -105.35 -105.35 -105.35\n",
            "  -105.35 -105.35 -105.35 -105.35 -105.35 -105.35 -105.35 -105.35 -105.35\n",
            "  -105.35 -105.35 -105.35 -105.35 -105.35 -105.35 -105.35 -105.35 -105.35\n",
            "  -105.35]\n",
            " [-105.35 -105.35 -105.35 -105.35 -105.35 -105.35 -105.35 -105.35 -105.35\n",
            "  -105.35 -105.35 -105.35 -105.35 -105.35 -105.35 -105.35 -105.35 -105.35\n",
            "  -105.35 -105.35 -105.35 -105.35 -105.35 -105.35 -105.35 -105.35 -105.35\n",
            "  -105.35]\n",
            " [-105.35 -105.35 -105.35 -105.35 -105.35 -105.35 -105.35 -105.35 -105.35\n",
            "  -105.35 -105.35 -105.35 -105.35 -105.35 -105.35 -105.35 -105.35 -105.35\n",
            "  -105.35 -105.35 -105.35 -105.35 -105.35 -105.35 -105.35 -105.35 -105.35\n",
            "  -105.35]]\n"
          ],
          "name": "stdout"
        }
      ]
    },
    {
      "cell_type": "code",
      "metadata": {
        "colab": {
          "base_uri": "https://localhost:8080/",
          "height": 281
        },
        "id": "d4XWve_watGm",
        "outputId": "4bd5dc15-ad35-41e2-89e3-34c4e80f1f41"
      },
      "source": [
        "plt.imshow(image, 'gray', vmin = 0, vmax = 255)"
      ],
      "execution_count": 5,
      "outputs": [
        {
          "output_type": "execute_result",
          "data": {
            "text/plain": [
              "<matplotlib.image.AxesImage at 0x7f30f1e666d0>"
            ]
          },
          "metadata": {
            "tags": []
          },
          "execution_count": 5
        },
        {
          "output_type": "display_data",
          "data": {
            "image/png": "[encoded data removed]",
            "text/plain": [
              "<Figure size 432x288 with 1 Axes>"
            ]
          },
          "metadata": {
            "tags": [],
            "needs_background": "light"
          }
        }
      ]
    },
    {
      "cell_type": "code",
      "metadata": {
        "colab": {
          "base_uri": "https://localhost:8080/"
        },
        "id": "wxU1XZ7latJM",
        "outputId": "81a899be-6bd8-49fa-bed7-a48d8c1b7bee"
      },
      "source": [
        "X_train = X_train.astype(np.float)\n",
        "X_test = X_test.astype(np.float)\n",
        "X_train /= 255\n",
        "X_test /= 255\n",
        "print(X_train.max()) # 1.0\n",
        "print(X_train.min()) # 0.0\n",
        "\n",
        "X_train"
      ],
      "execution_count": 6,
      "outputs": [
        {
          "output_type": "stream",
          "text": [
            "1.0\n",
            "0.0\n"
          ],
          "name": "stdout"
        },
        {
          "output_type": "execute_result",
          "data": {
            "text/plain": [
              "array([[0., 0., 0., ..., 0., 0., 0.],\n",
              "       [0., 0., 0., ..., 0., 0., 0.],\n",
              "       [0., 0., 0., ..., 0., 0., 0.],\n",
              "       ...,\n",
              "       [0., 0., 0., ..., 0., 0., 0.],\n",
              "       [0., 0., 0., ..., 0., 0., 0.],\n",
              "       [0., 0., 0., ..., 0., 0., 0.]])"
            ]
          },
          "metadata": {
            "tags": []
          },
          "execution_count": 6
        }
      ]
    },
    {
      "cell_type": "code",
      "metadata": {
        "colab": {
          "base_uri": "https://localhost:8080/"
        },
        "id": "ajQG9zeye0-o",
        "outputId": "a3bd120d-bdc6-43ad-bb8a-f9c8c599a87d"
      },
      "source": [
        "from sklearn.model_selection import train_test_split\n",
        "\n",
        "X_train, X_val, y_train, y_val = train_test_split(X_train, y_train, test_size=0.2)\n",
        "print(X_train.shape) # (48000, 784)\n",
        "print(X_val.shape) # (12000, 784)"
      ],
      "execution_count": 7,
      "outputs": [
        {
          "output_type": "stream",
          "text": [
            "(48000, 784)\n",
            "(12000, 784)\n"
          ],
          "name": "stdout"
        }
      ]
    },
    {
      "cell_type": "code",
      "metadata": {
        "colab": {
          "base_uri": "https://localhost:8080/"
        },
        "id": "_SGGWDrjeX_W",
        "outputId": "13140b91-6b7c-4950-b49d-608d1958ef17"
      },
      "source": [
        "from sklearn.preprocessing import OneHotEncoder\n",
        "\n",
        "enc = OneHotEncoder(handle_unknown='ignore', sparse=False)\n",
        "y_train_one_hot = enc.fit_transform(y_train[:, np.newaxis])\n",
        "y_test_one_hot = enc.transform(y_val[:, np.newaxis])\n",
        "print(y_train.shape) # (60000,)\n",
        "print(y_train_one_hot.shape) # (60000, 10)\n",
        "print(y_train_one_hot.dtype) # float64"
      ],
      "execution_count": 8,
      "outputs": [
        {
          "output_type": "stream",
          "text": [
            "(48000,)\n",
            "(48000, 10)\n",
            "float64\n"
          ],
          "name": "stdout"
        }
      ]
    },
    {
      "cell_type": "code",
      "metadata": {
        "colab": {
          "base_uri": "https://localhost:8080/"
        },
        "id": "aYe1dlp2reEA",
        "outputId": "c3f081c6-cf38-4d86-b75c-6d57e4bcf939"
      },
      "source": [
        "print(X_train.shape, y_train_one_hot.shape, X_val.shape, y_test_one_hot.shape)"
      ],
      "execution_count": 9,
      "outputs": [
        {
          "output_type": "stream",
          "text": [
            "(48000, 784) (48000, 10) (12000, 784) (12000, 10)\n"
          ],
          "name": "stdout"
        }
      ]
    },
    {
      "cell_type": "code",
      "metadata": {
        "id": "WABzNR-O_v1u"
      },
      "source": [
        "class GetMiniBatch:\n",
        "    \"\"\"\n",
        "    ミニバッチを取得するイテレータ\n",
        "    Parameters\n",
        "    ----------\n",
        "    X : 次の形のndarray, shape (n_samples, n_features)\n",
        "      訓練データ\n",
        "    y : 次の形のndarray, shape (n_samples, 1)\n",
        "      正解値\n",
        "    batch_size : int\n",
        "      バッチサイズ\n",
        "    seed : int\n",
        "      NumPyの乱数のシード\n",
        "    \"\"\"\n",
        "    def __init__(self, X, y, batch_size = 20, seed=0):\n",
        "        self.batch_size = batch_size\n",
        "        np.random.seed(seed)\n",
        "        shuffle_index = np.random.permutation(np.arange(X.shape[0]))\n",
        "        self._X = X[shuffle_index]\n",
        "        self._y = y[shuffle_index]\n",
        "        self._stop = np.ceil(X.shape[0]/self.batch_size).astype(np.int)\n",
        "    def __len__(self):\n",
        "        return self._stop\n",
        "    def __getitem__(self,item):\n",
        "        p0 = item*self.batch_size\n",
        "        p1 = item*self.batch_size + self.batch_size\n",
        "        return self._X[p0:p1], self._y[p0:p1]        \n",
        "    def __iter__(self):\n",
        "        self._counter = 0\n",
        "        return self\n",
        "    def __next__(self):\n",
        "        if self._counter >= self._stop:\n",
        "            raise StopIteration()\n",
        "        p0 = self._counter*self.batch_size\n",
        "        p1 = self._counter*self.batch_size + self.batch_size\n",
        "        self._counter += 1\n",
        "        return self._X[p0:p1], self._y[p0:p1]"
      ],
      "execution_count": 10,
      "outputs": []
    },
    {
      "cell_type": "code",
      "metadata": {
        "colab": {
          "base_uri": "https://localhost:8080/"
        },
        "id": "1ZlndY4s_p6N",
        "outputId": "a3b962c0-dcb2-47ec-c55e-a5ecb0b34d8f"
      },
      "source": [
        "class ScratchSimpleNeuralNetrowkClassifier():\n",
        "    \"\"\"\n",
        "    シンプルな三層ニューラルネットワーク分類器\n",
        "    Parameters\n",
        "    ----------\n",
        "    Attributes\n",
        "    ----------\n",
        "    \"\"\"\n",
        "    def __init__(self, verbose = True):\n",
        "        self.verbose = verbose\n",
        "\n",
        "\n",
        "    def fit(self, X, y, X_val=None, y_val=None):\n",
        "        \"\"\"\n",
        "        ニューラルネットワーク分類器を学習する。\n",
        "        Parameters\n",
        "        ----------\n",
        "        X : 次の形のndarray, shape (n_samples, n_features)\n",
        "            訓練データの特徴量\n",
        "        y : 次の形のndarray, shape (n_samples, )\n",
        "            訓練データの正解値\n",
        "        X_val : 次の形のndarray, shape (n_samples, n_features)\n",
        "            検証データの特徴量\n",
        "        y_val : 次の形のndarray, shape (n_samples, )\n",
        "            検証データの正解値\n",
        "        \"\"\"\n",
        "        batch_size = 10 # バッチサイズ\n",
        "        n_features = 784 # 特徴量の数\n",
        "        n_nodes1 = 400 # 1層目のノード数\n",
        "        n_nodes2 = 200 # 2層目のノード数\n",
        "        n_output = 10 # 出力のクラス数（3層目のノード数）\n",
        "        n_epoch = 5\n",
        "        self.lr = 0.01\n",
        "        sigma = 0.01\n",
        "\n",
        "        self.loss_train = [] #訓練データのlossリスト\n",
        "        self.loss_test =[] #テストデータのlossリスト\n",
        "        \n",
        "\n",
        "\n",
        "        #問題1\n",
        "        #重みとバイアス初期値\n",
        "        #インプットの列数とアウトプットの行数を合わせる\n",
        "        self.W1 = sigma * np.random.randn(n_features, n_nodes1)\n",
        "        self.W2 = sigma * np.random.randn(n_nodes1, n_nodes2)\n",
        "        self.W3 = sigma * np.random.randn(n_nodes２, n_output)\n",
        "        self.b1 = np.random.randn(1, n_nodes1)\n",
        "        self.b2 = np.random.randn(1, n_nodes2)\n",
        "        self.b3 = np.random.randn(1, n_output)\n",
        "\n",
        "\n",
        "        #エポックループ\n",
        "        for epoch in range(n_epoch):\n",
        "          #ミニバッチ取得\n",
        "          get_mini_batch = GetMiniBatch(X, y, batch_size=batch_size)\n",
        "          #バッチループ\n",
        "          for mini_X_train, mini_y_train in get_mini_batch:\n",
        "            self.forward_propagation(mini_X_train)\n",
        "            self.backward_propagation(mini_X_train, mini_y_train)\n",
        "\n",
        "          self.forward_propagation(X)\n",
        "          self.loss_train.append(self._cross_entropy_error(y, self.z3))\n",
        "\n",
        "          if X_val is not None:\n",
        "            self.forward_propagation(X_val)\n",
        "            self.loss_test.append(self._cross_entropy_error(y_val, self.z3))\n",
        "\n",
        "\n",
        "        if self.verbose:\n",
        "            #verboseをTrueにした際は学習過程などを出力する\n",
        "            print()\n",
        "\n",
        "        return self\n",
        "\n",
        "\n",
        "\n",
        "    def forward_propagation(self,X):\n",
        "        #問題2\n",
        "        # フォワードプロパケージョン\n",
        "        #一層目\n",
        "        self.a1 = np.dot(X, self.W1) + self.b1 #Xに対して重み、バイアスをかける\n",
        "        self.z1 = np.tanh(self.a1) #活性化関数\n",
        "\n",
        "        #2層目\n",
        "        self.a2 = np.dot(self.z1, self.W2) + self.b2\n",
        "        self.z2 = np.tanh(self.a2)\n",
        "\n",
        "        #3層目\n",
        "        self.a3 = np.dot(self.z2, self.W3) + self.b3\n",
        "        self.z3 = self.softmax(self.a3) #各配列に対する確率\n",
        "\n",
        "\n",
        "\n",
        "    def backward_propagation(self, X, y):\n",
        "        # #問題4\n",
        "        # # バックプロパケージョン\n",
        "        # #3層目\n",
        "        back_a3 = self.z3 - y\n",
        "        back_b3 = np.sum(back_a3, axis=0)\n",
        "        back_W3 = np.dot(self.z2.T, back_a3)\n",
        "\n",
        "        #2層目\n",
        "        back_z2 = np.dot(back_a3, self.W3.T)\n",
        "        back_a2 = back_z2 * (1 - np.tanh(self.a2) ** 2)\n",
        "        back_b2 = np.sum(back_a2, axis=0)\n",
        "        back_W2 = np.dot(self.z1.T, back_a2)\n",
        "        \n",
        "        #1層目\n",
        "        back_z1 = np.dot(back_a2, self.W2.T)\n",
        "        back_a1 = back_z1 * (1 - np.tanh(self.a1) ** 2)\n",
        "        back_b1 = np.sum(back_a1, axis=0)\n",
        "        back_W1 = np.dot(X.T, back_a1)\n",
        "\n",
        "        #パラメータ更新\n",
        "        self.W3 -= self.lr * back_W3\n",
        "        self.b3 -=  self.lr * back_b3\n",
        "        self.W2 -= self.lr * back_W2\n",
        "        self.b2 -=  self.lr * back_b2\n",
        "        self.W1 -= self.lr * back_W1\n",
        "        self.b1 -= self.lr * back_b1\n",
        "\n",
        "\n",
        "    def softmax(self, A):\n",
        "        return np.exp(A) / np.sum(np.exp(A), axis=1).reshape(-1, 1)\n",
        "\n",
        "\n",
        "\n",
        "    def _cross_entropy_error(self, y, z):\n",
        "        delta = 1e-7\n",
        "        loss = -np.sum(y * np.log(z) + delta) / len(y)\n",
        "        \n",
        "        return loss\n",
        "\n",
        "\n",
        "\n",
        "    def predict(self, X):\n",
        "        \"\"\"\n",
        "        ニューラルネットワーク分類器を使い推定する。\n",
        "        Parameters\n",
        "        ----------\n",
        "        X : 次の形のndarray, shape (n_samples, n_features)\n",
        "            サンプル\n",
        "        Returns\n",
        "        -------\n",
        "            次の形のndarray, shape (n_samples, 1)\n",
        "            推定結果\n",
        "        \"\"\"\n",
        "        self.forward_propagation(X)\n",
        "        return np.argmax(self.z3, axis=1)\n",
        "\n",
        "      \n",
        "a = ScratchSimpleNeuralNetrowkClassifier().fit(X_train, y_train_one_hot, X_val, y_test_one_hot)\n",
        "print(a.loss_train)\n",
        "print(a.loss_test)"
      ],
      "execution_count": 33,
      "outputs": [
        {
          "output_type": "stream",
          "text": [
            "\n",
            "[0.20036076978606762, 0.11858122713274369, 0.08848054503133312, 0.08084136895512513, 0.05816523522130291]\n",
            "[0.23511157896114093, 0.16025284424227712, 0.13725137155729736, 0.14055532102960425, 0.12616625374289656]\n"
          ],
          "name": "stdout"
        }
      ]
    },
    {
      "cell_type": "markdown",
      "metadata": {
        "id": "Z2CsF2My_8zr"
      },
      "source": [
        "# 【問題1】重みの初期値を決めるコードの作成\n",
        "ニューラルネットワークの各層の重みの初期値を決めるコードを作成してください。\n",
        "\n",
        "\n",
        "重みの初期値はさまざまな方法が提案されていますが、今回はガウス分布による単純な初期化を行います。バイアスに関しても同様です。\n",
        "\n",
        "\n",
        "以下のコードを参考にしてください。標準偏差の値sigmaはハイパーパラメータです。発展的な重みの初期化方法については次のSprintで扱います。"
      ]
    },
    {
      "cell_type": "code",
      "metadata": {
        "id": "nb497K5v0FRB"
      },
      "source": [
        "#上方へ実装済み"
      ],
      "execution_count": null,
      "outputs": []
    },
    {
      "cell_type": "markdown",
      "metadata": {
        "id": "mNKRF9AkEt07"
      },
      "source": [
        "# 【問題2】フォワードプロパゲーションの実装\n",
        "三層のニューラルネットワークの フォワードプロパゲーション を作成してください。以下の説明ではノード数は1層目は400、2層目は200としますが、変更しても構いません。\n",
        "\n",
        "\n",
        "各層の数式を以下に示します。今回はそれぞれの記号が表す配列が、実装上どのようなndarrayのshapeになるかを併記してあります。"
      ]
    },
    {
      "cell_type": "code",
      "metadata": {
        "id": "7XWG81tIErBc"
      },
      "source": [
        "#上方へ実装済み"
      ],
      "execution_count": null,
      "outputs": []
    },
    {
      "cell_type": "markdown",
      "metadata": {
        "id": "fDE7nz5YKVWA"
      },
      "source": [
        "# 【問題3】交差エントロピー誤差の実装\n",
        "目的関数（損失関数）を作成します。\n",
        "\n",
        "\n",
        "多クラス分類の目的関数である交差エントロピー誤差 \n",
        "L\n",
        " は次の数式です。\n",
        "\n",
        "\n",
        "L\n",
        "=\n",
        "−\n",
        "1\n",
        "n\n",
        "b\n",
        "n\n",
        "b\n",
        "∑\n",
        "j\n",
        "  \n",
        "n\n",
        "c\n",
        "∑\n",
        "k\n",
        " \n",
        "y\n",
        "j\n",
        "k\n",
        "l\n",
        "o\n",
        "g\n",
        "(\n",
        "z\n",
        "3\n",
        "_\n",
        "j\n",
        "k\n",
        ")\n",
        "\n",
        "y\n",
        "i\n",
        "j\n",
        " : \n",
        "j\n",
        " 番目のサンプルの \n",
        "k\n",
        " 番目のクラスの正解ラベル（one-hot表現で0か1のスカラー）\n",
        "\n",
        "\n",
        "z\n",
        "3\n",
        "i\n",
        "j\n",
        " : \n",
        "j\n",
        " 番目のサンプルの \n",
        "k\n",
        " 番目のクラスの確率（スカラー）\n",
        "\n",
        "\n",
        "n\n",
        "b\n",
        " : バッチサイズ、batch_size\n",
        "\n",
        "\n",
        "n\n",
        "c\n",
        " : クラスの数、n_output（今回のMNISTでは10）\n",
        "\n",
        "\n",
        "サンプル1つあたりの誤差が求まります。\n",
        "\n",
        "\n",
        "実数におけるlog(x)の定義域は0 < xです。したがって、logの中身がとても小さい値になってしまったときエラーを起こします。そこでlogの中に1e-7を足すことでエラーを回避できます。\n",
        "\n",
        "\n",
        "こういった処理はlogに限らず、さまざまな場所で出てくることがあります。"
      ]
    },
    {
      "cell_type": "code",
      "metadata": {
        "id": "P0eRaIIw__hk"
      },
      "source": [
        "#上方へ実装済み"
      ],
      "execution_count": null,
      "outputs": []
    },
    {
      "cell_type": "markdown",
      "metadata": {
        "id": "BgAavpt1hPgM"
      },
      "source": [
        "# 【問題4】バックプロパゲーションの実装\n",
        "三層のニューラルネットワークのバックプロパゲーションを作成してください。確率的勾配降下法を行う部分です。\n",
        "\n",
        "\n",
        "数式を以下に示します。\n",
        "\n",
        "\n",
        "まず、i層目の重みとバイアスの更新式です。 \n",
        "W\n",
        "i\n",
        " と \n",
        "B\n",
        "i\n",
        " に対し、更新後の \n",
        "W\n",
        "′\n",
        "i\n",
        " と \n",
        "B\n",
        "′\n",
        "i\n",
        " は次の数式で求められます。\n",
        "\n",
        "\n",
        "W\n",
        "′\n",
        "i\n",
        "=\n",
        "W\n",
        "i\n",
        "−\n",
        "α\n",
        "∂\n",
        "L\n",
        "∂\n",
        "W\n",
        "i\n",
        "B\n",
        "′\n",
        "i\n",
        "=\n",
        "B\n",
        "i\n",
        "−\n",
        "α\n",
        "∂\n",
        "L\n",
        "∂\n",
        "B\n",
        "i\n",
        "\n",
        "α\n",
        " : 学習率（層ごとに変えることも可能だが、基本的にはすべて同じとする）\n",
        "\n",
        "\n",
        "∂\n",
        "L\n",
        "∂\n",
        "W\n",
        "i\n",
        " : \n",
        "W\n",
        "i\n",
        " に関する損失 \n",
        "L\n",
        " の勾配\n",
        "\n",
        "\n",
        "∂\n",
        "L\n",
        "∂\n",
        "B\n",
        "i\n",
        " : \n",
        "B\n",
        "i\n",
        " に関する損失 \n",
        "L\n",
        " の勾配\n",
        "\n",
        "\n",
        "＊この勾配はミニバッチのサンプル数分の合計または平均を考えます。ここでは合計を計算します。\n",
        "\n",
        "\n",
        "この更新方法はSprint3線形回帰やsprint4ロジスティック回帰における最急降下法と同様です。より効果的な更新方法が知られており、それは次のSprintで扱います。\n",
        "\n",
        "\n",
        "勾配 \n",
        "∂\n",
        "L\n",
        "∂\n",
        "W\n",
        "i\n",
        " や \n",
        "∂\n",
        "L\n",
        "∂\n",
        "B\n",
        "i\n",
        " を求めるために、バックプロパゲーションを行います。以下の数式です。ハイパボリックタンジェント関数を使用した例を載せました。シグモイド関数の場合の数式はその後ろにあります。"
      ]
    },
    {
      "cell_type": "code",
      "metadata": {
        "id": "PZeviZ_7__kn"
      },
      "source": [
        "#上方へ実装済み"
      ],
      "execution_count": null,
      "outputs": []
    },
    {
      "cell_type": "markdown",
      "metadata": {
        "id": "lHoNW9kI0OG5"
      },
      "source": [
        "# 【問題5】推定\n",
        "推定を行うメソッドを作成してください。\n",
        "\n",
        "\n",
        "フォワードプロパゲーションによって出力された10個の確率の中で、最も高いものはどれかを判定します。"
      ]
    },
    {
      "cell_type": "code",
      "metadata": {
        "colab": {
          "base_uri": "https://localhost:8080/"
        },
        "id": "rF_SWX5R13Nq",
        "outputId": "616bb82a-a4aa-4467-bb44-409beae5f7d9"
      },
      "source": [
        "Y_pred_train = a.predict(X_train)\n",
        "Y_pred_test = a.predict(X_val)\n",
        "\n",
        "print(Y_pred_train)\n",
        "print(Y_pred_test)"
      ],
      "execution_count": 34,
      "outputs": [
        {
          "output_type": "stream",
          "text": [
            "[3 5 9 ... 1 1 2]\n",
            "[4 9 5 ... 9 9 1]\n"
          ],
          "name": "stdout"
        }
      ]
    },
    {
      "cell_type": "markdown",
      "metadata": {
        "id": "Cng3XdeH05EJ"
      },
      "source": [
        "# 【問題6】学習と推定\n",
        "MNISTのデータを学習・推定し、Accuracyを計算してください。"
      ]
    },
    {
      "cell_type": "code",
      "metadata": {
        "colab": {
          "base_uri": "https://localhost:8080/"
        },
        "id": "bpNBynDC1PS9",
        "outputId": "c3e3e44f-5501-484e-90a8-a2ee53872276"
      },
      "source": [
        "from sklearn.metrics import accuracy_score\n",
        "accuracy_score(y_train, Y_pred_train)"
      ],
      "execution_count": 35,
      "outputs": [
        {
          "output_type": "execute_result",
          "data": {
            "text/plain": [
              "0.9803541666666666"
            ]
          },
          "metadata": {
            "tags": []
          },
          "execution_count": 35
        }
      ]
    },
    {
      "cell_type": "markdown",
      "metadata": {
        "id": "aOj5cxhL05Hz"
      },
      "source": [
        "# 【問題7】学習曲線のプロット\n",
        "学習曲線をプロットしてください。\n",
        "\n",
        "\n",
        "ニューラルネットワークは過学習が発生しやすいため、学習曲線の確認が重要です。訓練データと検証データに対するエポックごとの損失（交差エントロピー誤差）を記録できるようにする必要があります。"
      ]
    },
    {
      "cell_type": "code",
      "metadata": {
        "colab": {
          "base_uri": "https://localhost:8080/",
          "height": 294
        },
        "id": "ZLqh14QT1SPE",
        "outputId": "e1f653cb-ff8c-4563-e5be-253eadbccfb1"
      },
      "source": [
        "plt.title('loss of MNIST')\n",
        "plt.xlabel('epoch')\n",
        "plt.ylabel('loss')\n",
        "\n",
        "plt.plot(a.loss_train, label='train')\n",
        "plt.plot(a.loss_test, label='test')\n",
        "plt.legend();"
      ],
      "execution_count": 36,
      "outputs": [
        {
          "output_type": "display_data",
          "data": {
            "image/png": "[encoded data removed]",
            "text/plain": [
              "<Figure size 432x288 with 1 Axes>"
            ]
          },
          "metadata": {
            "tags": [],
            "needs_background": "light"
          }
        }
      ]
    }
  ]
}