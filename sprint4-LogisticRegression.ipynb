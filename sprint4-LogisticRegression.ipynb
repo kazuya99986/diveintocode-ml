{
  "nbformat": 4,
  "nbformat_minor": 0,
  "metadata": {
    "colab": {
      "name": "Untitled31.ipynb",
      "provenance": [],
      "collapsed_sections": []
    },
    "kernelspec": {
      "name": "python3",
      "display_name": "Python 3"
    },
    "language_info": {
      "name": "python"
    }
  },
  "cells": [
    {
      "cell_type": "markdown",
      "metadata": {
        "id": "V6-W3_F6sJN4"
      },
      "source": [
        "# Sprint4_ロジスティック回帰"
      ]
    },
    {
      "cell_type": "code",
      "metadata": {
        "id": "kyPQnLl1ukXt"
      },
      "source": [
        "import pandas as pd\n",
        "import numpy as np\n",
        "from sklearn.model_selection import train_test_split\n",
        "from sklearn.preprocessing import StandardScaler\n",
        "from sklearn.datasets import load_iris\n",
        "\n",
        "data = load_iris()\n",
        "X = np.array(data.data)\n",
        "y = np.array(data.target).reshape(150,1)\n",
        "\n",
        "temp = np.concatenate((X,y),axis=1)\n",
        "temp = temp[temp[:,4] > 0] #virgicolorとvirginica抽出\n",
        "temp[:,4] = np.where(temp[:,4] < 2, 0, 1) #virgicolorを0, virginicaを1へ置換\n",
        "\n",
        "X = temp[:,:4]\n",
        "y = temp[:,-1].reshape(100,1)\n",
        "\n",
        "X_train, X_test, y_train, y_test = train_test_split(X, y, train_size=0.8)\n",
        "\n",
        "scaler = StandardScaler()\n",
        "X_train_scaled = scaler.fit_transform(X_train)\n",
        "X_test_scaled = scaler.transform(X_test)"
      ],
      "execution_count": 2,
      "outputs": []
    },
    {
      "cell_type": "code",
      "metadata": {
        "colab": {
          "base_uri": "https://localhost:8080/"
        },
        "id": "igD-Eux-tT1M",
        "outputId": "7c0c3118-6abe-4f6f-d255-3a07df032aeb"
      },
      "source": [
        "class ScratchLogisticRegression():\n",
        "    \"\"\"\n",
        "    ロジスティック回帰のスクラッチ実装\n",
        "    Parameters\n",
        "    ----------\n",
        "    num_iter : int\n",
        "      イテレーション数\n",
        "    lr : float\n",
        "      学習率\n",
        "    no_bias : bool\n",
        "      バイアス項を入れない場合はTrue\n",
        "    verbose : bool\n",
        "      学習過程を出力する場合はTrue\n",
        "    Attributes\n",
        "    ----------\n",
        "    self.coef_ : 次の形のndarray, shape (n_features,)\n",
        "      パラメータ\n",
        "    self.loss : 次の形のndarray, shape (self.iter,)\n",
        "      訓練データに対する損失の記録\n",
        "    self.val_loss : 次の形のndarray, shape (self.iter,)\n",
        "      検証データに対する損失の記録\n",
        "    \"\"\"\n",
        "\n",
        "    def __init__(self, num_iter, lr, bias, verbose):\n",
        "        # ハイパーパラメータを属性として記録\n",
        "        self.iter = num_iter\n",
        "        self.lr = lr\n",
        "        self.bias = bias\n",
        "        self.verbose = verbose\n",
        "        # 損失を記録する配列を用意\n",
        "        self.loss = np.zeros(self.iter)\n",
        "        self.val_loss = np.zeros(self.iter)\n",
        "\n",
        "\n",
        "    def fit(self, X, y, X_val=None, y_val=None):\n",
        "        \"\"\"\n",
        "        ロジスティック回帰を学習する。検証データが入力された場合はそれに対する損失と精度もイテレーションごとに計算する。\n",
        "        Parameters\n",
        "        ----------\n",
        "        X : 次の形のndarray, shape (n_samples, n_features)\n",
        "            訓練データの特徴量\n",
        "        y : 次の形のndarray, shape (n_samples, )\n",
        "            訓練データの正解値\n",
        "        X_val : 次の形のndarray, shape (n_samples, n_features)\n",
        "            検証データの特徴量\n",
        "        y_val : 次の形のndarray, shape (n_samples, )\n",
        "            検証データの正解値\n",
        "        \"\"\"\n",
        "\n",
        "        self.n_samples, self.n_features = X.shape\n",
        "        self.theta = np.zeros((self.n_features,1))\n",
        "        \n",
        "        #メイン処理\n",
        "        for i in range(self.iter):\n",
        "\n",
        "            hypothesis = np.dot(X, self.theta) + self.bias\n",
        "\n",
        "            if X_val is not None and y_val is not None:\n",
        "              hypothesis_val = np.dot(X_val, self.theta) + self.bias\n",
        "\n",
        "            #問題1（仮定関数の計算）\n",
        "            Y_pred = self._sigmoid(hypothesis)\n",
        "            \n",
        "            if X_val is not None and y_val is not None:\n",
        "              Y_val_pred = self._sigmoid(hypothesis_val)\n",
        "\n",
        "\n",
        "            #問題2（勾配降下法の計算）\n",
        "            self._gradient_descent(X, y, Y_pred)\n",
        "\n",
        "            #問題4（目的関数の計算）\n",
        "            self._loss(y, Y_pred, i, y_val=y_val, Y_val_pred=Y_val_pred)\n",
        "\n",
        "            # if X_val is not None and y_val is not None:\n",
        "\n",
        "\n",
        "        if self.verbose:\n",
        "            #verboseをTrueにした際は学習過程を出力\n",
        "            print()\n",
        "        return\n",
        "\n",
        "\n",
        "\n",
        "    # 問題1（仮定関数の計算）\n",
        "    def _sigmoid(self, X):\n",
        "        \"\"\"\n",
        "        線形の仮定関数を計算する\n",
        "\n",
        "        Parameters\n",
        "        ----------\n",
        "        X : 次の形のndarray, shape (n_samples, n_features)\n",
        "          学習データ\n",
        "        theta：　\n",
        "        　　　　パラメータベクトル（傾き）\n",
        "\n",
        "        Returns\n",
        "        -------\n",
        "        Y_pred：　次の形のndarray, shape (n_samples, n_features)\n",
        "          仮定関数による推定結果\n",
        "        \"\"\"\n",
        "\n",
        "        Y_pred = 1 / ( 1 + np.exp( - X ) )\n",
        "\n",
        "        return Y_pred\n",
        "\n",
        "    # 問題2（勾配降下法の計算）\n",
        "    def _gradient_descent(self, X, y, Y_pred):\n",
        "        \"\"\"\n",
        "        線形の仮定関数を計算する\n",
        "\n",
        "        Parameters\n",
        "        ----------\n",
        "        X : 次の形のndarray, shape (n_samples, n_features)\n",
        "            訓練データの特徴量\n",
        "        y : 次の形のndarray, shape (n_samples, )\n",
        "            訓練データの正解値\n",
        "        Y_pred：\n",
        "        　　　　　　　予測値\n",
        "\n",
        "        Returns\n",
        "        -------\n",
        "\n",
        "        \"\"\"\n",
        "        dw = ( 1 / self.n_samples) * np.dot(X.T, ( Y_pred - y ) )\n",
        "        db = ( 1 / self.n_samples) * np.sum( Y_pred - y )\n",
        "\n",
        "        self.theta -= self.lr * dw\n",
        "        self.bias -= self.lr * db\n",
        "\n",
        "        return\n",
        "    \n",
        "    #問題3（推定）\n",
        "    def predict(self, X):\n",
        "        \"\"\"\n",
        "        ロジスティック回帰を使いラベルを推定する。\n",
        "        Parameters\n",
        "        ----------\n",
        "        X : 次の形のndarray, shape (n_samples, n_features)\n",
        "            訓練データの特徴量\n",
        "        Returns\n",
        "        -------\n",
        "        Y_pred_cls\n",
        "            ロジスティック回帰による推定結果\n",
        "        \"\"\"\n",
        "        hypothesis = np.dot(X, self.theta) + self.bias\n",
        "        Y_pred = self._sigmoid(hypothesis)\n",
        "        Y_pred_cls = [1 if i > 0.5 else 0 for i in Y_pred]\n",
        "        \n",
        "        return Y_pred_cls\n",
        "    \n",
        "    #問題3（推定）\n",
        "    def predict_probs(self, X):\n",
        "        \"\"\"\n",
        "        ロジスティック回帰を使い確率を推定する。\n",
        "        Parameters\n",
        "        ----------\n",
        "        X : 次の形のndarray, shape (n_samples, n_features)\n",
        "            訓練データの特徴量\n",
        "        Returns\n",
        "        -------\n",
        "            次の形のndarray, shape (n_samples, 1)\n",
        "            ロジスティック回帰による推定結果\n",
        "        \"\"\"\n",
        "\n",
        "        return self._sigmoid(np.dot(X, self.theta))\n",
        "    \n",
        "    #問題4（目的関数）\n",
        "    def _loss(self, y, Y_pred, i, y_val=None, Y_val_pred=None):\n",
        "      　　　\"\"\"\n",
        "        目的関数。thetaの調整具合を記録する\n",
        "        Parameters\n",
        "        ----------\n",
        "        y : 次の形のndarray, shape (n_samples, )\n",
        "            訓練データの正解値\n",
        "        Y_pred：\n",
        "  　　　　　　　　　　　　　　　　　y（訓練データ）の予測値\n",
        "        y_val : 次の形のndarray, shape (n_samples, )\n",
        "            検証データの正解値\n",
        "        y_val_pred：\n",
        "        　　　　　　y_val（検証データ）の予測値\n",
        "      　　　i:\n",
        "            イテレーション回数\n",
        "\n",
        "        Returns\n",
        "        -------\n",
        "        \n",
        "        \"\"\"\n",
        "        j = (-y * np.log1p(Y_pred) - ( 1 - y ) * np.log1p( 1 - Y_pred ) ).mean()\n",
        "        self.loss[i] = j\n",
        "\n",
        "        if y_val is not None:\n",
        "          j_val = (-y_val * np.log1p(Y_val_pred) - ( 1 - y_val ) * np.log1p( 1 - Y_val_pred ) ).mean()\n",
        "          self.val_loss[i] = j_val\n",
        "        \n",
        "        return\n",
        "\n",
        "num_iter = 1000\n",
        "lr = 0.1\n",
        "bias = 0\n",
        "verbose=0\n",
        "\n",
        "a = ScratchLogisticRegression(num_iter=num_iter, lr=lr, bias=bias, verbose=verbose)\n",
        "a.fit(X_train,y_train, X_test, y_test)\n",
        "Y_pred_probs = a.predict_probs(X_test)\n",
        "print('Predicted probs')\n",
        "print(Y_pred_probs)\n",
        "Y_pred = a.predict(X_test)\n",
        "print()\n",
        "print(f'Y_pred: {Y_pred}')\n",
        "print(f'y_test: {y_test.reshape(-1,)}')"
      ],
      "execution_count": 29,
      "outputs": [
        {
          "output_type": "stream",
          "text": [
            "Predicted probs\n",
            "[[0.29876878]\n",
            " [0.99481103]\n",
            " [0.91236624]\n",
            " [0.73997259]\n",
            " [0.06873466]\n",
            " [0.13684986]\n",
            " [0.03271322]\n",
            " [0.98644618]\n",
            " [0.11839171]\n",
            " [0.20563352]\n",
            " [0.28853049]\n",
            " [0.97756369]\n",
            " [0.9722403 ]\n",
            " [0.38212385]\n",
            " [0.99758911]\n",
            " [0.99443659]\n",
            " [0.87632388]\n",
            " [0.8781428 ]\n",
            " [0.26890154]\n",
            " [0.98718932]]\n",
            "\n",
            "Y_pred: [0, 1, 1, 0, 0, 0, 0, 1, 0, 0, 0, 1, 1, 0, 1, 1, 1, 1, 0, 1]\n",
            "y_test: [0. 1. 1. 0. 0. 0. 0. 1. 0. 0. 0. 1. 1. 0. 1. 1. 0. 1. 0. 1.]\n"
          ],
          "name": "stdout"
        }
      ]
    },
    {
      "cell_type": "code",
      "metadata": {
        "colab": {
          "base_uri": "https://localhost:8080/"
        },
        "id": "eHmRaemUXTbI",
        "outputId": "51dceeb8-7b5e-4211-ec5b-371915ffa1f9"
      },
      "source": [
        "from sklearn.metrics import precision_score\n",
        "from sklearn.metrics import recall_score\n",
        "from sklearn.metrics import f1_score\n",
        "from sklearn.metrics import accuracy_score\n",
        "from sklearn.metrics import confusion_matrix\n",
        "\n",
        "print(f'accuracy_score : {accuracy_score(y_test, Y_pred):.2%}')#正解率（正解の割合）\n",
        "print(f'precision_score : {precision_score(y_test, Y_pred):.2%}')#適合率（陽性と予測されたサンプルのうち正解したサンプルの割合）\n",
        "print(f'recall_score : {recall_score(y_test, Y_pred):.2%}.')#再現率（実際に陽性のサンプルのうち正解したサンプルの割合）\n",
        "print(f'f1_score : {f1_score(y_test, Y_pred):.2%}')#F値（適合率と再現率の調和平均）\n",
        "print('confusion_matrix :')#混同行列\n",
        "print(confusion_matrix(y_test, Y_pred))"
      ],
      "execution_count": 27,
      "outputs": [
        {
          "output_type": "stream",
          "text": [
            "accuracy_score : 95.00%\n",
            "precision_score : 90.00%\n",
            "recall_score : 100.00%.\n",
            "f1_score : 94.74%\n",
            "confusion_matrix :\n",
            "[[10  1]\n",
            " [ 0  9]]\n"
          ],
          "name": "stdout"
        }
      ]
    },
    {
      "cell_type": "markdown",
      "metadata": {
        "id": "t36H58xusRkd"
      },
      "source": [
        "# 【問題1】仮定関数\n",
        "ロジスティック回帰の仮定関数のメソッドをScratchLogisticRegressionクラスに実装してください。"
      ]
    },
    {
      "cell_type": "code",
      "metadata": {
        "id": "CyHUHLVVtTEB"
      },
      "source": [
        "#上方クラスへ実装済み\n",
        "def _sigmoid(self, X):\n",
        "    \"\"\"\n",
        "    線形の仮定関数を計算する\n",
        "\n",
        "    Parameters\n",
        "    ----------\n",
        "    X : 次の形のndarray, shape (n_samples, n_features)\n",
        "      学習データ\n",
        "    theta：　\n",
        "    　　　　パラメータベクトル（傾き）\n",
        "\n",
        "    Returns\n",
        "    -------\n",
        "    Y_pred：　次の形のndarray, shape (n_samples, n_features)\n",
        "      仮定関数による推定結果\n",
        "    \"\"\"\n",
        "\n",
        "    Y_pred = 1 / ( 1 + np.exp( - X ) )\n",
        "\n",
        "    return Y_pred"
      ],
      "execution_count": null,
      "outputs": []
    },
    {
      "cell_type": "markdown",
      "metadata": {
        "id": "sVYbW-0hsSZK"
      },
      "source": [
        "# 【問題2】最急降下法\n",
        "最急降下法により学習させる実装を行なってください。以下の式で表されるパラメータの更新式のメソッド_gradient_descentを追加し、fit\n",
        "メソッドから呼び出すようにしてください。"
      ]
    },
    {
      "cell_type": "code",
      "metadata": {
        "id": "iO3F_0yJY7rc"
      },
      "source": [
        "#上方クラスへ実装済み\n",
        "def _gradient_descent(self, X, y, Y_pred):\n",
        "    \"\"\"\n",
        "    線形の仮定関数を計算する\n",
        "\n",
        "    Parameters\n",
        "    ----------\n",
        "    X : 次の形のndarray, shape (n_samples, n_features)\n",
        "      学習データ\n",
        "    theta：　\n",
        "    　　　　パラメータベクトル（傾き）\n",
        "\n",
        "    Returns\n",
        "    -------\n",
        "    Y_pred：　次の形のndarray, shape (n_samples, n_features)\n",
        "      仮定関数による推定結果\n",
        "    \"\"\"\n",
        "    dw = ( 1 / self.n_samples) * np.dot(X.T, ( Y_pred - y ) )\n",
        "    db = ( 1 / self.n_samples) * np.sum( Y_pred - y )\n",
        "\n",
        "    self.theta -= self.lr * dw\n",
        "    self.bias -= self.lr * db\n",
        "\n",
        "    return"
      ],
      "execution_count": null,
      "outputs": []
    },
    {
      "cell_type": "markdown",
      "metadata": {
        "id": "HkWqoQVHsSbw"
      },
      "source": [
        "# 【問題3】推定\n",
        "推定する仕組みを実装してください。ScratchLogisticRegressionクラスの雛形に含まれるpredictメソッドとpredict_probaメソッドに書き加えてください。"
      ]
    },
    {
      "cell_type": "code",
      "metadata": {
        "id": "CNcGf76na0mM"
      },
      "source": [
        "#上方クラスへ実装済み\n",
        "def predict(self, X):\n",
        "    \"\"\"\n",
        "    ロジスティック回帰を使いラベルを推定する。\n",
        "    Parameters\n",
        "    ----------\n",
        "    X : 次の形のndarray, shape (n_samples, n_features)\n",
        "        訓練データの特徴量\n",
        "    Returns\n",
        "    -------\n",
        "    Y_pred_cls\n",
        "        ロジスティック回帰による推定結果\n",
        "    \"\"\"\n",
        "    hypothesis = np.dot(X, self.theta) + self.bias\n",
        "    Y_pred = self._sigmoid(hypothesis)\n",
        "    Y_pred_cls = [1 if i > 0.5 else 0 for i in Y_pred]\n",
        "    \n",
        "    return Y_pred_cls\n",
        "\n",
        "#問題3（推定）\n",
        "def predict_probs(self, X):\n",
        "    \"\"\"\n",
        "    ロジスティック回帰を使い確率を推定する。\n",
        "    Parameters\n",
        "    ----------\n",
        "    X : 次の形のndarray, shape (n_samples, n_features)\n",
        "        訓練データの特徴量\n",
        "    Returns\n",
        "    -------\n",
        "        次の形のndarray, shape (n_samples, 1)\n",
        "        ロジスティック回帰による推定結果\n",
        "    \"\"\"\n",
        "\n",
        "    return self._sigmoid(np.dot(X, self.theta))"
      ],
      "execution_count": null,
      "outputs": []
    },
    {
      "cell_type": "markdown",
      "metadata": {
        "id": "qfZwozxBsSeT"
      },
      "source": [
        "# 【問題4】目的関数\n",
        "以下の数式で表されるロジスティック回帰の 目的関数（損失関数） を実装してください。そして、これをself.loss, self.val_lossに記録するようにしてください。"
      ]
    },
    {
      "cell_type": "code",
      "metadata": {
        "id": "uARLGpGSa-d7"
      },
      "source": [
        "#上方クラスへ実装済み\n",
        "def _loss(self, y, Y_pred, i, y_val=None, Y_val_pred=None):\n",
        "  　　　\"\"\"\n",
        "    目的関数。thetaの調整具合を記録する\n",
        "    Parameters\n",
        "    ----------\n",
        "    y : 次の形のndarray, shape (n_samples, )\n",
        "        訓練データの正解値\n",
        "    Y_pred：\n",
        "　　　　　　　　　　　　　　　　　y（訓練データ）の予測値\n",
        "    y_val : 次の形のndarray, shape (n_samples, )\n",
        "        検証データの正解値\n",
        "    y_val_pred：\n",
        "    　　　　　　y_val（検証データ）の予測値\n",
        "  　　　i:\n",
        "        イテレーション回数\n",
        "\n",
        "    Returns\n",
        "    -------\n",
        "    \n",
        "    \"\"\"\n",
        "    j = (-y * np.log1p(Y_pred) - ( 1 - y ) * np.log1p( 1 - Y_pred ) ).mean()\n",
        "    self.loss[i] = j\n",
        "\n",
        "    if y_val is not None:\n",
        "      j_val = (-y_val * np.log1p(Y_val_pred) - ( 1 - y_val ) * np.log1p( 1 - Y_val_pred ) ).mean()\n",
        "      self.val_loss[i] = j_val\n",
        "    \n",
        "    return"
      ],
      "execution_count": null,
      "outputs": []
    },
    {
      "cell_type": "markdown",
      "metadata": {
        "id": "jRQXvdbssShJ"
      },
      "source": [
        "# 【問題5】学習と推定\n",
        "機械学習スクラッチ入門のSprintで用意したirisデータセットのvirgicolorとvirginicaの2値分類に対してスクラッチ実装の学習と推定を行なってください。"
      ]
    },
    {
      "cell_type": "code",
      "metadata": {
        "id": "sWbeyYGDbDp4"
      },
      "source": [
        "#上方へ実装済み"
      ],
      "execution_count": null,
      "outputs": []
    },
    {
      "cell_type": "markdown",
      "metadata": {
        "id": "n8QJ8cNKsSjt"
      },
      "source": [
        "# 【問題6】学習曲線のプロット\n",
        "学習曲線を見て損失が適切に下がっているかどうか確認してください。"
      ]
    },
    {
      "cell_type": "code",
      "metadata": {
        "colab": {
          "base_uri": "https://localhost:8080/",
          "height": 300
        },
        "id": "5rj0aCL9BGHs",
        "outputId": "b66d2fc7-5da7-4848-cff6-7f8520de1b49"
      },
      "source": [
        "import matplotlib.pyplot as plt\n",
        "\n",
        "plt.title('learning curve of LogisticRegression', fontsize=20, fontweight=20)\n",
        "plt.xlabel('iter')\n",
        "plt.ylabel('theta(weight)')\n",
        "plt.plot(a.loss, linewidth=5, alpha=0.7, label='train data')\n",
        "plt.plot(a.val_loss, linewidth=5, alpha=0.7, label='vali data')\n",
        "plt.legend()\n",
        "plt.show()"
      ],
      "execution_count": 22,
      "outputs": [
        {
          "output_type": "display_data",
          "data": {
            "image/png": "[encoded data removed]",
            "text/plain": [
              "<Figure size 432x288 with 1 Axes>"
            ]
          },
          "metadata": {
            "tags": [],
            "needs_background": "light"
          }
        }
      ]
    },
    {
      "cell_type": "markdown",
      "metadata": {
        "id": "wxFJUlWwsSmg"
      },
      "source": [
        "# 【問題7】決定領域の可視化\n",
        "決定領域を可視化してください。"
      ]
    },
    {
      "cell_type": "code",
      "metadata": {
        "id": "IzY5pna7f7_4"
      },
      "source": [
        "#決定領域描写のため、説明変数を2変数に絞り込み\n",
        "from sklearn.linear_model import LogisticRegression\n",
        "\n",
        "X = np.array(data.data)\n",
        "y = np.array(data.target).reshape(150,1)\n",
        "\n",
        "temp = np.concatenate((X,y),axis=1)\n",
        "temp = temp[temp[:,4] > 0] #virgicolorとvirginica抽出\n",
        "temp[:,4] = np.where(temp[:,4] < 2, 0, 1) #virgicolorを0, virginicaを1へ置換\n",
        "\n",
        "X = temp[:, [0, 2]]\n",
        "y = temp[:,-1].reshape(-1,1)\n",
        "\n",
        "X_train, X_test, y_train, y_test = train_test_split(X, y, train_size=0.8)\n",
        "\n",
        "scaler = StandardScaler()\n",
        "X_train_scaled = scaler.fit_transform(X_train)\n",
        "X_test_scaled = scaler.transform(X_test)\n",
        "\n",
        "num_iter = 1000\n",
        "lr = 0.1\n",
        "bias = 0\n",
        "verbose=0\n",
        "\n",
        "b = ScratchLogisticRegression(num_iter=num_iter, lr=lr, bias=bias, verbose=verbose)\n",
        "b.fit(X_train,y_train, X_test, y_test)"
      ],
      "execution_count": 86,
      "outputs": []
    },
    {
      "cell_type": "code",
      "metadata": {
        "colab": {
          "base_uri": "https://localhost:8080/",
          "height": 295
        },
        "id": "IgkZlC9nbcYo",
        "outputId": "655536c1-7f19-4a05-e33f-55f8c5eeb395"
      },
      "source": [
        "from matplotlib.colors import ListedColormap\n",
        "import matplotlib.patches as mpatches\n",
        "\n",
        "def decision_region(X, y, model, step=0.01, title='decision region', xlabel='xlabel', ylabel='ylabel', target_names=['versicolor', 'virginica']):\n",
        "    \"\"\"\n",
        "    2値分類を2次元の特徴量で学習したモデルの決定領域を描く。\n",
        "    背景の色が学習したモデルによる推定値から描画される。\n",
        "    散布図の点は訓練データまたは検証データである。\n",
        "    Parameters\n",
        "    ----------------\n",
        "    X : ndarray, shape(n_samples, 2)\n",
        "        特徴量\n",
        "    y : ndarray, shape(n_samples,)\n",
        "        ラベル\n",
        "    model : object\n",
        "        学習したモデルのインスンタスを入れる\n",
        "    step : float, (default : 0.1)\n",
        "        推定値を計算する間隔を設定する\n",
        "    title : str\n",
        "        グラフのタイトルの文章を与える\n",
        "    xlabel, ylabel : str\n",
        "        軸ラベルの文章を与える\n",
        "    target_names= : list of str\n",
        "        凡例の一覧を与える\n",
        "    \"\"\"\n",
        "    # setting\n",
        "    scatter_color = ['red', 'blue']\n",
        "    contourf_color = ['pink', 'skyblue']\n",
        "    n_class = 2\n",
        "    # pred\n",
        "    mesh_f0, mesh_f1  = np.meshgrid(np.arange(np.min(X[:,0])-0.5, np.max(X[:,0])+0.5, step), np.arange(np.min(X[:,1])-0.5, np.max(X[:,1])+0.5, step))\n",
        "    mesh = np.c_[np.ravel(mesh_f0),np.ravel(mesh_f1)]\n",
        "    y_pred = np.array(model.predict(mesh)).reshape(mesh_f0.shape)\n",
        "    y = y.reshape(-1,)\n",
        "\n",
        "    # plot\n",
        "    plt.title(title)\n",
        "    plt.xlabel(xlabel)\n",
        "    plt.ylabel(ylabel)\n",
        "    plt.contourf(mesh_f0, mesh_f1, y_pred, n_class-1, cmap=ListedColormap(contourf_color))\n",
        "    plt.contour(mesh_f0, mesh_f1, y_pred, n_class-1, colors='y', linewidths=3, alpha=0.5)\n",
        "    for i, target in enumerate(set(y)):\n",
        "        plt.scatter(X[y==target][:,0], X[y==target][:,1], s=80, color=scatter_color[i], label=target_names[i], marker='o')\n",
        "    patches = [mpatches.Patch(color=scatter_color[i], label=target_names[i]) for i in range(n_class)]\n",
        "    plt.legend(handles=patches)\n",
        "    plt.legend()\n",
        "    plt.show()\n",
        "\n",
        "decision_region(X_train, y_train, b)"
      ],
      "execution_count": 111,
      "outputs": [
        {
          "output_type": "display_data",
          "data": {
            "image/png": "[encoded data removed]",
            "text/plain": [
              "<Figure size 432x288 with 1 Axes>"
            ]
          },
          "metadata": {
            "tags": [],
            "needs_background": "light"
          }
        }
      ]
    }
  ]
}