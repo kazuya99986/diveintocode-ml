{
  "nbformat": 4,
  "nbformat_minor": 0,
  "metadata": {
    "colab": {
      "name": "sprint10_DeepNeuralNetwork.ipynb",
      "provenance": [],
      "collapsed_sections": [],
      "machine_shape": "hm"
    },
    "kernelspec": {
      "display_name": "Python 3",
      "language": "python",
      "name": "python3"
    },
    "language_info": {
      "codemirror_mode": {
        "name": "ipython",
        "version": 3
      },
      "file_extension": ".py",
      "mimetype": "text/x-python",
      "name": "python",
      "nbconvert_exporter": "python",
      "pygments_lexer": "ipython3",
      "version": "3.6.5"
    }
  },
  "cells": [
    {
      "cell_type": "markdown",
      "metadata": {
        "id": "bZw4B8Q47PdK"
      },
      "source": [
        "# Sprint10 DeepNeuralNetwork"
      ]
    },
    {
      "cell_type": "code",
      "metadata": {
        "id": "Z_gWQqtoCrJA"
      },
      "source": [
        "import numpy as np"
      ],
      "execution_count": 34,
      "outputs": []
    },
    {
      "cell_type": "markdown",
      "metadata": {
        "id": "1GHiVX3C7Pgn"
      },
      "source": [
        "# 【問題1】全結合層のクラス化\n",
        "全結合層のクラス化を行なってください。\n",
        "\n",
        "\n",
        "以下に雛形を載せました。コンストラクタで重みやバイアスの初期化をして、あとはフォワードとバックワードのメソッドを用意します。重みW、バイアスB、およびフォワード時の入力Xをインスタンス変数として保持しておくことで、煩雑な入出力は不要になります。\n",
        "\n",
        "\n",
        "なお、インスタンスも引数として渡すことができます。そのため、初期化方法のインスタンスinitializerをコンストラクタで受け取れば、それにより初期化が行われます。渡すインスタンスを変えれば、初期化方法が変えられます。\n",
        "\n",
        "\n",
        "また、引数として自身のインスタンスselfを渡すこともできます。これを利用してself.optimizer.update(self)という風に層の重みの更新が可能です。更新に必要な値は複数ありますが、すべて全結合層が持つインスタンス変数にすることができます。\n",
        "\n",
        "\n",
        "初期化方法と最適化手法のクラスについては後述します。"
      ]
    },
    {
      "cell_type": "code",
      "metadata": {
        "id": "cwFi-6h3CGKu"
      },
      "source": [
        "class FC():\n",
        "    \"\"\"\n",
        "    ノード数n_nodes1からn_nodes2への全結合層\n",
        "    Parameters\n",
        "    ----------\n",
        "    n_nodes1 : int\n",
        "      前の層のノード数\n",
        "    n_nodes2 : int\n",
        "      後の層のノード数\n",
        "    initializer : 初期化方法のインスタンス\n",
        "    optimizer : 最適化手法のインスタンス\n",
        "    \"\"\"\n",
        "    def __init__(self, input, output, initializer, optimizer):\n",
        "        self.optimizer = optimizer\n",
        "\n",
        "        # initializerのメソッドを使い、self.Wとself.Bを初期化する       \n",
        "        self.W = initializer.W(input, output)\n",
        "        self.B = initializer.B(output)\n",
        "\n",
        "\n",
        "    def forward(self, X):\n",
        "        \"\"\"\n",
        "        フォワード\n",
        "        Parameters\n",
        "        ----------\n",
        "        X : 次の形のndarray, shape (batch_size, n_nodes1)\n",
        "            入力\n",
        "        Returns\n",
        "        ----------\n",
        "        A : 次の形のndarray, shape (batch_size, n_nodes2)\n",
        "            出力\n",
        "        \"\"\"\n",
        "        self.X = X\n",
        "\n",
        "        A = np.dot(X, self.W ) + self.B\n",
        "\n",
        "        return A\n",
        "\n",
        "\n",
        "\n",
        "    def backward(self, dA):\n",
        "        \"\"\"\n",
        "        バックワード\n",
        "        Parameters\n",
        "        ----------\n",
        "        dA : 次の形のndarray, shape (batch_size, n_nodes2)\n",
        "            後ろから流れてきた勾配\n",
        "        Returns\n",
        "        ----------\n",
        "        dZ : 次の形のndarray, shape (batch_size, n_nodes1)\n",
        "            前に流す勾配\n",
        "        \"\"\"\n",
        "        \n",
        "        dZ = np.dot(dA, self.W.T)\n",
        "        self.dB = np.sum(dA, axis=0)\n",
        "        self.dW = np.dot(self.X.T, dA)\n",
        "\n",
        "        # 更新\n",
        "        self = self.optimizer.update(self)\n",
        "\n",
        "        return dZ"
      ],
      "execution_count": 35,
      "outputs": []
    },
    {
      "cell_type": "markdown",
      "metadata": {
        "id": "IzY4v-9n7PjJ"
      },
      "source": [
        "# 【問題2】初期化方法のクラス化\n",
        "初期化を行うコードをクラス化してください。\n",
        "\n",
        "\n",
        "前述のように、全結合層のコンストラクタに初期化方法のインスタンスを渡せるようにします。以下の雛形に必要なコードを書き加えていってください。標準偏差の値（sigma）はコンストラクタで受け取るようにすることで、全結合層のクラス内にこの値（sigma）を渡さなくてすむようになります。\n",
        "\n",
        "\n",
        "これまで扱ってきた初期化方法はSimpleInitializerクラスと名付けることにします。"
      ]
    },
    {
      "cell_type": "code",
      "metadata": {
        "id": "AFT9OOLOQ7Jw"
      },
      "source": [
        "class SimpleInitializer:\n",
        "    \"\"\"\n",
        "    ガウス分布によるシンプルな初期化\n",
        "    Parameters\n",
        "    ----------\n",
        "    sigma : float\n",
        "      ガウス分布の標準偏差\n",
        "    \"\"\"\n",
        "    def __init__(self, sigma):\n",
        "        self.sigma = sigma\n",
        "\n",
        "    def W(self, n_nodes1, n_nodes2):\n",
        "        \"\"\"\n",
        "        重みの初期化\n",
        "        Parameters\n",
        "        ----------\n",
        "        n_nodes1 : int\n",
        "          前の層のノード数\n",
        "        n_nodes2 : int\n",
        "          後の層のノード数\n",
        "        Returns\n",
        "        ----------\n",
        "        W :\n",
        "            個別の重み\n",
        "        \"\"\"\n",
        "        W = np.random.randn(n_nodes1, n_nodes2) * self.sigma\n",
        "\n",
        "        return W\n",
        "\n",
        "    def B(self, n_nodes1):\n",
        "        \"\"\"\n",
        "        バイアスの初期化\n",
        "        Parameters\n",
        "        ----------\n",
        "        n_nodes2 : int\n",
        "          後の層のノード数\n",
        "        Returns\n",
        "        ----------\n",
        "        B :\n",
        "            個別のバイアス\n",
        "        \"\"\"\n",
        "        B = np.random.randn(1, n_nodes1) * self.sigma\n",
        "\n",
        "        return B"
      ],
      "execution_count": 36,
      "outputs": []
    },
    {
      "cell_type": "markdown",
      "metadata": {
        "id": "fJ9kgUZa7PmG"
      },
      "source": [
        "# 【問題3】最適化手法のクラス化\n",
        "最適化手法のクラス化を行なってください。\n",
        "\n",
        "\n",
        "最適化手法に関しても初期化方法同様に全結合層にインスタンスとして渡します。バックワードのときにself.optimizer.update(self)のように更新できるようにします。以下の雛形に必要なコードを書き加えていってください。\n",
        "\n",
        "\n",
        "これまで扱ってきた最適化手法はSGDクラス（Stochastic Gradient Descent、確率的勾配降下法）として作成します。"
      ]
    },
    {
      "cell_type": "code",
      "metadata": {
        "id": "hy8J9kTQaZhD"
      },
      "source": [
        "class SGD():\n",
        "    \"\"\"\n",
        "    確率的勾配降下法\n",
        "    Parameters\n",
        "    ----------\n",
        "    lr : 学習率\n",
        "    \"\"\"\n",
        "    def __init__(self, lr):\n",
        "        self.lr = lr\n",
        "\n",
        "    def update(self, layer):\n",
        "        \"\"\"\n",
        "        ある層の重みやバイアスの更新\n",
        "        Parameters\n",
        "        ----------\n",
        "        layer : 更新前の層のインスタンス\n",
        "        \"\"\"\n",
        "        layer.W -= self.lr * layer.dW\n",
        "        layer.B -= self.lr * layer.dB"
      ],
      "execution_count": 37,
      "outputs": []
    },
    {
      "cell_type": "markdown",
      "metadata": {
        "id": "sQz8TWr07Poq"
      },
      "source": [
        "# 【問題4】活性化関数のクラス化\n",
        "活性化関数のクラス化を行なってください。\n",
        "\n",
        "\n",
        "ソフトマックス関数のバックプロパゲーションには交差エントロピー誤差の計算も含む実装を行うことで計算が簡略化されます。"
      ]
    },
    {
      "cell_type": "code",
      "metadata": {
        "id": "_wvWTvhZdDjS"
      },
      "source": [
        "class Softmax:\n",
        "    '''\n",
        "    ソフトマックス関数の計算を行う\n",
        "    '''\n",
        "    def forward(self, A):\n",
        "        self.Z = np.exp(A) / np.sum(np.exp(A), axis=1).reshape(-1, 1)\n",
        "        return  self.Z\n",
        "\n",
        "    def backward(self, Y):\n",
        "        #ロス計算（クロスエントロピー）\n",
        "        delta = 1e-7\n",
        "        loss = (-1) * np.sum( Y * np.log(self.Z) + delta ) / len(Y)\n",
        "\n",
        "        return self.Z - Y,  loss\n",
        "\n",
        "\n",
        "class Tanh:\n",
        "    '''\n",
        "    ハイパボリックタンジェント関数の計算を行う\n",
        "    '''\n",
        "    def forward(self, A):\n",
        "        self.A = A\n",
        "        \n",
        "        return np.tanh(A)\n",
        "    \n",
        "    def backward(self, dZ):\n",
        "        return dZ * (1 - np.tanh(self.A) ** 2)"
      ],
      "execution_count": 38,
      "outputs": []
    },
    {
      "cell_type": "markdown",
      "metadata": {
        "id": "TJuUYgft7PrQ"
      },
      "source": [
        "# 【問題5】ReLUクラスの作成\n",
        "現在一般的に使われている活性化関数であるReLU（Rectified Linear Unit）をReLUクラスとして実装してください。\n",
        "\n",
        "\n",
        "ReLUは以下の数式です。\n",
        "\n",
        "$$\n",
        "f\n",
        "(\n",
        "x\n",
        ")\n",
        "=\n",
        "R\n",
        "e\n",
        "L\n",
        "U\n",
        "(\n",
        "x\n",
        ")\n",
        "=\n",
        "{\n",
        "x\n",
        "if \n",
        "x\n",
        ">\n",
        "0\n",
        ",\n",
        "0\n",
        "if \n",
        "x\n",
        "≦\n",
        "0\n",
        ".\n",
        "$$\n",
        "\n",
        "$x$ : ある特徴量。スカラー\n",
        "\n",
        "\n",
        "実装上はnp.maximumを使い配列に対してまとめて計算が可能です。\n",
        "\n",
        "\n",
        "numpy.maximum — NumPy v1.15 Manual\n",
        "\n",
        "\n",
        "一方、バックプロパゲーションのための $x$ に関する $f(x)$ の微分は以下のようになります。\n",
        "\n",
        "$$\n",
        "∂\n",
        "f\n",
        "(\n",
        "x\n",
        ")\n",
        "∂\n",
        "x\n",
        "=\n",
        "{\n",
        "1\n",
        "if \n",
        "x\n",
        ">\n",
        "0\n",
        ",\n",
        "0\n",
        "if \n",
        "x\n",
        "≦\n",
        "0\n",
        ".\n",
        "$$\n",
        "\n",
        "数学的には微分可能ではないですが、 $x=0$ のとき $0$ とすることで対応しています。\n",
        "\n",
        "\n",
        "フォワード時の $x$ の正負により、勾配を逆伝播するかどうかが決まるということになります。"
      ]
    },
    {
      "cell_type": "code",
      "metadata": {
        "id": "cKZlQGHSa2Hv"
      },
      "source": [
        "class ReLU:\n",
        "    '''\n",
        "    ReLu関数の計算を行う\n",
        "    '''\n",
        "    def __init__(self):# インスタンス変数　maskの初期化\n",
        "        self.mask = None\n",
        "        \n",
        "    def forward(self,A):#信号の大きさをxとして引数として渡す\n",
        "        self.mask = (A <=0 ) #  x <=0　の場合、True, それ以外はFalse を渡す\n",
        "        out = A.copy() #  xの値（配列）をコピーする\n",
        "        out[self.mask] = 0 # True の要素の値のみを０のに変換する\n",
        "        \n",
        "        return out\n",
        "    \n",
        "    def backward(self, Z):\n",
        "        Z[self.mask] = 0 # x<=0がtrue のものは、逆伝播の微分のdoutも0で流す。それ以外はそのまま流す。\n",
        "        dx = Z\n",
        "        \n",
        "        return dx"
      ],
      "execution_count": 39,
      "outputs": []
    },
    {
      "cell_type": "markdown",
      "metadata": {
        "id": "goXjXRLh7PuF"
      },
      "source": [
        "# 【問題6】重みの初期値\n",
        "ここまでは重みやバイアスの初期値は単純にガウス分布で、標準偏差をハイパーパラメータとして扱ってきました。しかし、どのような値にすると良いかが知られています。シグモイド関数やハイパボリックタンジェント関数のときは Xavierの初期値 （またはGlorotの初期値）、ReLUのときは Heの初期値 が使われます。\n",
        "\n",
        "\n",
        "XavierInitializerクラスと、HeInitializerクラスを作成してください。"
      ]
    },
    {
      "cell_type": "code",
      "metadata": {
        "id": "nZi4g4KMrxZ2"
      },
      "source": [
        "class XavierInitializer:\n",
        "    '''\n",
        "    シグモイド関数・ハイパボリックタンジェント関数を使用する際の重みの初期値\n",
        "    '''\n",
        "    def W(self, node_input, node_output):\n",
        "        self.sigma = np.sqrt(1 / node_input)\n",
        "        W = self.sigma * np.random.randn(node_input, node_output)\n",
        "\n",
        "        return W\n",
        "\n",
        "    def B(self, node_output):\n",
        "        B = self.sigma * np.random.randn(node_output)\n",
        "\n",
        "        return B\n",
        "    \n",
        "\n",
        "class HeInitializer:\n",
        "    '''\n",
        "    ReLU関数を使用する際の重みの初期値\n",
        "    '''\n",
        "    def W(self, node_input, node_output):\n",
        "        self.sigma = np.sqrt(2 / node_input)\n",
        "        W = self.sigma * np.random.randn(node_input, node_output)\n",
        "\n",
        "        return W\n",
        "\n",
        "    def B(self, node_output):\n",
        "        B = self.sigma * np.random.randn(node_output)\n",
        "\n",
        "        return B"
      ],
      "execution_count": 40,
      "outputs": []
    },
    {
      "cell_type": "markdown",
      "metadata": {
        "id": "yvTNlNnY7PvO"
      },
      "source": [
        "# 【問題7】最適化手法\n",
        "学習率は学習過程で変化させていく方法が一般的です。基本的な手法である AdaGrad のクラスを作成してください。\n",
        "\n",
        "\n",
        "まず、これまで使ってきたSGDを確認します。\n",
        "\n",
        "$$\n",
        "W\n",
        "′\n",
        "i\n",
        "=\n",
        "W\n",
        "i\n",
        "−\n",
        "α\n",
        "E\n",
        "(\n",
        "∂\n",
        "L\n",
        "∂\n",
        "W\n",
        "i\n",
        ")\n",
        "B\n",
        "′\n",
        "i\n",
        "=\n",
        "B\n",
        "i\n",
        "−\n",
        "α\n",
        "E\n",
        "(\n",
        "∂\n",
        "L\n",
        "∂\n",
        "B\n",
        "i\n",
        ")\n",
        "$$\n",
        "\n",
        "$\\alpha$ : 学習率（層ごとに変えることも可能だが、基本的にはすべて同じとする）\n",
        "\n",
        "\n",
        "$\\frac{\\partial L}{\\partial W_i}$ : $W_i$ に関する損失 $L$ の勾配\n",
        "\n",
        "\n",
        "$\\frac{\\partial L}{\\partial B_i}$ : $B_i$ に関する損失 $L$ の勾配\n",
        "\n",
        "\n",
        "$E()$ : ミニバッチ方向にベクトルの平均を計算\n",
        "\n",
        "\n",
        "続いて、AdaGradです。バイアスの数式は省略しますが、重みと同様のことをします。\n",
        "\n",
        "\n",
        "更新された分だけその重みに対する学習率を徐々に下げていきます。イテレーションごとの勾配の二乗和 $H$ を保存しておき、その分だけ学習率を小さくします。\n",
        "\n",
        "\n",
        "学習率は重み一つひとつに対して異なることになります。\n",
        "\n",
        "$$\n",
        "H\n",
        "′\n",
        "i\n",
        "=\n",
        "H\n",
        "i\n",
        "+\n",
        "E\n",
        "(\n",
        "∂\n",
        "L\n",
        "∂\n",
        "W\n",
        "i\n",
        ")\n",
        "×\n",
        "E\n",
        "(\n",
        "∂\n",
        "L\n",
        "∂\n",
        "W\n",
        "i\n",
        ")\n",
        "W\n",
        "′\n",
        "i\n",
        "=\n",
        "W\n",
        "i\n",
        "−\n",
        "α\n",
        "1\n",
        "√\n",
        "H\n",
        "′\n",
        "i\n",
        "E\n",
        "(\n",
        "∂\n",
        "L\n",
        "∂\n",
        "W\n",
        "i\n",
        ")\n",
        "$$\n",
        "\n",
        "$H_i$ : i層目に関して、前のイテレーションまでの勾配の二乗和（初期値は0）\n",
        "\n",
        "\n",
        "$H_i^{\\prime}$ : 更新した $H_i$"
      ]
    },
    {
      "cell_type": "code",
      "metadata": {
        "id": "GfRPwsEo5E66"
      },
      "source": [
        "class Adagrad:\n",
        "    '''\n",
        "    学習率の最適化\n",
        "    '''\n",
        "    def __init__(self, lr):\n",
        "        self.lr = lr\n",
        "        self.HW = 1\n",
        "        self.HB = 1\n",
        "        \n",
        "    def update(self, layer):\n",
        "        self.HW += layer.dW ** 2\n",
        "        self.HB += layer.dB ** 2\n",
        "\n",
        "        layer.W -= self.lr * np.sqrt(1/self.HW) * layer.dW\n",
        "        layer.B -= self.lr * np.sqrt(1/self.HB) * layer.dB"
      ],
      "execution_count": 45,
      "outputs": []
    },
    {
      "cell_type": "markdown",
      "metadata": {
        "id": "_8zFF74t7Px-"
      },
      "source": [
        "# 【問題8】クラスの完成\n",
        "任意の構成で学習と推定が行えるScratchDeepNeuralNetrowkClassifierクラスを完成させてください。"
      ]
    },
    {
      "cell_type": "code",
      "metadata": {
        "id": "W6GqFzs0SroS"
      },
      "source": [
        "from keras.datasets import mnist\n",
        "import numpy as np\n",
        "\n",
        "(X_train, y_train), (X_test, y_test) = mnist.load_data()\n",
        "\n",
        "X_train = X_train.reshape(-1, 784)\n",
        "X_test = X_test.reshape(-1, 784)\n",
        "\n",
        "\n",
        "from sklearn.model_selection import train_test_split\n",
        "\n",
        "X_train, X_val, y_train, y_val = train_test_split(X_train, y_train, test_size=0.2)\n",
        "\n",
        "\n",
        "from sklearn.preprocessing import OneHotEncoder\n",
        "\n",
        "enc = OneHotEncoder(handle_unknown='ignore', sparse=False)\n",
        "y_train_one_hot = enc.fit_transform(y_train[:, np.newaxis])\n",
        "y_test_one_hot = enc.transform(y_val[:, np.newaxis])"
      ],
      "execution_count": 42,
      "outputs": []
    },
    {
      "cell_type": "code",
      "metadata": {
        "id": "xOS6AcoRH1r4"
      },
      "source": [
        "class GetMiniBatch:\n",
        "    \"\"\"\n",
        "    ミニバッチを取得するイテレータ\n",
        "    Parameters\n",
        "    ----------\n",
        "    X : 次の形のndarray, shape (n_samples, n_features)\n",
        "      訓練データ\n",
        "    y : 次の形のndarray, shape (n_samples, 1)\n",
        "      正解値\n",
        "    batch_size : int\n",
        "      バッチサイズ\n",
        "    seed : int\n",
        "      NumPyの乱数のシード\n",
        "    \"\"\"\n",
        "    def __init__(self, X, y, batch_size = 20, seed=0):\n",
        "        self.batch_size = batch_size\n",
        "        np.random.seed(seed)\n",
        "        shuffle_index = np.random.permutation(np.arange(X.shape[0]))\n",
        "        self._X = X[shuffle_index]\n",
        "        self._y = y[shuffle_index]\n",
        "        self._stop = np.ceil(X.shape[0]/self.batch_size).astype(np.int)\n",
        "    def __len__(self):\n",
        "        return self._stop\n",
        "    def __getitem__(self,item):\n",
        "        p0 = item*self.batch_size\n",
        "        p1 = item*self.batch_size + self.batch_size\n",
        "        return self._X[p0:p1], self._y[p0:p1]        \n",
        "    def __iter__(self):\n",
        "        self._counter = 0\n",
        "        return self\n",
        "    def __next__(self):\n",
        "        if self._counter >= self._stop:\n",
        "            raise StopIteration()\n",
        "        p0 = self._counter*self.batch_size\n",
        "        p1 = self._counter*self.batch_size + self.batch_size\n",
        "        self._counter += 1\n",
        "        return self._X[p0:p1], self._y[p0:p1]"
      ],
      "execution_count": 43,
      "outputs": []
    },
    {
      "cell_type": "code",
      "metadata": {
        "id": "AC36aJN7CJpq",
        "colab": {
          "base_uri": "https://localhost:8080/"
        },
        "outputId": "c0eac251-5a08-4e02-9e62-b1bf99d58306"
      },
      "source": [
        "class ScratchDeepNeuralNetrowkClassifier():\n",
        "    '''\n",
        "    ベースのクラス\n",
        "    ---\n",
        "\n",
        "    '''\n",
        "    def __init__(self, sigma, lr, n_node1, n_node2, n_output, n_epoch, batch_size, activation, optimizer, verbose=False):\n",
        "        self.verbose = verbose\n",
        "        self.sigma = sigma\n",
        "        self.lr = lr\n",
        "        self.n_nodes1 = n_node1\n",
        "        self.n_nodes2 = n_node2\n",
        "        self.n_output = n_output\n",
        "        self.n_epoch = n_epoch\n",
        "        self.batch_size = batch_size\n",
        "        self.activation = activation\n",
        "        self.optimizer = optimizer\n",
        "\n",
        "        #activationによってW・Bの初期化を変える（elseはReLU想定）\n",
        "        if activation == Tanh or activation == Sigmoid:\n",
        "            self.Initializer = XavierInitializer\n",
        "        else:\n",
        "            self.Initializer = HeInitializer\n",
        "\n",
        "        self.loss_train = []\n",
        "        self.loss_val = []\n",
        "    \n",
        "\n",
        "    def fit(self, X, y, X_val=None, y_val=None):\n",
        "        '''\n",
        "        NN分類器を学習する\n",
        "        ----------\n",
        "        X : 次の形のndarray, shape (n_samples, n_features)\n",
        "            訓練データの特徴量\n",
        "        y : 次の形のndarray, shape (n_samples, )\n",
        "            訓練データの正解値\n",
        "        X_val : 次の形のndarray, shape (n_samples, n_features)\n",
        "            検証データの特徴量\n",
        "        y_val : 次の形のndarray, shape (n_samples, )\n",
        "            検証データの正解値\n",
        "        '''\n",
        "        self.n_features = X.shape[1]\n",
        "\n",
        "\n",
        "\n",
        "        #初期化（インスタンス化）\n",
        "        self.FC1 = FC(self.n_features, self.n_nodes1, SimpleInitializer(self.sigma), self.optimizer(self.lr) )\n",
        "        self.activation1 = self.activation()\n",
        "        self.FC2 = FC(self.n_nodes1, self.n_nodes2, SimpleInitializer(self.sigma), self.optimizer(self.lr) )\n",
        "        self.activation2 = self.activation()\n",
        "        self.FC3 = FC(self.n_nodes2, self.n_output, SimpleInitializer(self.sigma), self.optimizer(self.lr) )\n",
        "        self.activation3 = Softmax()\n",
        "\n",
        "\n",
        "        \n",
        "        #エポックループ\n",
        "        for epoch in range(n_epoch):\n",
        "\n",
        "            #ミニバッチ取得\n",
        "            get_mini_batch = GetMiniBatch(X, y, batch_size=batch_size)\n",
        "\n",
        "            #バッチループ\n",
        "            for mini_X_train, mini_y_train in get_mini_batch:\n",
        "                self.forward_propagation(mini_X_train)\n",
        "                self.backward_propagation(mini_y_train)\n",
        "\n",
        "            self.forward_propagation(X)\n",
        "            dA3, loss = self.activation3.backward(y)\n",
        "            self.loss_train.append(loss)\n",
        "\n",
        "            if X_val is not None:\n",
        "                self.forward_propagation(X_val)\n",
        "                dA3, loss = self.activation3.backward(y_val)\n",
        "                self.loss_val.append(loss)\n",
        "\n",
        "\n",
        "            if self.verbose:\n",
        "                #verboseをTrueにした際は学習過程などを出力する\n",
        "                print()\n",
        "        \n",
        "\n",
        "\n",
        "\n",
        "\n",
        "    def forward_propagation(self, X):\n",
        "        A1 = self.FC1.forward(X)\n",
        "        Z1 = self.activation1.forward(A1)\n",
        "        A2 = self.FC2.forward(Z1)\n",
        "        Z2 = self.activation2.forward(A2)\n",
        "        A3 = self.FC3.forward(Z2)\n",
        "        Z3 = self.activation3.forward(A3)\n",
        "\n",
        "\n",
        "                \n",
        "\n",
        "    def backward_propagation(self, y):\n",
        "        dA3, _ = self.activation3.backward(y) # 交差エントロピー誤差とソフトマックスを合わせている\n",
        "        dZ2 = self.FC3.backward(dA3)\n",
        "        dA2 = self.activation2.backward(dZ2)\n",
        "        dZ1 = self.FC2.backward(dA2)\n",
        "        dA1 = self.activation1.backward(dZ1)\n",
        "        dZ0 = self.FC1.backward(dA1) # dZ0は使用しない\n",
        "\n",
        "\n",
        "\n",
        "\n",
        "    def predict(self, X):\n",
        "        '''\n",
        "        ニューラルネットワーク分類器を使い推定する。\n",
        "        Parameters\n",
        "        ----------\n",
        "        X : 次の形のndarray, shape (n_samples, n_features)\n",
        "            サンプル\n",
        "        Returns\n",
        "        -------\n",
        "        次の形のndarray, shape (n_samples, 1)\n",
        "            推定結果\n",
        "        '''\n",
        "\n",
        "        self.forward_propagation(X)\n",
        "        return np.argmax(self.activation3.__dict__['Z'], axis=1)\n",
        "\n",
        "\n",
        "sigma= 0.01\n",
        "lr = 0.01\n",
        "n_nodes1 = 400\n",
        "n_nodes2 = 200\n",
        "n_output = 10\n",
        "n_epoch = 5\n",
        "batch_size = 20\n",
        "activation = Tanh #Tanh or ReLU\n",
        "optimizer = Adagrad #SGD or Adagrad\n",
        "\n",
        "a = ScratchDeepNeuralNetrowkClassifier(sigma, lr, n_nodes1, n_nodes2, n_output, n_epoch, batch_size, activation, optimizer)\n",
        "a.fit(X_train, y_train_one_hot, X_val, y_test_one_hot)\n",
        "\n",
        "!nvidia-smi"
      ],
      "execution_count": 46,
      "outputs": [
        {
          "output_type": "stream",
          "text": [
            "NVIDIA-SMI has failed because it couldn't communicate with the NVIDIA driver. Make sure that the latest NVIDIA driver is installed and running.\n",
            "\n"
          ],
          "name": "stdout"
        }
      ]
    },
    {
      "cell_type": "code",
      "metadata": {
        "colab": {
          "base_uri": "https://localhost:8080/"
        },
        "id": "O5Mxrw-B-jq6",
        "outputId": "9b2a85d0-3de4-482a-9ad7-678c44031fd8"
      },
      "source": [
        "from sklearn.metrics import accuracy_score\n",
        "Y_pred_train = a.predict(X_train)\n",
        "accuracy_score(y_train, Y_pred_train)"
      ],
      "execution_count": 47,
      "outputs": [
        {
          "output_type": "execute_result",
          "data": {
            "text/plain": [
              "0.950375"
            ]
          },
          "metadata": {
            "tags": []
          },
          "execution_count": 47
        }
      ]
    },
    {
      "cell_type": "code",
      "metadata": {
        "colab": {
          "base_uri": "https://localhost:8080/"
        },
        "id": "EJGBh2eyOJsD",
        "outputId": "1f669546-4e5f-475a-dfcc-d5826d23f9e8"
      },
      "source": [
        "a.loss_train"
      ],
      "execution_count": 48,
      "outputs": [
        {
          "output_type": "execute_result",
          "data": {
            "text/plain": [
              "[0.29996017053747576,\n",
              " 0.23789095867733734,\n",
              " 0.20831471563278403,\n",
              " 0.18085663235886795,\n",
              " 0.16422919694948063]"
            ]
          },
          "metadata": {
            "tags": []
          },
          "execution_count": 48
        }
      ]
    },
    {
      "cell_type": "markdown",
      "metadata": {
        "id": "KflG1Y4x7P0j"
      },
      "source": [
        "# 【問題9】学習と推定\n",
        "層の数や活性化関数を変えたいくつかのネットワークを作成してください。そして、MNISTのデータを学習・推定し、Accuracyを計算してください。"
      ]
    },
    {
      "cell_type": "code",
      "metadata": {
        "id": "SEIfx09gNxgQ"
      },
      "source": [
        "sigma= 0.01\n",
        "lr = 0.01\n",
        "n_nodes1 = 400\n",
        "n_nodes2 = 200\n",
        "n_output = 10\n",
        "n_epoch = 10\n",
        "batch_size = 20\n",
        "activation = ReLU #Tanh or ReLU\n",
        "\n",
        "b = ScratchDeepNeuralNetrowkClassifier(sigma, lr, n_nodes1, n_nodes2, n_output, n_epoch, batch_size, activation)\n",
        "b.fit(X_train, y_train_one_hot, X_val, y_test_one_hot)"
      ],
      "execution_count": null,
      "outputs": []
    },
    {
      "cell_type": "code",
      "metadata": {
        "id": "6QU-O0cVdvch"
      },
      "source": [
        "Y_pred_train = b.predict(X_train)\n",
        "accuracy_score(y_train, Y_pred_train)"
      ],
      "execution_count": null,
      "outputs": []
    },
    {
      "cell_type": "code",
      "metadata": {
        "id": "LMPk2mbzd32p"
      },
      "source": [
        "b.loss_train"
      ],
      "execution_count": null,
      "outputs": []
    }
  ]
}