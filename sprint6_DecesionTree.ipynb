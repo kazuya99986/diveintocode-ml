{
  "nbformat": 4,
  "nbformat_minor": 0,
  "metadata": {
    "colab": {
      "name": "Untitled34.ipynb",
      "provenance": [],
      "collapsed_sections": []
    },
    "kernelspec": {
      "name": "python3",
      "display_name": "Python 3"
    },
    "language_info": {
      "name": "python"
    }
  },
  "cells": [
    {
      "cell_type": "markdown",
      "metadata": {
        "id": "hcVQFruwy1s1"
      },
      "source": [
        "# Sprint6_決定木"
      ]
    },
    {
      "cell_type": "code",
      "metadata": {
        "id": "mpS_vxdb0ffe"
      },
      "source": [
        "import pandas as pd\n",
        "import numpy as np\n",
        "from sklearn.model_selection import train_test_split\n",
        "from sklearn.preprocessing import StandardScaler\n",
        "from collections import Counter\n",
        "\n",
        "X = np.array([\n",
        "    [-0.44699 , -2.8073  ],[-1.4621  , -2.4586  ],\n",
        "    [ 0.10645 ,  1.9242  ],[-3.5944  , -4.0112  ],\n",
        "    [-0.9888  ,  4.5718  ],[-3.1625  , -3.9606  ],\n",
        "    [ 0.56421 ,  0.72888 ],[-0.60216 ,  8.4636  ],\n",
        "    [-0.61251 , -0.75345 ],[-0.73535 , -2.2718  ],\n",
        "    [-0.80647 , -2.2135  ],[ 0.86291 ,  2.3946  ],\n",
        "    [-3.1108  ,  0.15394 ],[-2.9362  ,  2.5462  ],\n",
        "    [-0.57242 , -2.9915  ],[ 1.4771  ,  3.4896  ],\n",
        "    [ 0.58619 ,  0.37158 ],[ 0.6017  ,  4.3439  ],\n",
        "    [-2.1086  ,  8.3428  ],[-4.1013  , -4.353   ],\n",
        "    [-1.9948  , -1.3927  ],[ 0.35084 , -0.031994],\n",
        "    [ 0.96765 ,  7.8929  ],[-1.281   , 15.6824  ],\n",
        "    [ 0.96765 , 10.083   ],[ 1.3763  ,  1.3347  ],\n",
        "    [-2.234   , -2.5323  ],[-2.9452  , -1.8219  ],\n",
        "    [ 0.14654 , -0.28733 ],[ 0.5461  ,  5.8245  ],\n",
        "    [-0.65259 ,  9.3444  ],[ 0.59912 ,  5.3524  ],\n",
        "    [ 0.50214 , -0.31818 ],[-3.0603  , -3.6461  ],\n",
        "    [-6.6797  ,  0.67661 ],[-2.353   , -0.72261 ],\n",
        "    [ 1.1319  ,  2.4023  ],[-0.12243 ,  9.0162  ],\n",
        "    [-2.5677  , 13.1779  ],[ 0.057313,  5.4681  ],\n",
        "])\n",
        "y = np.array([0, 0, 0, 0, 0, 0, 0, 0, 0, 0, 0, 0, 0, 0, 0, 0, 0, 0, 0, 0, 1, 1,\n",
        "       1, 1, 1, 1, 1, 1, 1, 1, 1, 1, 1, 1, 1, 1, 1, 1, 1, 1])\n",
        "\n",
        "X_train, X_test, y_train, y_test = train_test_split(X, y, train_size=0.8)\n",
        "\n",
        "scaler = StandardScaler()\n",
        "X_train_scaled = scaler.fit_transform(X_train)\n",
        "X_test_scaled = scaler.transform(X_test)"
      ],
      "execution_count": 235,
      "outputs": []
    },
    {
      "cell_type": "code",
      "metadata": {
        "colab": {
          "base_uri": "https://localhost:8080/"
        },
        "id": "8HPq8mjY0z2o",
        "outputId": "9c65b486-be65-49e9-c320-4f2db3296071"
      },
      "source": [
        "class Node:\n",
        "    def __init__(self, feature=None, threshold=None, left=None, right=None,*, value=None):\n",
        "        self.feature = feature \n",
        "        self.threshold = threshold\n",
        "        self.left = left\n",
        "        self.right = right\n",
        "        self.value = value\n",
        "\n",
        "    def is_leaf_node(self):\n",
        "        return self.value is not None\n",
        "\n",
        "class ScratchDecesionTreeClassifierDepth1():\n",
        "    \"\"\"\n",
        "    深さ1の決定木分類器のスクラッチ実装\n",
        "    Parameters\n",
        "    ----------\n",
        "    verbose : bool\n",
        "      学習過程を出力する場合はTrue\n",
        "    \"\"\"\n",
        "    def __init__(self, verbose=False, max_depth=1, n_feats=None):\n",
        "        # ハイパーパラメータを属性として記録\n",
        "        self.verbose = verbose\n",
        "        self.n_feats = n_feats\n",
        "        self.max_depth = max_depth\n",
        "        self.min_sample_split = 1\n",
        "        self.root = None\n",
        "    \n",
        "    def fit(self, X, y):\n",
        "        \"\"\"\n",
        "        決定木分類器を学習する\n",
        "        Parameters\n",
        "        ----------\n",
        "        X : 次の形のndarray, shape (n_samples, n_features)\n",
        "            訓練データの特徴量\n",
        "        y : 次の形のndarray, shape (n_samples, )\n",
        "            訓練データの正解値\n",
        "        \"\"\"\n",
        "        self.n_feats = X.shape[1] if not self.n_feats else min(self.n_feats, X.shape[1])\n",
        "        self.root = self._grow_tree(X, y)\n",
        "\n",
        "\n",
        "    def _grow_tree(self, X, y, depth=0):\n",
        "      n_samples, n_features = X.shape\n",
        "      n_labels = len(np.unique(y) )\n",
        "\n",
        "      if (depth >= self.max_depth\n",
        "        or n_labels == 1\n",
        "        or n_samples < self.min_sample_split):\n",
        "        leaf_value = self._most_common_label(y)\n",
        "        \n",
        "        return Node(value = leaf_value)\n",
        "\n",
        "      feat_idxs = np.random.choice(n_features, self.n_feats, replace=False)\n",
        "      \n",
        "      best_feat, best_thresh = self._best_criteria(X, y, feat_idxs)\n",
        "      left_idxs, right_idxs = self._split(X[:, best_feat], best_thresh)\n",
        "      left = self._grow_tree(X[left_idxs, :], y[left_idxs], depth+1)\n",
        "      right = self._grow_tree(X[right_idxs, :], y[right_idxs], depth+1)\n",
        "      \n",
        "      return Node(best_feat, best_thresh, left, right)\n",
        "\n",
        "    \n",
        "    def _best_criteria(self, X, y, feat_idxs):\n",
        "     best_gain = -1\n",
        "     split_idx, split_threh = None, None\n",
        "\n",
        "     for feat_idx in feat_idxs:\n",
        "       X_column = X[:, feat_idx]\n",
        "       thresholds = np.unique(X_column)\n",
        "\n",
        "       for threshold in thresholds:\n",
        "         gain = self._information_gain(y, X_column, threshold)\n",
        "\n",
        "         if gain > best_gain:\n",
        "           best_gain = gain\n",
        "           split_idx = feat_idx\n",
        "           split_threh = threshold\n",
        "\n",
        "         return split_idx, split_threh\n",
        "\n",
        "    #問題2\n",
        "    def _information_gain(self, y, X_column, split_threh):\n",
        "      parent_entropy = self._gini(y)\n",
        "      left_idxs, right_idxs = self._split(X_column, split_threh)\n",
        "\n",
        "      if len(left_idxs) == 0 or len(right_idxs) == 0:\n",
        "        return 0\n",
        "\n",
        "      n = len(y)\n",
        "      n_l, n_r = len(left_idxs), len(right_idxs)\n",
        "      e_l, e_r = self._gini(y[left_idxs]), self._gini(y[right_idxs])\n",
        "      child_entropy = ( n_l / n ) * e_l + ( n_r / n ) * e_r\n",
        "\n",
        "      ig = parent_entory = child_entropy\n",
        "      return ig\n",
        "\n",
        "    #問題1\n",
        "    def _gini(self, y):\n",
        "      classes = np.unique(y)\n",
        "      gini = 1.0\n",
        "      \n",
        "      for i in classes:\n",
        "        gini -= ( len(y [y == i] ) / len(y) ) ** 2\n",
        "\n",
        "      return gini\n",
        "\n",
        "\n",
        "    def _split(self, X_column, split_threh):\n",
        "      left_idxs = np.argwhere(X_column <= split_threh).flatten()\n",
        "      right_idxs = np.argwhere(X_column > split_threh).flatten()\n",
        "\n",
        "      return left_idxs, right_idxs\n",
        "\n",
        "\n",
        "    def _most_common_label(self, y):\n",
        "      counter = Counter(y)\n",
        "      most_common = counter.most_common(1)[0][0]\n",
        "\n",
        "      return most_common\n",
        "    \n",
        "    def predict(self, X):\n",
        "      return np.array([self._traverse_tree(x, self.root) for x in X ])\n",
        "    \n",
        "    def _traverse_tree(self, x, node):\n",
        "      if node.is_leaf_node():\n",
        "        return node.value\n",
        "\n",
        "      if [node.feature] <= node.threshold:\n",
        "        return self._traverse_tree(x, node.left)\n",
        "      return self._traverse_tree(x, node.right)\n",
        "        \n",
        "\n",
        "a = ScratchDecesionTreeClassifierDepth1()\n",
        "a.fit(X_train, y_train)\n",
        "Y_pred = a.predict(X_test)\n",
        "\n",
        "Y_pred"
      ],
      "execution_count": 240,
      "outputs": [
        {
          "output_type": "execute_result",
          "data": {
            "text/plain": [
              "array([1, 1, 1, 1, 1, 1, 1, 1])"
            ]
          },
          "metadata": {
            "tags": []
          },
          "execution_count": 240
        }
      ]
    },
    {
      "cell_type": "markdown",
      "metadata": {
        "id": "zjyIWbcBy8vE"
      },
      "source": [
        "# 【問題1】不純度を求める関数\n",
        "ノード の ジニ不純度 を計算する関数を作成してください。ノード \n",
        "t\n",
        " に対するジニ不純度 \n",
        "I\n",
        "(\n",
        "t\n",
        ")\n",
        " は以下の数式で求まります。クラスが混じり合っているほどジニ不純度は高くなります。"
      ]
    },
    {
      "cell_type": "code",
      "metadata": {
        "id": "_9nB36jbMy4c"
      },
      "source": [
        "#上方コードへ実装済み\n",
        "def _gini(self, y):\n",
        "  classes = np.unique(y)\n",
        "  gini = 1.0\n",
        "  \n",
        "  for i in classes:\n",
        "    gini -= ( len(y [y == i] ) / len(y) ) ** 2\n",
        "  return gini"
      ],
      "execution_count": null,
      "outputs": []
    },
    {
      "cell_type": "markdown",
      "metadata": {
        "id": "49FpTm5Fy8x9"
      },
      "source": [
        "# 【問題2】情報利得を求める関数\n",
        "次に、ノード間の 情報利得 を計算する関数を作成してください。問題1で作成したジニ不純度 \n",
        "I\n",
        "(\n",
        "t\n",
        ")\n",
        " を計算する関数を呼び出して使います。情報利得\n",
        "I\n",
        "G\n",
        "は以下の数式で求まります。うまく分けられている時ほど情報利得は大きくなります。\n",
        "\n",
        "\n",
        "ここで分岐は2つのみであるため、分岐先を「左側のノード・右側のノード」と呼びます。"
      ]
    },
    {
      "cell_type": "code",
      "metadata": {
        "id": "fbDHnIohNBkm"
      },
      "source": [
        "#上方コードへ実装済み\n",
        "def _information_gain(self, y, X_column, split_threh):\n",
        "  parent_entropy = self._gini(y)\n",
        "  split_threh = 0 #仮\n",
        "  left_idxs, right_idxs = self._split(X_column, split_threh)\n",
        "\n",
        "  if len(left_idxs) == 0 or len(right_idxs) == 0:\n",
        "    return 0\n",
        "\n",
        "  n = len(y)\n",
        "  n_l, n_r = len(left_idxs), len(right_idxs)\n",
        "  e_l, e_r = self._gini(y[left_idxs]), self._gini(y[right_idxs])\n",
        "  child_entropy = ( n_l / n ) * e_l + ( n_r / n ) * e_r\n",
        "\n",
        "  ig = parent_entory = child_entropy\n",
        "  return ig"
      ],
      "execution_count": null,
      "outputs": []
    },
    {
      "cell_type": "markdown",
      "metadata": {
        "id": "R2a7c7zUy80w"
      },
      "source": [
        "# 【問題3】学習\n",
        "空間の分割を行い、決定木のグラフを生成するコードを作成してください。今は深さ1の決定木なので、分割を1回だけ行います。ここでグラフを生成するとは、1回の分割の際の条件としてどの特徴量がいくつ以上の時とするかを求めるということです。\n",
        "\n",
        "\n",
        "訓練データに対してすべての組み合わせの分割を行い、その中でノード間の情報利得が最大となる分割をそのノードの分割基準として記録します。\n",
        "\n",
        "\n",
        "クラスが混ざらない不純度が0のノード、または指定された深さのノードが 葉ノード となります。葉ノードにはクラスを記録しておき、これを推定時に分類するクラスとします。クラスが混ざらない場合はそのままのクラスを記録し、混ざっている場合は多数決により決めます。"
      ]
    },
    {
      "cell_type": "code",
      "metadata": {
        "id": "5Dc05jxTNN6_"
      },
      "source": [
        "#上方コードにて実施済み"
      ],
      "execution_count": null,
      "outputs": []
    },
    {
      "cell_type": "markdown",
      "metadata": {
        "id": "j70WLt4hy83P"
      },
      "source": [
        "# 【問題4】推定\n",
        "推定する仕組みを実装してください。ScratchDecesionTreeClassifierDepth1クラスの雛形に含まれるpredictメソッドに書き加えてください。\n",
        "\n",
        "\n",
        "入力されたデータの値を学習した条件で判定していき、どの葉ノードに到達するかを見ます。葉ノードにはクラスが記録されているので、これが推定値となります。"
      ]
    },
    {
      "cell_type": "code",
      "metadata": {
        "id": "4pIlUfDZNXOD"
      },
      "source": [
        "#上方コードにて実施済み"
      ],
      "execution_count": null,
      "outputs": []
    },
    {
      "cell_type": "markdown",
      "metadata": {
        "id": "z6LM86M-y86B"
      },
      "source": [
        "# 【問題5】学習と推定\n",
        "機械学習スクラッチ入門のSprintで用意したシンプルデータセット2の2値分類に対してスクラッチ実装の学習と推定を行なってください。\n",
        "\n",
        "\n",
        "scikit-learnによる実装と比べ、正しく動いているかを確認してください。\n",
        "\n",
        "\n",
        "AccuracyやPrecision、Recallなどの指標値はscikit-learnを使用してください。"
      ]
    },
    {
      "cell_type": "code",
      "metadata": {
        "colab": {
          "base_uri": "https://localhost:8080/"
        },
        "id": "tsBEWIeANhZ2",
        "outputId": "a91495bd-697d-4df2-cfcc-1f4f3755a500"
      },
      "source": [
        "from sklearn.metrics import precision_score\n",
        "from sklearn.metrics import recall_score\n",
        "from sklearn.metrics import f1_score\n",
        "from sklearn.metrics import accuracy_score\n",
        "from sklearn.metrics import confusion_matrix\n",
        "\n",
        "print(f'accuracy_score : {accuracy_score(y_test, Y_pred):.2%}')#正解率（正解の割合）\n",
        "print(f'precision_score : {precision_score(y_test, Y_pred):.2%}')#適合率（陽性と予測されたサンプルのうち正解したサンプルの割合）\n",
        "print(f'recall_score : {recall_score(y_test, Y_pred):.2%}.')#再現率（実際に陽性のサンプルのうち正解したサンプルの割合）\n",
        "print(f'f1_score : {f1_score(y_test, Y_pred):.2%}')#F値（適合率と再現率の調和平均）\n",
        "print('confusion_matrix :')#混同行列\n",
        "print(confusion_matrix(y_test, Y_pred))"
      ],
      "execution_count": 241,
      "outputs": [
        {
          "output_type": "stream",
          "text": [
            "accuracy_score : 50.00%\n",
            "precision_score : 50.00%\n",
            "recall_score : 100.00%.\n",
            "f1_score : 66.67%\n",
            "confusion_matrix :\n",
            "[[0 4]\n",
            " [0 4]]\n"
          ],
          "name": "stdout"
        }
      ]
    },
    {
      "cell_type": "markdown",
      "metadata": {
        "id": "mNo77pbSy88f"
      },
      "source": [
        "# 【問題6】決定領域の可視化\n",
        "決定領域を可視化してください。"
      ]
    },
    {
      "cell_type": "code",
      "metadata": {
        "colab": {
          "base_uri": "https://localhost:8080/",
          "height": 311
        },
        "id": "p4DpaQpoNoEc",
        "outputId": "d0ccaeee-2f7e-4d36-ed4a-d093bae7e10b"
      },
      "source": [
        "import matplotlib.pyplot as plt\n",
        "from matplotlib.colors import ListedColormap\n",
        "import matplotlib.patches as mpatches\n",
        "def decision_region(X, y, model, step=0.01, title='decision region', xlabel='xlabel', ylabel='ylabel', target_names=['0', '1']):\n",
        "    \"\"\"\n",
        "    2値分類を2次元の特徴量で学習したモデルの決定領域を描く。\n",
        "    背景の色が学習したモデルによる推定値から描画される。\n",
        "    散布図の点は訓練データまたは検証データである。\n",
        "    Parameters\n",
        "    ----------------\n",
        "    X : ndarray, shape(n_samples, 2)\n",
        "        特徴量\n",
        "    y : ndarray, shape(n_samples,)\n",
        "        ラベル\n",
        "    model : object\n",
        "        学習したモデルのインスンタスを入れる\n",
        "    step : float, (default : 0.1)\n",
        "        推定値を計算する間隔を設定する\n",
        "    title : str\n",
        "        グラフのタイトルの文章を与える\n",
        "    xlabel, ylabel : str\n",
        "        軸ラベルの文章を与える\n",
        "    target_names= : list of str\n",
        "        凡例の一覧を与える\n",
        "    \"\"\"\n",
        "    # setting\n",
        "    scatter_color = ['red', 'blue']\n",
        "    contourf_color = ['pink', 'skyblue']\n",
        "    n_class = 2\n",
        "    # pred\n",
        "    mesh_f0, mesh_f1  = np.meshgrid(np.arange(np.min(X[:,0])-0.5, np.max(X[:,0])+0.5, step), np.arange(np.min(X[:,1])-0.5, np.max(X[:,1])+0.5, step))\n",
        "    mesh = np.c_[np.ravel(mesh_f0),np.ravel(mesh_f1)]\n",
        "    y_pred = model.predict(mesh).reshape(mesh_f0.shape)\n",
        "    # plot\n",
        "    plt.title(title)\n",
        "    plt.xlabel(xlabel)\n",
        "    plt.ylabel(ylabel)\n",
        "    plt.contourf(mesh_f0, mesh_f1, y_pred, n_class-1, cmap=ListedColormap(contourf_color))\n",
        "    plt.contour(mesh_f0, mesh_f1, y_pred, n_class-1, colors='y', linewidths=3, alpha=0.5)\n",
        "    for i, target in enumerate(set(y)):\n",
        "        plt.scatter(X[y==target][:, 0], X[y==target][:, 1], s=80, color=scatter_color[i], label=target_names[i], marker='o')\n",
        "    patches = [mpatches.Patch(color=scatter_color[i], label=target_names[i]) for i in range(n_class)]\n",
        "    plt.legend(handles=patches)\n",
        "    plt.legend()\n",
        "    plt.show()\n",
        "\n",
        "decision_region(X_train, y_train, a)"
      ],
      "execution_count": 242,
      "outputs": [
        {
          "output_type": "stream",
          "text": [
            "/usr/local/lib/python3.7/dist-packages/ipykernel_launcher.py:39: UserWarning: No contour levels were found within the data range.\n"
          ],
          "name": "stderr"
        },
        {
          "output_type": "display_data",
          "data": {
            "image/png": "[encoded data removed]",
            "text/plain": [
              "<Figure size 432x288 with 1 Axes>"
            ]
          },
          "metadata": {
            "tags": [],
            "needs_background": "light"
          }
        }
      ]
    }
  ]
}