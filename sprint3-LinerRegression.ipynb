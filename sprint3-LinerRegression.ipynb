{
  "nbformat": 4,
  "nbformat_minor": 0,
  "metadata": {
    "colab": {
      "name": "Untitled28.ipynb",
      "provenance": [],
      "collapsed_sections": []
    },
    "kernelspec": {
      "name": "python3",
      "display_name": "Python 3"
    },
    "language_info": {
      "name": "python"
    }
  },
  "cells": [
    {
      "cell_type": "markdown",
      "metadata": {
        "id": "fbxA-ySq0QDp"
      },
      "source": [
        "# Sprint3_線形回帰"
      ]
    },
    {
      "cell_type": "code",
      "metadata": {
        "id": "kd3MxlH2CIw4"
      },
      "source": [
        "import pandas as pd\n",
        "from sklearn.model_selection import train_test_split\n",
        "import numpy as np\n",
        "from sklearn.preprocessing import StandardScaler\n",
        "\n",
        "df = pd.read_csv('drive/My Drive/data/house-prices-advanced-regression-techniques_train.csv')\n",
        "X = df[['GrLivArea', 'YearBuilt']].values #2変数パターン\n",
        "# X = df['GrLivArea'].values.reshape(-1,1) #1変数パターン\n",
        "y = df['SalePrice'].values.reshape(-1,1)\n",
        "\n",
        "X_train, X_test, y_train, y_test = train_test_split(X, y, train_size=0.8)\n",
        "\n",
        "scaler = StandardScaler()\n",
        "X_train_scaled = scaler.fit_transform(X_train)\n",
        "X_test_scaled = scaler.transform(X_test)"
      ],
      "execution_count": 17,
      "outputs": []
    },
    {
      "cell_type": "code",
      "metadata": {
        "id": "iVnohPmuyJSO"
      },
      "source": [
        "class ScratchLinearRegression():\n",
        "\n",
        "    def __init__(self, num_iter, lr, no_bias, verbose):\n",
        "        # ハイパーパラメータを属性として記録\n",
        "        self.iter = num_iter\n",
        "        self.lr = lr\n",
        "        self.no_bias = no_bias\n",
        "        self.verbose = verbose\n",
        "        # 損失を記録する配列を用意\n",
        "        self.loss = np.zeros(self.iter)\n",
        "        self.val_loss = np.zeros(self.iter)\n",
        "\n",
        "    # 問題6（学習と推定）\n",
        "    def fit(self, X, y, X_val=None, y_val=None):\n",
        "        \"\"\"\n",
        "        線形回帰の学習\n",
        "        ----------\n",
        "        Parameters\n",
        "        ----------\n",
        "        X : 次の形のndarray, shape (n_samples, n_features)\n",
        "          学習データの特徴量\n",
        "        y　：　次の形のndarray, shape (n_samples, 1)\n",
        "          学習データの正解値\n",
        "        X_val : 次の形のndarray, shape (n_samples, n_features)\n",
        "          検証データの特徴量\n",
        "        y_val : 次の形のndarray, shape (n_samples, 1)\n",
        "          検証データの正解値\n",
        "        \"\"\"\n",
        "\n",
        "        # メイン処理\n",
        "        self.theta = np.zeros((X.shape[1],1)) #theta初期化\n",
        "        m = len(y)\n",
        "\n",
        "        for i in range(self.iter):\n",
        "            # 問題1（過程関数の計算）\n",
        "            hypothesis = self._linear_hypothesis(X, self.theta)\n",
        "            \n",
        "            # 問題2（最急降下法によるパラメータの更新値計算）\n",
        "            self.theta = self._gradient_descent(X, y, hypothesis, self.theta)\n",
        "\n",
        "            # 問題7（学習曲線のプロット）のグラフ描画時（問題5（損失関数）で作成した関数を使用）\n",
        "            self._loss_func(hypothesis, m, i, y)\n",
        "        \n",
        "        if X_val is not None and y_val is not None: #検証データが引数に設定された場合、検証データにもメイン処理を施し、val_lossを作成する\n",
        "            self.theta_val = np.zeros((X.shape[1],1)) #theta初期化\n",
        "            m_val = len(y_val)\n",
        "\n",
        "            for i in range(self.iter):\n",
        "                hypothesis = self._linear_hypothesis(X_val, self.theta_val)\n",
        "                self.theta_val = self._gradient_descent(X_val, y_val, hypothesis, self.theta_val)\n",
        "                self._loss_func(hypothesis, m_val, i, y_val, val=True)\n",
        "\n",
        "\n",
        "    # 問題1\n",
        "    def _linear_hypothesis(self, X, theta):\n",
        "        \"\"\"\n",
        "        線形の仮定関数を計算する\n",
        "\n",
        "        Parameters\n",
        "        ----------\n",
        "        X : 次の形のndarray, shape (n_samples, n_features)\n",
        "          学習データ\n",
        "        theta：　\n",
        "        　　　　パラメータベクトル（傾き）\n",
        "\n",
        "        Returns\n",
        "        -------\n",
        "        hypothesis： 次の形のndarray, shape (n_samples, 1)\n",
        "          線形の仮定関数による推定結果\n",
        "        \"\"\"\n",
        "\n",
        "        hypothesis = np.dot(X, theta) #yの推定結果\n",
        "\n",
        "        return hypothesis\n",
        "\n",
        "    # 問題2\n",
        "    def _gradient_descent(self, X, y, hypothesis, theta):\n",
        "        \"\"\"\n",
        "        最急降下法によるパラメータの更新値計算\n",
        "        --------\n",
        "        X : 次の形のndarray, shape (n_samples, n_features)\n",
        "          学習データ（説明変数）\n",
        "        y　：　次の形のndarray, shape (n_samples, 1)\n",
        "          学習データ（目的変数）\n",
        "        hypothesis： 次の形のndarray, shape (n_samples, 1)\n",
        "          線形の仮定関数による推定結果\n",
        "        theta：　\n",
        "        　　　　パラメータベクトル（傾き）\n",
        "\n",
        "        Returns\n",
        "        -------\n",
        "        hypothesis： 次の形のndarray, shape (n_samples, 1)\n",
        "          線形の仮定関数による推定結果\n",
        "        \"\"\"\n",
        "        m = len(y)\n",
        "\n",
        "        cost = (1 / m) * np.dot(X.T, (hypothesis - y) )\n",
        "        theta = theta - self.lr * cost #thetaの更新\n",
        "\n",
        "        return theta\n",
        "\n",
        "    # 問題3\n",
        "    def predict(self, X):\n",
        "        \"\"\"\n",
        "        線形回帰での推定\n",
        "        --------\n",
        "        X : 次の形のndarray, shape (n_samples, n_features)\n",
        "          検証データ（説明変数）\n",
        "\n",
        "        Returns\n",
        "        -------\n",
        "        Y_pred：\n",
        "        　　　　検証結果（目的変数）\n",
        "        \"\"\"\n",
        "        Y_pred = self._linear_hypothesis(X, self.theta)\n",
        "\n",
        "        return Y_pred\n",
        "\n",
        "\n",
        "    # 問題5\n",
        "    def _loss_func(self, hypothesis, m, i, y, val=False):\n",
        "        \"\"\"\n",
        "        損失関数\n",
        "        --------\n",
        "        hypothesis： 次の形のndarray, shape (n_samples, 1)\n",
        "          線形の仮定関数による推定結果\n",
        "        m：\n",
        "        　　　y（目的変数）のサンプル数\n",
        "        i：\n",
        "        　　　ループ回数\n",
        "        y　：　次の形のndarray, shape (n_samples, 1)\n",
        "          学習データ（目的変数）\n",
        "        \"\"\"\n",
        "        diff = hypothesis - y\n",
        "        sqr_errors = np.square(diff)\n",
        "        j = 1 / (2 * m) * np.sum(sqr_errors)\n",
        "\n",
        "        if val == False:\n",
        "          self.loss[i] = j\n",
        "        \n",
        "        else:\n",
        "          self.val_loss[i] = j\n",
        "    \n",
        "    # 問題4\n",
        "    def _mse(self, X, y):\n",
        "        \"\"\"\n",
        "        平均二乗誤差の計算\n",
        "        --------\n",
        "        X : 次の形のndarray, shape (n_samples, n_features)\n",
        "          検証データ（説明変数）\n",
        "        y　：　次の形のndarray, shape (n_samples, 1)\n",
        "          検証データ（目的変数）\n",
        "\n",
        "        Returns\n",
        "        -------\n",
        "          線形の仮定関数による推定結果\n",
        "        \"\"\"\n",
        "\n",
        "        return np.mean( ( self.predict(X) - y ) ** 2 )\n",
        "\n",
        "num_iter = 100\n",
        "lr = 0.0000001\n",
        "no_bias = 0\n",
        "verbose=0\n",
        "\n",
        "a = ScratchLinearRegression(num_iter=num_iter, lr=lr, no_bias=no_bias, verbose=verbose)\n",
        "a.fit(X_train,y_train, X_test, y_test)\n",
        "Y_pred = a.predict(X_test)\n",
        "print(Y_pred)"
      ],
      "execution_count": null,
      "outputs": []
    },
    {
      "cell_type": "code",
      "metadata": {
        "colab": {
          "base_uri": "https://localhost:8080/"
        },
        "id": "L1xD2yomViM0",
        "outputId": "1d51414d-0964-456e-a043-9f49cd3439e8"
      },
      "source": [
        "mse = a._mse(X_test, y_test)\n",
        "print(f'mse: {int(mse)}')"
      ],
      "execution_count": 19,
      "outputs": [
        {
          "output_type": "stream",
          "text": [
            "mse: 3600748529\n"
          ],
          "name": "stdout"
        }
      ]
    },
    {
      "cell_type": "code",
      "metadata": {
        "colab": {
          "base_uri": "https://localhost:8080/"
        },
        "id": "Du6M0rC7Y8Y_",
        "outputId": "a0f5c2da-8739-4ebf-ea87-dcc2b7ebffaa"
      },
      "source": [
        "print(y.shape)\n",
        "print(X.shape)\n",
        "print(a.theta[0].shape)"
      ],
      "execution_count": 20,
      "outputs": [
        {
          "output_type": "stream",
          "text": [
            "(1460, 1)\n",
            "(1460, 2)\n",
            "(1,)\n"
          ],
          "name": "stdout"
        }
      ]
    },
    {
      "cell_type": "code",
      "metadata": {
        "colab": {
          "base_uri": "https://localhost:8080/",
          "height": 279
        },
        "id": "X_oh2wPwXoDi",
        "outputId": "5278588f-4f7d-4903-b7a3-3c2cf05ec8ff"
      },
      "source": [
        "import matplotlib.pyplot as plt\n",
        "\n",
        "y_theta = X * a.theta.reshape(1,2)\n",
        "\n",
        "plt.xlabel('description prams')\n",
        "plt.ylabel('Sales Price')\n",
        "plt.scatter(X[:,0], y, color='red') # vs GrLivArea\n",
        "plt.scatter(X[:,1], y, color='blue') #vs YearBuilt\n",
        "plt.plot(X[:,0], y_theta[:,0], color='orange') # vs GrLivArea\n",
        "plt.plot(X[:,1], y_theta[:,1], color='brown') #vs YearBuilt\n",
        "\n",
        "plt.show()"
      ],
      "execution_count": 21,
      "outputs": [
        {
          "output_type": "display_data",
          "data": {
            "image/png": "[encoded data removed]",
            "text/plain": [
              "<Figure size 432x288 with 1 Axes>"
            ]
          },
          "metadata": {
            "tags": [],
            "needs_background": "light"
          }
        }
      ]
    },
    {
      "cell_type": "markdown",
      "metadata": {
        "id": "Ncvu2v2wIawE"
      },
      "source": [
        "# 【問題1】仮定関数\n",
        "以下の数式で表される線形回帰の仮定関数を実装してください。メソッドの雛形を用意してあります。"
      ]
    },
    {
      "cell_type": "code",
      "metadata": {
        "id": "90SDtU9kUQgr"
      },
      "source": [
        "#上方クラスへ実装済み\n",
        "def _linear_hypothesis(X, theta):\n",
        "    \"\"\"\n",
        "    線形の仮定関数を計算する\n",
        "\n",
        "    Parameters\n",
        "    ----------\n",
        "    X : 次の形のndarray, shape (n_samples, n_features)\n",
        "      学習データ\n",
        "    theta：　\n",
        "    　　　　パラメータベクトル（傾き）\n",
        "\n",
        "    Returns\n",
        "    -------\n",
        "    hypothesis： 次の形のndarray, shape (n_samples, 1)\n",
        "      線形の仮定関数による推定結果\n",
        "    \"\"\"\n",
        "\n",
        "    hypothesis = np.dot(X, theta) #yの推定結果\n",
        "\n",
        "    return hypothesis"
      ],
      "execution_count": 22,
      "outputs": []
    },
    {
      "cell_type": "markdown",
      "metadata": {
        "id": "lWTC_NB7I7Mm"
      },
      "source": [
        "# 【問題2】最急降下法\n",
        "最急降下法により学習させる実装を行なってください。以下の式で表されるパラメータの更新式のメソッド_gradient_descentを追加し、fit\n",
        "メソッドから呼び出すようにしてください。"
      ]
    },
    {
      "cell_type": "code",
      "metadata": {
        "id": "RNFXYDQwUcxt"
      },
      "source": [
        "#上方クラスへ実装済み\n",
        "def _gradient_descent(X, y, hypothesis, theta):\n",
        "    \"\"\"\n",
        "    最急降下法によるパラメータの更新値計算\n",
        "    --------\n",
        "    X : 次の形のndarray, shape (n_samples, n_features)\n",
        "      学習データ（説明変数）\n",
        "    y　：　次の形のndarray, shape (n_samples, 1)\n",
        "      学習データ（目的変数）\n",
        "    hypothesis： 次の形のndarray, shape (n_samples, 1)\n",
        "      線形の仮定関数による推定結果\n",
        "    theta：　\n",
        "    　　　　パラメータベクトル（傾き）\n",
        "\n",
        "    Returns\n",
        "    -------\n",
        "    hypothesis： 次の形のndarray, shape (n_samples, 1)\n",
        "      線形の仮定関数による推定結果\n",
        "    \"\"\"\n",
        "    m = len(y)\n",
        "\n",
        "    cost = (1 / m) * np.dot(X.T, (hypothesis - y) )\n",
        "    theta = theta - lr * cost #thetaの更新\n",
        "\n",
        "    return theta"
      ],
      "execution_count": 23,
      "outputs": []
    },
    {
      "cell_type": "markdown",
      "metadata": {
        "id": "KhHaL--8pJr9"
      },
      "source": [
        "# 【問題3】推定\n",
        "推定する仕組みを実装してください。ScratchLinearRegressionクラスの雛形に含まれるpredictメソッドに書き加えてください。\n",
        "\n",
        "\n",
        "仮定関数 \n",
        "h\n",
        "θ\n",
        "(\n",
        "x\n",
        ")\n",
        " の出力が推定結果です。"
      ]
    },
    {
      "cell_type": "code",
      "metadata": {
        "id": "L1Hw3_7-Umx_"
      },
      "source": [
        "#上方クラスへ実装済み\n",
        "def predict(X):\n",
        "    \"\"\"\n",
        "    線形回帰での推定\n",
        "    --------\n",
        "    X : 次の形のndarray, shape (n_samples, n_features)\n",
        "      検証データ（説明変数）\n",
        "\n",
        "    Returns\n",
        "    -------\n",
        "    Y_pred：\n",
        "    　　　　検証結果（目的変数）\n",
        "    \"\"\"\n",
        "    Y_pred = self._linear_hypothesis(X, self.theta)\n",
        "    return Y_pred"
      ],
      "execution_count": 24,
      "outputs": []
    },
    {
      "cell_type": "markdown",
      "metadata": {
        "id": "xnII-yG5pMeu"
      },
      "source": [
        "# 【問題4】平均二乗誤差\n",
        "線形回帰の指標値として用いられる平均二乗誤差（mean square error, MSE）の関数を作成してください。\n",
        "\n",
        "\n",
        "平均二乗誤差関数は回帰問題全般で使える関数のため、ScratchLinearRegressionクラスのメソッドではなく、別の関数として作成してください。雛形を用意してあります。\n",
        "\n",
        "\n",
        "平均二乗誤差は以下の数式で表されます。"
      ]
    },
    {
      "cell_type": "code",
      "metadata": {
        "id": "4KUH2CV2U1x2"
      },
      "source": [
        "#上方クラスへ実装済み\n",
        "def _mse(self, X, y):\n",
        "    \"\"\"\n",
        "    平均二乗誤差の計算\n",
        "    --------\n",
        "    X : 次の形のndarray, shape (n_samples, n_features)\n",
        "      検証データ（説明変数）\n",
        "    y　：　次の形のndarray, shape (n_samples, 1)\n",
        "      検証データ（目的変数）\n",
        "\n",
        "    Returns\n",
        "    -------\n",
        "      線形の仮定関数による推定結果\n",
        "    \"\"\"\n",
        "\n",
        "    return np.mean( ( self.predict(X) - y ) ** 2 )"
      ],
      "execution_count": 25,
      "outputs": []
    },
    {
      "cell_type": "markdown",
      "metadata": {
        "id": "dhLH7IyIpp6P"
      },
      "source": [
        "# 【問題5】目的関数\n",
        "以下の数式で表される線形回帰の 目的関数（損失関数） を実装してください。そして、これをself.loss, self.val_lossに記録するようにしてください。\n",
        "\n",
        "\n",
        "目的関数（損失関数） \n",
        "J\n",
        "(\n",
        "θ\n",
        ")\n",
        " は次の式です。"
      ]
    },
    {
      "cell_type": "code",
      "metadata": {
        "id": "xMFF6CuhpPGl"
      },
      "source": [
        "#上方クラスへ実装済み\n",
        "def _loss_func(self, hypothesis, m, i, y):\n",
        "    \"\"\"\n",
        "    損失関数\n",
        "    --------\n",
        "    hypothesis： 次の形のndarray, shape (n_samples, 1)\n",
        "      線形の仮定関数による推定結果\n",
        "    m：\n",
        "    　　　y（目的変数）のサンプル数\n",
        "    i：\n",
        "    　　　ループ回数\n",
        "    y　：　次の形のndarray, shape (n_samples, 1)\n",
        "      学習データ（目的変数）\n",
        "    \"\"\"\n",
        "    diff = hypothesis - y\n",
        "    sqr_errors = np.square(diff)\n",
        "    j = 1 / (2 * m) * np.sum(sqr_errors)\n",
        "\n",
        "    self.loss[i] = j\n",
        "    # self.val_loss[i] = cost"
      ],
      "execution_count": 26,
      "outputs": []
    },
    {
      "cell_type": "markdown",
      "metadata": {
        "id": "eOgcKRuGpSpB"
      },
      "source": [
        "# 【問題6】学習と推定\n",
        "機械学習スクラッチ入門のSprintで用意したHouse Pricesコンペティションのデータに対してスクラッチ実装の学習と推定を行なってください。\n",
        "\n",
        "\n",
        "scikit-learnによる実装と比べ、正しく動いているかを確認してください。"
      ]
    },
    {
      "cell_type": "code",
      "metadata": {
        "id": "386Iny3zpRvk"
      },
      "source": [
        "from sklearn.linear_model import LinearRegression\n",
        "\n",
        "model = LinearRegression().fit(X_train, y_train)\n",
        "Y_pred = model.predict(X_test)\n",
        "Y_pred"
      ],
      "execution_count": null,
      "outputs": []
    },
    {
      "cell_type": "markdown",
      "metadata": {
        "id": "Ro0CVr5cpV34"
      },
      "source": [
        "# 【問題7】学習曲線のプロット\n",
        "学習曲線を表示する関数を作成し、実行してください。グラフを見て損失が適切に下がっているかどうか確認してください。\n",
        "\n",
        "\n",
        "線形回帰クラスの雛形ではself.loss, self.val_lossに損失を記録しておくようになっているため、入力にはこれを利用してください。"
      ]
    },
    {
      "cell_type": "code",
      "metadata": {
        "colab": {
          "base_uri": "https://localhost:8080/",
          "height": 295
        },
        "id": "fLDKPpAYXOL0",
        "outputId": "d52c21b2-db25-4a87-c767-a1819feb7e4e"
      },
      "source": [
        "plt.title('learning curve of LinearRegression')\n",
        "plt.xlabel('iter')\n",
        "plt.ylabel('theta(weight)')\n",
        "plt.plot(a.loss, linewidth=5, alpha=0.7, label='train data')\n",
        "plt.plot(a.val_loss, linewidth=5, alpha=0.7, label='vali data')\n",
        "plt.legend()\n",
        "plt.show()"
      ],
      "execution_count": 35,
      "outputs": [
        {
          "output_type": "display_data",
          "data": {
            "image/png": "[encoded data removed]",
            "text/plain": [
              "<Figure size 432x288 with 1 Axes>"
            ]
          },
          "metadata": {
            "tags": [],
            "needs_background": "light"
          }
        }
      ]
    }
  ]
}