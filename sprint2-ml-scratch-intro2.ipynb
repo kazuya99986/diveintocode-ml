{
  "nbformat": 4,
  "nbformat_minor": 0,
  "metadata": {
    "colab": {
      "name": "Untitled27.ipynb",
      "provenance": []
    },
    "kernelspec": {
      "name": "python3",
      "display_name": "Python 3"
    },
    "language_info": {
      "name": "python"
    }
  },
  "cells": [
    {
      "cell_type": "code",
      "metadata": {
        "id": "PzyH-xv_gylT"
      },
      "source": [
        "import numpy as np\n",
        "import random\n",
        "from sklearn.model_selection import train_test_split\n",
        "from sklearn.metrics import precision_score\n",
        "from sklearn.metrics import recall_score\n",
        "from sklearn.metrics import f1_score\n",
        "from sklearn.metrics import accuracy_score\n",
        "from sklearn.metrics import confusion_matrix"
      ],
      "execution_count": 259,
      "outputs": []
    },
    {
      "cell_type": "markdown",
      "metadata": {
        "id": "i8oLv0j8iyb7"
      },
      "source": [
        "# 【問題1】train_test_split のスクラッチ\n",
        "まずは、scikit-learnの train_test_split をスクラッチしてみます。以下の雛形をベースに関数を実装してください。\n",
        "\n",
        "なお、作成した関数がscikit-learnの train_test_split と同じ動作をするか必ず確認をしましょう。"
      ]
    },
    {
      "cell_type": "code",
      "metadata": {
        "id": "Nisn8saAi1fF"
      },
      "source": [
        "def scratch_train_test_split(X, y, train_size=0.8):\n",
        "    \"\"\"検証データを分割する。\n",
        "    Parameters\n",
        "    ----------\n",
        "    X : ndarray\n",
        "      訓練データ (n_samples, n_features)\n",
        "    y : ndarray\n",
        "      正解値 (n_samples,)\n",
        "    train_size : float\n",
        "      何割をtrainとするか指定 (0 < train_size < 1)\n",
        "    Returns\n",
        "    -------\n",
        "    X_train : ndarray\n",
        "      訓練データ (n_samples, n_features)\n",
        "    X_test : ndarray\n",
        "      検証データ (n_samples, n_features)\n",
        "    y_train : ndarray\n",
        "      訓練データの正解値 (n_samples,)\n",
        "    y_test : ndarray\n",
        "      検証データの正解値 (n_samples,)\n",
        "    \"\"\"\n",
        "    index_list = random.sample(range(len(X) - 1), k=int(len(X) * train_size))\n",
        "    \n",
        "    X_train = X[index_list,:]\n",
        "    y_train = y[index_list,:]\n",
        "\n",
        "    X_test = np.delete(X, index_list, 0)\n",
        "    y_test = np.delete(y, index_list, 0)\n",
        "    \n",
        "    return X_train, X_test, y_train, y_test"
      ],
      "execution_count": 185,
      "outputs": []
    },
    {
      "cell_type": "code",
      "metadata": {
        "colab": {
          "base_uri": "https://localhost:8080/"
        },
        "id": "Ps38W9xGm--x",
        "outputId": "2e731c7f-f75e-415b-9f18-9e09c7505eda"
      },
      "source": [
        "X = np.arange(14).reshape(7,2)\n",
        "y = np.arange(14).reshape(7,2)\n",
        "\n",
        "#スクラッチ実装版\n",
        "X_train, X_test, y_train, y_test = scratch_train_test_split(X, y, train_size=0.8)\n",
        "\n",
        "print(X_train.shape)\n",
        "print(y_train.shape)\n",
        "print(X_test.shape)\n",
        "print(y_test.shape)"
      ],
      "execution_count": 186,
      "outputs": [
        {
          "output_type": "stream",
          "text": [
            "(5, 2)\n",
            "(5, 2)\n",
            "(2, 2)\n",
            "(2, 2)\n"
          ],
          "name": "stdout"
        }
      ]
    },
    {
      "cell_type": "code",
      "metadata": {
        "colab": {
          "base_uri": "https://localhost:8080/"
        },
        "id": "jsQDrAFkxqaP",
        "outputId": "dc49460a-be3a-4a0d-f322-881a649dfe59"
      },
      "source": [
        "#モジュール版\n",
        "X_train, X_test, y_train, y_test = train_test_split(X, y, train_size=0.8)\n",
        "\n",
        "print(X_train.shape)\n",
        "print(y_train.shape)\n",
        "print(X_test.shape)\n",
        "print(y_test.shape)"
      ],
      "execution_count": 187,
      "outputs": [
        {
          "output_type": "stream",
          "text": [
            "(5, 2)\n",
            "(5, 2)\n",
            "(2, 2)\n",
            "(2, 2)\n"
          ],
          "name": "stdout"
        }
      ]
    },
    {
      "cell_type": "markdown",
      "metadata": {
        "id": "mYCzsosRzd9A"
      },
      "source": [
        "# 【問題2】 分類問題を解くコードの作成\n",
        "上記3種類の手法で3種類のデータセットを学習・推定するコードを作成してください。"
      ]
    },
    {
      "cell_type": "code",
      "metadata": {
        "id": "ooSGMOda7-5j"
      },
      "source": [
        "#irisデータ\n",
        "from sklearn.datasets import load_iris\n",
        "data = load_iris()\n",
        "X = np.array(data.data)\n",
        "y = np.array(data.target).reshape(150,1)\n",
        "\n",
        "temp = np.concatenate((X,y),axis=1)\n",
        "temp = temp[temp[:,4] > 0] #virgicolorとvirginica抽出\n",
        "\n",
        "X = temp[:,:4]\n",
        "y = temp[:,-1].reshape(100,1)"
      ],
      "execution_count": 260,
      "outputs": []
    },
    {
      "cell_type": "code",
      "metadata": {
        "id": "F64pcjzjpQKr"
      },
      "source": [
        "def learning_and_result(X, y, model, loss='log'):\n",
        "  '''\n",
        "  ①データ分割\n",
        "  ②学習、判定\n",
        "  ③スコア出力\n",
        "  -----\n",
        "  引数：\n",
        "  X = 説明変数\n",
        "  y = 目的変数\n",
        "  model = 学習モデル\n",
        "  loss = 学習時の変数（SGDClassifierのみ適用）\n",
        "  -----\n",
        "  戻り値：\n",
        "  なし\n",
        "  '''\n",
        "  X_train, X_test, y_train, y_test = scratch_train_test_split(X, y, train_size=0.8)\n",
        "\n",
        "  if model == 'SGDClassifier': #SGDClassifierのみloss変数適用\n",
        "    clf = model(loss=loss)\n",
        "  else:\n",
        "    clf = model()\n",
        "\n",
        "  clf.fit(X_train, y_train)\n",
        "  Y_pred = clf.predict(X_test)\n",
        "  \n",
        "  print(f'accuracy_score: {accuracy_score(y_test, Y_pred)}')\n",
        "  print(f'precision_score: {precision_score(y_test, Y_pred)}')\n",
        "  print(f'recall_score: {recall_score(y_test, Y_pred)}')\n",
        "  print(f'f1_score: {f1_score(y_test, Y_pred)}')\n",
        "  print('confusion_matrix:') \n",
        "  print(confusion_matrix(y_test, Y_pred))"
      ],
      "execution_count": 316,
      "outputs": []
    },
    {
      "cell_type": "markdown",
      "metadata": {
        "id": "nrSMYsejbT7_"
      },
      "source": [
        "SGDClassifier"
      ]
    },
    {
      "cell_type": "code",
      "metadata": {
        "colab": {
          "base_uri": "https://localhost:8080/"
        },
        "id": "yEKnxgqN2jSS",
        "outputId": "b4077f27-b19d-4a4a-fdea-4f8a1c8e8d5a"
      },
      "source": [
        "from sklearn.preprocessing import StandardScaler\n",
        "from sklearn.linear_model import SGDClassifier\n",
        "\n",
        "scaler = StandardScaler()\n",
        "scaler.fit(X)\n",
        "X = scaler.transform(X)\n",
        "\n",
        "learning_and_result(X, y, SGDClassifier, loss='log')"
      ],
      "execution_count": 262,
      "outputs": [
        {
          "output_type": "stream",
          "text": [
            "accuracy_score: 0.9\n",
            "precision_score: 0.8571428571428571\n",
            "recall_score: 0.8571428571428571\n",
            "f1_score: 0.8571428571428571\n",
            "confusion_matrix:\n",
            "[[ 6  1]\n",
            " [ 1 12]]\n"
          ],
          "name": "stdout"
        },
        {
          "output_type": "stream",
          "text": [
            "/usr/local/lib/python3.7/dist-packages/sklearn/utils/validation.py:760: DataConversionWarning: A column-vector y was passed when a 1d array was expected. Please change the shape of y to (n_samples, ), for example using ravel().\n",
            "  y = column_or_1d(y, warn=True)\n"
          ],
          "name": "stderr"
        }
      ]
    },
    {
      "cell_type": "markdown",
      "metadata": {
        "id": "rxkVq0OlZu4z"
      },
      "source": [
        "SVM"
      ]
    },
    {
      "cell_type": "code",
      "metadata": {
        "colab": {
          "base_uri": "https://localhost:8080/"
        },
        "id": "T3nmLx2stVr3",
        "outputId": "b8f863af-6a10-4dc1-b56b-2f603e2d71ed"
      },
      "source": [
        "from sklearn.svm import SVC\n",
        "\n",
        "learning_and_result(X, y, SVC)"
      ],
      "execution_count": 263,
      "outputs": [
        {
          "output_type": "stream",
          "text": [
            "accuracy_score: 1.0\n",
            "precision_score: 1.0\n",
            "recall_score: 1.0\n",
            "f1_score: 1.0\n",
            "confusion_matrix:\n",
            "[[ 9  0]\n",
            " [ 0 11]]\n"
          ],
          "name": "stdout"
        },
        {
          "output_type": "stream",
          "text": [
            "/usr/local/lib/python3.7/dist-packages/sklearn/utils/validation.py:760: DataConversionWarning: A column-vector y was passed when a 1d array was expected. Please change the shape of y to (n_samples, ), for example using ravel().\n",
            "  y = column_or_1d(y, warn=True)\n"
          ],
          "name": "stderr"
        }
      ]
    },
    {
      "cell_type": "markdown",
      "metadata": {
        "id": "JbOJ0DUttjI_"
      },
      "source": [
        "決定木"
      ]
    },
    {
      "cell_type": "code",
      "metadata": {
        "colab": {
          "base_uri": "https://localhost:8080/"
        },
        "id": "r-HkNQjMtiyg",
        "outputId": "bb0e2f81-c12a-4205-ce14-c3979648c501"
      },
      "source": [
        "from sklearn.tree import DecisionTreeClassifier\n",
        "\n",
        "learning_and_result(X, y, DecisionTreeClassifier)"
      ],
      "execution_count": 264,
      "outputs": [
        {
          "output_type": "stream",
          "text": [
            "accuracy_score: 0.95\n",
            "precision_score: 1.0\n",
            "recall_score: 0.8888888888888888\n",
            "f1_score: 0.9411764705882353\n",
            "confusion_matrix:\n",
            "[[ 8  1]\n",
            " [ 0 11]]\n"
          ],
          "name": "stdout"
        }
      ]
    },
    {
      "cell_type": "code",
      "metadata": {
        "id": "FtoxQT0mZ70I"
      },
      "source": [
        "#シンプルデータセット1作成コード\n",
        "np.random.seed(seed=0)\n",
        "n_samples = 500\n",
        "f0 = [-1, 2]\n",
        "f1 = [2, -1]\n",
        "cov = [[1.0,0.8], [0.8, 1.0]]\n",
        "f0 = np.random.multivariate_normal(f0, cov, n_samples // 2)\n",
        "f1 = np.random.multivariate_normal(f1, cov, n_samples // 2)\n",
        "X = np.concatenate([f0, f1])\n",
        "y = np.concatenate([\n",
        "    np.full(n_samples // 2, 1),\n",
        "    np.full(n_samples // 2, -1)\n",
        "])\n",
        "\n",
        "y = y.reshape(500,1)"
      ],
      "execution_count": 265,
      "outputs": []
    },
    {
      "cell_type": "markdown",
      "metadata": {
        "id": "Al90aQyeu1Dd"
      },
      "source": [
        "SGDClassifier"
      ]
    },
    {
      "cell_type": "code",
      "metadata": {
        "colab": {
          "base_uri": "https://localhost:8080/"
        },
        "id": "hub_MWhXu36j",
        "outputId": "661d4061-44e1-4e4a-ee59-4cf8250174b1"
      },
      "source": [
        "learning_and_result(X, y, SGDClassifier, loss='log')"
      ],
      "execution_count": 266,
      "outputs": [
        {
          "output_type": "stream",
          "text": [
            "accuracy_score: 1.0\n",
            "precision_score: 1.0\n",
            "recall_score: 1.0\n",
            "f1_score: 1.0\n",
            "confusion_matrix:\n",
            "[[54  0]\n",
            " [ 0 46]]\n"
          ],
          "name": "stdout"
        },
        {
          "output_type": "stream",
          "text": [
            "/usr/local/lib/python3.7/dist-packages/sklearn/utils/validation.py:760: DataConversionWarning: A column-vector y was passed when a 1d array was expected. Please change the shape of y to (n_samples, ), for example using ravel().\n",
            "  y = column_or_1d(y, warn=True)\n"
          ],
          "name": "stderr"
        }
      ]
    },
    {
      "cell_type": "markdown",
      "metadata": {
        "id": "Y5CaBe0uu9jM"
      },
      "source": [
        "SVM"
      ]
    },
    {
      "cell_type": "code",
      "metadata": {
        "colab": {
          "base_uri": "https://localhost:8080/"
        },
        "id": "FCR9xSxvu_zJ",
        "outputId": "c15079e9-c0f0-4ed4-b359-5d4e7ed554b0"
      },
      "source": [
        "learning_and_result(X, y, SVC)"
      ],
      "execution_count": 267,
      "outputs": [
        {
          "output_type": "stream",
          "text": [
            "accuracy_score: 1.0\n",
            "precision_score: 1.0\n",
            "recall_score: 1.0\n",
            "f1_score: 1.0\n",
            "confusion_matrix:\n",
            "[[54  0]\n",
            " [ 0 46]]\n"
          ],
          "name": "stdout"
        },
        {
          "output_type": "stream",
          "text": [
            "/usr/local/lib/python3.7/dist-packages/sklearn/utils/validation.py:760: DataConversionWarning: A column-vector y was passed when a 1d array was expected. Please change the shape of y to (n_samples, ), for example using ravel().\n",
            "  y = column_or_1d(y, warn=True)\n"
          ],
          "name": "stderr"
        }
      ]
    },
    {
      "cell_type": "markdown",
      "metadata": {
        "id": "XoLwQ6E6vEOw"
      },
      "source": [
        "決定木"
      ]
    },
    {
      "cell_type": "code",
      "metadata": {
        "colab": {
          "base_uri": "https://localhost:8080/"
        },
        "id": "tfLeIGHUvKte",
        "outputId": "3b1eb35d-6143-4d10-ce87-43324eaee973"
      },
      "source": [
        "learning_and_result(X, y, DecisionTreeClassifier)"
      ],
      "execution_count": 268,
      "outputs": [
        {
          "output_type": "stream",
          "text": [
            "accuracy_score: 1.0\n",
            "precision_score: 1.0\n",
            "recall_score: 1.0\n",
            "f1_score: 1.0\n",
            "confusion_matrix:\n",
            "[[49  0]\n",
            " [ 0 51]]\n"
          ],
          "name": "stdout"
        }
      ]
    },
    {
      "cell_type": "code",
      "metadata": {
        "id": "EU9KNhk5aBc9"
      },
      "source": [
        "#シンプルデータセット2作成コード\n",
        "X = np.array([\n",
        "    [-0.44699 , -2.8073  ],[-1.4621  , -2.4586  ],\n",
        "    [ 0.10645 ,  1.9242  ],[-3.5944  , -4.0112  ],\n",
        "    [-0.9888  ,  4.5718  ],[-3.1625  , -3.9606  ],\n",
        "    [ 0.56421 ,  0.72888 ],[-0.60216 ,  8.4636  ],\n",
        "    [-0.61251 , -0.75345 ],[-0.73535 , -2.2718  ],\n",
        "    [-0.80647 , -2.2135  ],[ 0.86291 ,  2.3946  ],\n",
        "    [-3.1108  ,  0.15394 ],[-2.9362  ,  2.5462  ],\n",
        "    [-0.57242 , -2.9915  ],[ 1.4771  ,  3.4896  ],\n",
        "    [ 0.58619 ,  0.37158 ],[ 0.6017  ,  4.3439  ],\n",
        "    [-2.1086  ,  8.3428  ],[-4.1013  , -4.353   ],\n",
        "    [-1.9948  , -1.3927  ],[ 0.35084 , -0.031994],\n",
        "    [ 0.96765 ,  7.8929  ],[-1.281   , 15.6824  ],\n",
        "    [ 0.96765 , 10.083   ],[ 1.3763  ,  1.3347  ],\n",
        "    [-2.234   , -2.5323  ],[-2.9452  , -1.8219  ],\n",
        "    [ 0.14654 , -0.28733 ],[ 0.5461  ,  5.8245  ],\n",
        "    [-0.65259 ,  9.3444  ],[ 0.59912 ,  5.3524  ],\n",
        "    [ 0.50214 , -0.31818 ],[-3.0603  , -3.6461  ],\n",
        "    [-6.6797  ,  0.67661 ],[-2.353   , -0.72261 ],\n",
        "    [ 1.1319  ,  2.4023  ],[-0.12243 ,  9.0162  ],\n",
        "    [-2.5677  , 13.1779  ],[ 0.057313,  5.4681  ],\n",
        "])\n",
        "y = np.array([0, 0, 0, 0, 0, 0, 0, 0, 0, 0, 0, 0, 0, 0, 0, 0, 0, 0, 0, 0, 1, 1,\n",
        "       1, 1, 1, 1, 1, 1, 1, 1, 1, 1, 1, 1, 1, 1, 1, 1, 1, 1])\n",
        "\n",
        "y = y.reshape(40,1)"
      ],
      "execution_count": 271,
      "outputs": []
    },
    {
      "cell_type": "markdown",
      "metadata": {
        "id": "AiXDIxmvvcIq"
      },
      "source": [
        "SGDClassifier"
      ]
    },
    {
      "cell_type": "code",
      "metadata": {
        "colab": {
          "base_uri": "https://localhost:8080/"
        },
        "id": "wgOiCcRIvftf",
        "outputId": "f36e6957-fd37-4e27-941d-fa3bbeb0b24b"
      },
      "source": [
        "learning_and_result(X, y, SGDClassifier, loss='log')"
      ],
      "execution_count": 272,
      "outputs": [
        {
          "output_type": "stream",
          "text": [
            "accuracy_score: 0.375\n",
            "precision_score: 0.5\n",
            "recall_score: 0.4\n",
            "f1_score: 0.4444444444444445\n",
            "confusion_matrix:\n",
            "[[1 2]\n",
            " [3 2]]\n"
          ],
          "name": "stdout"
        },
        {
          "output_type": "stream",
          "text": [
            "/usr/local/lib/python3.7/dist-packages/sklearn/utils/validation.py:760: DataConversionWarning: A column-vector y was passed when a 1d array was expected. Please change the shape of y to (n_samples, ), for example using ravel().\n",
            "  y = column_or_1d(y, warn=True)\n"
          ],
          "name": "stderr"
        }
      ]
    },
    {
      "cell_type": "markdown",
      "metadata": {
        "id": "8eo6JdEbvn7d"
      },
      "source": [
        "SVM"
      ]
    },
    {
      "cell_type": "code",
      "metadata": {
        "colab": {
          "base_uri": "https://localhost:8080/"
        },
        "id": "lM6v-dqRvrsQ",
        "outputId": "5f279080-96ac-4df8-cf68-d990958ee5fe"
      },
      "source": [
        "learning_and_result(X, y, SVC)"
      ],
      "execution_count": 273,
      "outputs": [
        {
          "output_type": "stream",
          "text": [
            "accuracy_score: 0.25\n",
            "precision_score: 1.0\n",
            "recall_score: 0.14285714285714285\n",
            "f1_score: 0.25\n",
            "confusion_matrix:\n",
            "[[1 0]\n",
            " [6 1]]\n"
          ],
          "name": "stdout"
        },
        {
          "output_type": "stream",
          "text": [
            "/usr/local/lib/python3.7/dist-packages/sklearn/utils/validation.py:760: DataConversionWarning: A column-vector y was passed when a 1d array was expected. Please change the shape of y to (n_samples, ), for example using ravel().\n",
            "  y = column_or_1d(y, warn=True)\n"
          ],
          "name": "stderr"
        }
      ]
    },
    {
      "cell_type": "markdown",
      "metadata": {
        "id": "P5-59I4YvvSX"
      },
      "source": [
        "決定木"
      ]
    },
    {
      "cell_type": "code",
      "metadata": {
        "colab": {
          "base_uri": "https://localhost:8080/"
        },
        "id": "ce_3hNbOvxWc",
        "outputId": "a1da0a55-b505-4bcb-a8d6-2bfe5e9c3da5"
      },
      "source": [
        "learning_and_result(X, y, DecisionTreeClassifier)"
      ],
      "execution_count": 274,
      "outputs": [
        {
          "output_type": "stream",
          "text": [
            "accuracy_score: 0.75\n",
            "precision_score: 0.6666666666666666\n",
            "recall_score: 1.0\n",
            "f1_score: 0.8\n",
            "confusion_matrix:\n",
            "[[2 2]\n",
            " [0 4]]\n"
          ],
          "name": "stdout"
        }
      ]
    },
    {
      "cell_type": "markdown",
      "metadata": {
        "id": "4ZNQf_IXeQwR"
      },
      "source": [
        "# 【問題3】 回帰問題を解くコードの作成\n",
        "線形回帰でHouse Pricesデータセットを学習・推定するコードを作成してください。"
      ]
    },
    {
      "cell_type": "code",
      "metadata": {
        "id": "BEgaY2Yuextd"
      },
      "source": [
        "import pandas as pd\n",
        "\n",
        "df = pd.read_csv('drive/My Drive/data/house-prices-advanced-regression-techniques_train.csv')"
      ],
      "execution_count": null,
      "outputs": []
    },
    {
      "cell_type": "code",
      "metadata": {
        "id": "zE1g2JRIyqAg"
      },
      "source": [
        "X = df[['GrLivArea','YearBuilt']].values\n",
        "y = df['SalePrice'].values.reshape(1460,1)"
      ],
      "execution_count": 342,
      "outputs": []
    },
    {
      "cell_type": "code",
      "metadata": {
        "colab": {
          "base_uri": "https://localhost:8080/"
        },
        "id": "NoJJW9dDzxQW",
        "outputId": "f10e26ec-f2f0-4701-9d4f-1cb69bbbf73f"
      },
      "source": [
        "from sklearn.linear_model import SGDRegressor\n",
        "from sklearn.metrics import mean_squared_error\n",
        "from sklearn.metrics import mean_squared_log_error\n",
        "from sklearn.metrics import mean_absolute_error\n",
        "from sklearn.metrics import r2_score\n",
        "\n",
        "# scaler = StandardScaler()\n",
        "# scaler.fit(X)\n",
        "# X = scaler.transform(X)\n",
        "\n",
        "X_train, X_test, y_train, y_test = scratch_train_test_split(X, y, train_size=0.8)\n",
        "\n",
        "clf = SGDRegressor()\n",
        "clf.fit(X_train, y_train)\n",
        "Y_pred = clf.predict(X_test)\n",
        "\n",
        "print(f'MSE: {mean_squared_error(y_test, Y_pred)}')\n",
        "# print(f'MSLE: {mean_squared_log_error(y_test, Y_pred)}') \n",
        "# print(f'RMSLE: {np.sqrt(mean_squared_log_error(y_test, Y_pred))}')\n",
        "print(f'MAE: {mean_absolute_error(y_test, Y_pred)}')\n",
        "print(f'R2: {r2_score(y_test, Y_pred)}')"
      ],
      "execution_count": 343,
      "outputs": [
        {
          "output_type": "stream",
          "text": [
            "MSE: 1.0060196436676033e+31\n",
            "MAE: 2985363391778918.5\n",
            "R2: -1.4666736463934042e+21\n"
          ],
          "name": "stdout"
        },
        {
          "output_type": "stream",
          "text": [
            "/usr/local/lib/python3.7/dist-packages/sklearn/utils/validation.py:760: DataConversionWarning: A column-vector y was passed when a 1d array was expected. Please change the shape of y to (n_samples, ), for example using ravel().\n",
            "  y = column_or_1d(y, warn=True)\n"
          ],
          "name": "stderr"
        }
      ]
    }
  ]
}