{
  "nbformat": 4,
  "nbformat_minor": 0,
  "metadata": {
    "colab": {
      "name": "sprint9.ipynb",
      "provenance": [],
      "collapsed_sections": []
    },
    "kernelspec": {
      "name": "python3",
      "display_name": "Python 3"
    },
    "language_info": {
      "name": "python"
    }
  },
  "cells": [
    {
      "cell_type": "code",
      "metadata": {
        "colab": {
          "base_uri": "https://localhost:8080/"
        },
        "id": "ZRo7zaLMamFL",
        "outputId": "ec46a774-5ade-4798-ce43-8c56d7685c1e"
      },
      "source": [
        "from keras.datasets import mnist\n",
        "import numpy as np\n",
        "\n",
        "(X_train, y_train), (X_test, y_test) = mnist.load_data()\n",
        "\n",
        "X_train = X_train.reshape(-1, 784)\n",
        "X_test = X_test.reshape(-1, 784)"
      ],
      "execution_count": 1,
      "outputs": [
        {
          "output_type": "stream",
          "text": [
            "Downloading data from https://storage.googleapis.com/tensorflow/tf-keras-datasets/mnist.npz\n",
            "11493376/11490434 [==============================] - 0s 0us/step\n",
            "11501568/11490434 [==============================] - 0s 0us/step\n"
          ],
          "name": "stdout"
        }
      ]
    },
    {
      "cell_type": "code",
      "metadata": {
        "colab": {
          "base_uri": "https://localhost:8080/",
          "height": 281
        },
        "id": "NwMeN_KZasmt",
        "outputId": "938fd29c-f4ed-41b8-aae5-6a7804fc8649"
      },
      "source": [
        "import matplotlib.pyplot as plt\n",
        "%matplotlib inline\n",
        "index = 1\n",
        "image = X_train[index].reshape(28,28)\n",
        "# X_train[index]: (784,)\n",
        "# image: (28, 28)\n",
        "plt.imshow(image, 'gray')\n",
        "plt.title('label : {}'.format(y_train[index]))\n",
        "plt.show()"
      ],
      "execution_count": 3,
      "outputs": [
        {
          "output_type": "display_data",
          "data": {
            "image/png": "[encoded data removed]",
            "text/plain": [
              "<Figure size 432x288 with 1 Axes>"
            ]
          },
          "metadata": {
            "tags": [],
            "needs_background": "light"
          }
        }
      ]
    },
    {
      "cell_type": "code",
      "metadata": {
        "colab": {
          "base_uri": "https://localhost:8080/",
          "height": 1000
        },
        "id": "gjylc31EatDt",
        "outputId": "01302be7-1220-49aa-8f17-61593d563838"
      },
      "source": [
        "index = 0\n",
        "image = X_train[index].reshape(28,28)\n",
        "image = image.astype(np.float) # float型に変換\n",
        "image -= 105.35 # 意図的に負の小数値を作り出してみる\n",
        "plt.imshow(image, 'gray')\n",
        "plt.title('label : {}'.format(y_train[index]))\n",
        "plt.show()\n",
        "print(image) # 値を確認"
      ],
      "execution_count": 4,
      "outputs": [
        {
          "output_type": "display_data",
          "data": {
            "image/png": "[encoded data removed]",
            "text/plain": [
              "<Figure size 432x288 with 1 Axes>"
            ]
          },
          "metadata": {
            "tags": [],
            "needs_background": "light"
          }
        },
        {
          "output_type": "stream",
          "text": [
            "[[-105.35 -105.35 -105.35 -105.35 -105.35 -105.35 -105.35 -105.35 -105.35\n",
            "  -105.35 -105.35 -105.35 -105.35 -105.35 -105.35 -105.35 -105.35 -105.35\n",
            "  -105.35 -105.35 -105.35 -105.35 -105.35 -105.35 -105.35 -105.35 -105.35\n",
            "  -105.35]\n",
            " [-105.35 -105.35 -105.35 -105.35 -105.35 -105.35 -105.35 -105.35 -105.35\n",
            "  -105.35 -105.35 -105.35 -105.35 -105.35 -105.35 -105.35 -105.35 -105.35\n",
            "  -105.35 -105.35 -105.35 -105.35 -105.35 -105.35 -105.35 -105.35 -105.35\n",
            "  -105.35]\n",
            " [-105.35 -105.35 -105.35 -105.35 -105.35 -105.35 -105.35 -105.35 -105.35\n",
            "  -105.35 -105.35 -105.35 -105.35 -105.35 -105.35 -105.35 -105.35 -105.35\n",
            "  -105.35 -105.35 -105.35 -105.35 -105.35 -105.35 -105.35 -105.35 -105.35\n",
            "  -105.35]\n",
            " [-105.35 -105.35 -105.35 -105.35 -105.35 -105.35 -105.35 -105.35 -105.35\n",
            "  -105.35 -105.35 -105.35 -105.35 -105.35 -105.35 -105.35 -105.35 -105.35\n",
            "  -105.35 -105.35 -105.35 -105.35 -105.35 -105.35 -105.35 -105.35 -105.35\n",
            "  -105.35]\n",
            " [-105.35 -105.35 -105.35 -105.35 -105.35 -105.35 -105.35 -105.35 -105.35\n",
            "  -105.35 -105.35 -105.35 -105.35 -105.35 -105.35 -105.35 -105.35 -105.35\n",
            "  -105.35 -105.35 -105.35 -105.35 -105.35 -105.35 -105.35 -105.35 -105.35\n",
            "  -105.35]\n",
            " [-105.35 -105.35 -105.35 -105.35 -105.35 -105.35 -105.35 -105.35 -105.35\n",
            "  -105.35 -105.35 -105.35 -102.35  -87.35  -87.35  -87.35   20.65   30.65\n",
            "    69.65  -79.35   60.65  149.65  141.65   21.65 -105.35 -105.35 -105.35\n",
            "  -105.35]\n",
            " [-105.35 -105.35 -105.35 -105.35 -105.35 -105.35 -105.35 -105.35  -75.35\n",
            "   -69.35  -11.35   48.65   64.65  147.65  147.65  147.65  147.65  147.65\n",
            "   119.65   66.65  147.65  136.65   89.65  -41.35 -105.35 -105.35 -105.35\n",
            "  -105.35]\n",
            " [-105.35 -105.35 -105.35 -105.35 -105.35 -105.35 -105.35  -56.35  132.65\n",
            "   147.65  147.65  147.65  147.65  147.65  147.65  147.65  147.65  145.65\n",
            "   -12.35  -23.35  -23.35  -49.35  -66.35 -105.35 -105.35 -105.35 -105.35\n",
            "  -105.35]\n",
            " [-105.35 -105.35 -105.35 -105.35 -105.35 -105.35 -105.35  -87.35  113.65\n",
            "   147.65  147.65  147.65  147.65  147.65   92.65   76.65  141.65  135.65\n",
            "  -105.35 -105.35 -105.35 -105.35 -105.35 -105.35 -105.35 -105.35 -105.35\n",
            "  -105.35]\n",
            " [-105.35 -105.35 -105.35 -105.35 -105.35 -105.35 -105.35 -105.35  -25.35\n",
            "    50.65    1.65  147.65  147.65   99.65  -94.35 -105.35  -62.35   48.65\n",
            "  -105.35 -105.35 -105.35 -105.35 -105.35 -105.35 -105.35 -105.35 -105.35\n",
            "  -105.35]\n",
            " [-105.35 -105.35 -105.35 -105.35 -105.35 -105.35 -105.35 -105.35 -105.35\n",
            "   -91.35 -104.35   48.65  147.65  -15.35 -105.35 -105.35 -105.35 -105.35\n",
            "  -105.35 -105.35 -105.35 -105.35 -105.35 -105.35 -105.35 -105.35 -105.35\n",
            "  -105.35]\n",
            " [-105.35 -105.35 -105.35 -105.35 -105.35 -105.35 -105.35 -105.35 -105.35\n",
            "  -105.35 -105.35   33.65  147.65   84.65 -103.35 -105.35 -105.35 -105.35\n",
            "  -105.35 -105.35 -105.35 -105.35 -105.35 -105.35 -105.35 -105.35 -105.35\n",
            "  -105.35]\n",
            " [-105.35 -105.35 -105.35 -105.35 -105.35 -105.35 -105.35 -105.35 -105.35\n",
            "  -105.35 -105.35  -94.35   84.65  147.65  -35.35 -105.35 -105.35 -105.35\n",
            "  -105.35 -105.35 -105.35 -105.35 -105.35 -105.35 -105.35 -105.35 -105.35\n",
            "  -105.35]\n",
            " [-105.35 -105.35 -105.35 -105.35 -105.35 -105.35 -105.35 -105.35 -105.35\n",
            "  -105.35 -105.35 -105.35  -70.35  135.65  119.65   54.65    2.65 -104.35\n",
            "  -105.35 -105.35 -105.35 -105.35 -105.35 -105.35 -105.35 -105.35 -105.35\n",
            "  -105.35]\n",
            " [-105.35 -105.35 -105.35 -105.35 -105.35 -105.35 -105.35 -105.35 -105.35\n",
            "  -105.35 -105.35 -105.35 -105.35  -24.35  134.65  147.65  147.65   13.65\n",
            "   -80.35 -105.35 -105.35 -105.35 -105.35 -105.35 -105.35 -105.35 -105.35\n",
            "  -105.35]\n",
            " [-105.35 -105.35 -105.35 -105.35 -105.35 -105.35 -105.35 -105.35 -105.35\n",
            "  -105.35 -105.35 -105.35 -105.35 -105.35  -60.35   80.65  147.65  147.65\n",
            "    44.65  -78.35 -105.35 -105.35 -105.35 -105.35 -105.35 -105.35 -105.35\n",
            "  -105.35]\n",
            " [-105.35 -105.35 -105.35 -105.35 -105.35 -105.35 -105.35 -105.35 -105.35\n",
            "  -105.35 -105.35 -105.35 -105.35 -105.35 -105.35  -89.35  -12.35  146.65\n",
            "   147.65   81.65 -105.35 -105.35 -105.35 -105.35 -105.35 -105.35 -105.35\n",
            "  -105.35]\n",
            " [-105.35 -105.35 -105.35 -105.35 -105.35 -105.35 -105.35 -105.35 -105.35\n",
            "  -105.35 -105.35 -105.35 -105.35 -105.35 -105.35 -105.35 -105.35  143.65\n",
            "   147.65  143.65  -41.35 -105.35 -105.35 -105.35 -105.35 -105.35 -105.35\n",
            "  -105.35]\n",
            " [-105.35 -105.35 -105.35 -105.35 -105.35 -105.35 -105.35 -105.35 -105.35\n",
            "  -105.35 -105.35 -105.35 -105.35 -105.35  -59.35   24.65   77.65  147.65\n",
            "   147.65  101.65 -103.35 -105.35 -105.35 -105.35 -105.35 -105.35 -105.35\n",
            "  -105.35]\n",
            " [-105.35 -105.35 -105.35 -105.35 -105.35 -105.35 -105.35 -105.35 -105.35\n",
            "  -105.35 -105.35 -105.35  -66.35   42.65  123.65  147.65  147.65  147.65\n",
            "   144.65   76.65 -105.35 -105.35 -105.35 -105.35 -105.35 -105.35 -105.35\n",
            "  -105.35]\n",
            " [-105.35 -105.35 -105.35 -105.35 -105.35 -105.35 -105.35 -105.35 -105.35\n",
            "  -105.35  -81.35    8.65  115.65  147.65  147.65  147.65  147.65   95.65\n",
            "   -27.35 -105.35 -105.35 -105.35 -105.35 -105.35 -105.35 -105.35 -105.35\n",
            "  -105.35]\n",
            " [-105.35 -105.35 -105.35 -105.35 -105.35 -105.35 -105.35 -105.35  -82.35\n",
            "   -39.35  107.65  147.65  147.65  147.65  147.65   92.65  -24.35 -103.35\n",
            "  -105.35 -105.35 -105.35 -105.35 -105.35 -105.35 -105.35 -105.35 -105.35\n",
            "  -105.35]\n",
            " [-105.35 -105.35 -105.35 -105.35 -105.35 -105.35  -87.35   65.65  113.65\n",
            "   147.65  147.65  147.65  147.65   89.65  -25.35  -96.35 -105.35 -105.35\n",
            "  -105.35 -105.35 -105.35 -105.35 -105.35 -105.35 -105.35 -105.35 -105.35\n",
            "  -105.35]\n",
            " [-105.35 -105.35 -105.35 -105.35  -50.35   66.65  120.65  147.65  147.65\n",
            "   147.65  147.65  138.65   27.65  -94.35 -105.35 -105.35 -105.35 -105.35\n",
            "  -105.35 -105.35 -105.35 -105.35 -105.35 -105.35 -105.35 -105.35 -105.35\n",
            "  -105.35]\n",
            " [-105.35 -105.35 -105.35 -105.35   30.65  147.65  147.65  147.65  106.65\n",
            "    29.65   26.65  -89.35 -105.35 -105.35 -105.35 -105.35 -105.35 -105.35\n",
            "  -105.35 -105.35 -105.35 -105.35 -105.35 -105.35 -105.35 -105.35 -105.35\n",
            "  -105.35]\n",
            " [-105.35 -105.35 -105.35 -105.35 -105.35 -105.35 -105.35 -105.35 -105.35\n",
            "  -105.35 -105.35 -105.35 -105.35 -105.35 -105.35 -105.35 -105.35 -105.35\n",
            "  -105.35 -105.35 -105.35 -105.35 -105.35 -105.35 -105.35 -105.35 -105.35\n",
            "  -105.35]\n",
            " [-105.35 -105.35 -105.35 -105.35 -105.35 -105.35 -105.35 -105.35 -105.35\n",
            "  -105.35 -105.35 -105.35 -105.35 -105.35 -105.35 -105.35 -105.35 -105.35\n",
            "  -105.35 -105.35 -105.35 -105.35 -105.35 -105.35 -105.35 -105.35 -105.35\n",
            "  -105.35]\n",
            " [-105.35 -105.35 -105.35 -105.35 -105.35 -105.35 -105.35 -105.35 -105.35\n",
            "  -105.35 -105.35 -105.35 -105.35 -105.35 -105.35 -105.35 -105.35 -105.35\n",
            "  -105.35 -105.35 -105.35 -105.35 -105.35 -105.35 -105.35 -105.35 -105.35\n",
            "  -105.35]]\n"
          ],
          "name": "stdout"
        }
      ]
    },
    {
      "cell_type": "code",
      "metadata": {
        "colab": {
          "base_uri": "https://localhost:8080/",
          "height": 281
        },
        "id": "d4XWve_watGm",
        "outputId": "8abd719f-c35a-4c92-bb93-38c476034903"
      },
      "source": [
        "plt.imshow(image, 'gray', vmin = 0, vmax = 255)"
      ],
      "execution_count": 5,
      "outputs": [
        {
          "output_type": "execute_result",
          "data": {
            "text/plain": [
              "<matplotlib.image.AxesImage at 0x7fba94fa2750>"
            ]
          },
          "metadata": {
            "tags": []
          },
          "execution_count": 5
        },
        {
          "output_type": "display_data",
          "data": {
            "image/png": "[encoded data removed]",
            "text/plain": [
              "<Figure size 432x288 with 1 Axes>"
            ]
          },
          "metadata": {
            "tags": [],
            "needs_background": "light"
          }
        }
      ]
    },
    {
      "cell_type": "code",
      "metadata": {
        "colab": {
          "base_uri": "https://localhost:8080/"
        },
        "id": "wxU1XZ7latJM",
        "outputId": "6c403b92-98f7-449f-eb6c-d896d42ec073"
      },
      "source": [
        "X_train = X_train.astype(np.float)\n",
        "X_test = X_test.astype(np.float)\n",
        "X_train /= 255\n",
        "X_test /= 255\n",
        "print(X_train.max()) # 1.0\n",
        "print(X_train.min()) # 0.0"
      ],
      "execution_count": 6,
      "outputs": [
        {
          "output_type": "stream",
          "text": [
            "1.0\n",
            "0.0\n"
          ],
          "name": "stdout"
        }
      ]
    },
    {
      "cell_type": "code",
      "metadata": {
        "colab": {
          "base_uri": "https://localhost:8080/"
        },
        "id": "_SGGWDrjeX_W",
        "outputId": "f0526516-e72a-45f9-f004-e40b6a1f8e5e"
      },
      "source": [
        "from sklearn.preprocessing import OneHotEncoder\n",
        "\n",
        "enc = OneHotEncoder(handle_unknown='ignore', sparse=False)\n",
        "y_train_one_hot = enc.fit_transform(y_train[:, np.newaxis])\n",
        "y_test_one_hot = enc.transform(y_test[:, np.newaxis])\n",
        "print(y_train.shape) # (60000,)\n",
        "print(y_train_one_hot.shape) # (60000, 10)\n",
        "print(y_train_one_hot.dtype) # float64"
      ],
      "execution_count": 7,
      "outputs": [
        {
          "output_type": "stream",
          "text": [
            "(60000,)\n",
            "(60000, 10)\n",
            "float64\n"
          ],
          "name": "stdout"
        }
      ]
    },
    {
      "cell_type": "code",
      "metadata": {
        "colab": {
          "base_uri": "https://localhost:8080/"
        },
        "id": "ajQG9zeye0-o",
        "outputId": "2c0f1a58-364e-4242-96de-1fbbfe03d98e"
      },
      "source": [
        "from sklearn.model_selection import train_test_split\n",
        "\n",
        "X_train, X_val, y_train, y_val = train_test_split(X_train, y_train_one_hot, test_size=0.2)\n",
        "print(X_train.shape) # (48000, 784)\n",
        "print(X_val.shape) # (12000, 784)"
      ],
      "execution_count": 8,
      "outputs": [
        {
          "output_type": "stream",
          "text": [
            "(48000, 784)\n",
            "(12000, 784)\n"
          ],
          "name": "stdout"
        }
      ]
    },
    {
      "cell_type": "code",
      "metadata": {
        "colab": {
          "base_uri": "https://localhost:8080/"
        },
        "id": "1ZlndY4s_p6N",
        "outputId": "e93ee7a9-30a0-4830-f526-49106c8c1033"
      },
      "source": [
        "class ScratchSimpleNeuralNetrowkClassifier():\n",
        "    \"\"\"\n",
        "    シンプルな三層ニューラルネットワーク分類器\n",
        "    Parameters\n",
        "    ----------\n",
        "    Attributes\n",
        "    ----------\n",
        "    \"\"\"\n",
        "    def __init__(self, verbose = True):\n",
        "        self.verbose = verbose\n",
        "        pass\n",
        "    def fit(self, X, y, X_val=None, y_val=None):\n",
        "        \"\"\"\n",
        "        ニューラルネットワーク分類器を学習する。\n",
        "        Parameters\n",
        "        ----------\n",
        "        X : 次の形のndarray, shape (n_samples, n_features)\n",
        "            訓練データの特徴量\n",
        "        y : 次の形のndarray, shape (n_samples, )\n",
        "            訓練データの正解値\n",
        "        X_val : 次の形のndarray, shape (n_samples, n_features)\n",
        "            検証データの特徴量\n",
        "        y_val : 次の形のndarray, shape (n_samples, )\n",
        "            検証データの正解値\n",
        "        \"\"\"\n",
        "        batch_size = 20 # バッチサイズ\n",
        "        n_features = 784 # 特徴量の数\n",
        "        n_nodes1 = 400 # 1層目のノード数\n",
        "        n_nodes2 = 200 # 2層目のノード数\n",
        "        n_output = 10 # 出力のクラス数（3層目のノード数）\n",
        "        sigma = 0.01\n",
        "        \n",
        "\n",
        "\n",
        "        #問題1\n",
        "        #重みとバイアス初期値\n",
        "        #インプットの列数とアウトプットの行数を合わせる\n",
        "        self.W1 = sigma * np.random.randn(n_features, n_nodes1)\n",
        "        self.b1 = np.zeros_like(batch_size, dtype=np.float)\n",
        "        self.W2 = sigma * np.random.randn(n_nodes1, n_nodes２)\n",
        "        self.b2 = np.zeros_like(batch_size, dtype=np.float)\n",
        "        self.W3 = sigma * np.random.randn(n_nodes２, n_output)\n",
        "        self.b3 = np.zeros_like(batch_size, dtype=np.float)\n",
        "\n",
        "\n",
        "        self.lr = 0.001\n",
        "        self.loss_list = []\n",
        "\n",
        "\n",
        "        #ミニバッチ取得\n",
        "        get_mini_batch = GetMiniBatch(X, y, batch_size=batch_size)\n",
        "\n",
        "        \n",
        "        for mini_X_train, mini_y_train in get_mini_batch:\n",
        "      \n",
        "            #問題2\n",
        "            # フォワードプロパケージョン\n",
        "            #一層目\n",
        "            a1 = np.dot(mini_X_train, self.W1) + self.b1 #Xに対して重み、バイアスをかける\n",
        "            z1 = 1 / (1 + np.exp(-a1)) #活性化関数（シグモイド）\n",
        "\n",
        "            #2層目\n",
        "            a2 = np.dot(z1, self.W2) + self.b2\n",
        "            z2 = 1 / (1 + np.exp(-a2))\n",
        "\n",
        "            #3層目\n",
        "            a3 = np.dot(z2, self.W3) + self.b3\n",
        "            t = self.softmax(a3) #各配列に対する確率\n",
        "            \n",
        "            #問題3\n",
        "            # 交差エントロピー（損失関数）\n",
        "            self._cross_entropy_error(mini_y_train, t, batch_size)\n",
        "            self.loss_list.append(self.loss)\n",
        "\n",
        "            # back_a3 = self.loss * t\n",
        "            # print(back_a3)\n",
        "            # back_w3 = a3 * np.dot(back_a3)\n",
        "            # print(back_a3.shape)\n",
        "\n",
        "            # #問題4\n",
        "            # # バックプロパケージョン\n",
        "            # #3層目\n",
        "            back_a3 = (t - mini_y_train) / batch_size\n",
        "            back_b3 = np.sum(back_a3)#(200, )になるはず\n",
        "            back_W3 = np.dot(z2.T, back_a3)\n",
        "            back_z2 = np.dot(back_a3, self.W3.T)\n",
        "\n",
        "            #2層目\n",
        "            back_a2 = back_z2 * (1 - np.tanh(z2) ** 2)\n",
        "            back_b2 = np.sum(back_a2)\n",
        "            back_W2 = np.dot(z1.T, back_a2)\n",
        "            back_z1 = np.dot(back_a2, self.W2.T)\n",
        "            \n",
        "            #1層目\n",
        "            back_a1 = back_z1 * (1 - np.tanh(z1) ** 2)\n",
        "            back_b1 = np.sum(back_a1)\n",
        "            back_W1 = np.dot(mini_X_train.T, back_a1)\n",
        "\n",
        "            #パラメータ更新\n",
        "            self.W3 -= self.lr * back_W3\n",
        "            self.b3 -=  self.lr * back_b3\n",
        "            self.W2 -= self.lr * back_W2\n",
        "            self.b2 -=  self.lr * back_b2\n",
        "            self.W1 -= self.lr * back_W1\n",
        "            self.b1 -= self.lr * back_b1\n",
        "\n",
        "        if self.verbose:\n",
        "            #verboseをTrueにした際は学習過程などを出力する\n",
        "            print()\n",
        "\n",
        "        return self\n",
        "\n",
        "    def softmax(self, a3):\n",
        "        c = np.max(a3)\n",
        "        exp_a = np.exp(a3 - c) #オーバーフロー対策\n",
        "        sum_exp_a = np.sum(exp_a)\n",
        "        t = exp_a / sum_exp_a\n",
        "\n",
        "        return t\n",
        "\n",
        "    def _cross_entropy_error(self, y, t, batch_size):\n",
        "        if t.ndim == 1:\n",
        "          t = t.shape(1, t.size)\n",
        "          y = y.shape(1, y.size)\n",
        "\n",
        "        delta = 1e-7\n",
        "        self.loss = - np.sum(y * np.log(t) + delta ) / batch_size\n",
        "\n",
        "\n",
        "\n",
        "    def _sigmoid_diff(self, X):\n",
        "        y = np.exp(X) * (1 - (1 / (1 + np.exp(-X) ) ) )\n",
        "        return y\n",
        "    \n",
        "    # def backward(self, y, p, batch_size):\n",
        "    #     p = np.clip(p, 1e-15, 1 - 1e-15)\n",
        "    #     return (- (y / p) + (1 - y) / (1 - p)) / batch_size\n",
        "\n",
        "\n",
        "        pass\n",
        "    def predict(self, X):\n",
        "        \"\"\"\n",
        "        ニューラルネットワーク分類器を使い推定する。\n",
        "        Parameters\n",
        "        ----------\n",
        "        X : 次の形のndarray, shape (n_samples, n_features)\n",
        "            サンプル\n",
        "        Returns\n",
        "        -------\n",
        "            次の形のndarray, shape (n_samples, 1)\n",
        "            推定結果\n",
        "        \"\"\"\n",
        "\n",
        "\n",
        "\n",
        "        return Y_pred\n",
        "      \n",
        "a = ScratchSimpleNeuralNetrowkClassifier().fit(X_train, y_train)\n",
        "print(a.loss_list)\n",
        "# Y_pred = a.predict(X_test)"
      ],
      "execution_count": 17,
      "outputs": [
        {
          "output_type": "stream",
          "text": [
            "\n",
            "[5.313191042747216, 5.308055740632588, 5.30940819334206, 5.29109206445493, 5.306959398275907, 5.304429046169638, 5.293169300117235, 5.2802453644456735, 5.3023583449941665, 5.305392206947924, 5.308664140822855, 5.293058880715223, 5.2902416371119845, 5.312001326238329, 5.2960734727951495, 5.306900969851961, 5.301134611403965, 5.282488121915234, 5.281110526277195, 5.283218318066001, 5.3041018310014705, 5.31908625263449, 5.270644767888112, 5.310504723000778, 5.319884449555047, 5.295174413758387, 5.308891018178579, 5.307655907794235, 5.297215659542279, 5.300487118909382, 5.297142448070292, 5.299522109320303, 5.282941296963976, 5.3073663325345395, 5.330639963310185, 5.3014114758399025, 5.295740139803656, 5.299101457239799, 5.307813246248235, 5.318335860389473, 5.296649486569342, 5.307393538713882, 5.30707234684625, 5.298376578231344, 5.312442223224773, 5.30215467407421, 5.298315160817419, 5.305956737030288, 5.301903138895986, 5.290622272893776, 5.3077135410335865, 5.304947600399144, 5.311059397988471, 5.290742701684467, 5.294115528840955, 5.303404434520076, 5.297335091482818, 5.304425241221121, 5.2917612424079845, 5.3084299466151466, 5.3018069949721625, 5.308801324629867, 5.296771147806564, 5.309336137597285, 5.309665759486605, 5.3081886339209605, 5.304658186686842, 5.297213948506982, 5.297539221468353, 5.292102314650698, 5.284469015304297, 5.29383848913405, 5.305693516690833, 5.3093801122336135, 5.306227287497596, 5.3016889318191165, 5.3088402916242705, 5.282340068899288, 5.307545535107399, 5.278808211105385, 5.299757602823324, 5.2962135628876625, 5.30553765237409, 5.312237700049053, 5.2996350638887835, 5.298503170390475, 5.271080716541335, 5.294732222736495, 5.2892885961585705, 5.291342612340812, 5.301493052578104, 5.309054044793654, 5.302486039240843, 5.297563293610755, 5.311539785251388, 5.307526991793348, 5.313363122433765, 5.308339002650564, 5.292239612646557, 5.30228947779253, 5.300839464406713, 5.300564976858364, 5.303767630459349, 5.293010297636831, 5.2905338414748195, 5.303432754691261, 5.30763861792788, 5.310601639257241, 5.285380066128451, 5.3187327623604475, 5.296327255307267, 5.29035745813904, 5.311180960855652, 5.313342924377838, 5.304551150831946, 5.3131520549975395, 5.30630766607308, 5.291841880067629, 5.268795576166331, 5.299674838663649, 5.287511623010784, 5.293238895201334, 5.30048309780319, 5.300400677082683, 5.291791935069741, 5.300762404738355, 5.300067646876583, 5.262449960890189, 5.305162571081796, 5.289962462085962, 5.289394408450185, 5.2789017398471305, 5.335569036519095, 5.3005671222962505, 5.298398738096675, 5.283299296283518, 5.307077675184072, 5.286803382636508, 5.294365126748288, 5.30549108115558, 5.282007914799958, 5.299471631947952, 5.322543905132983, 5.3157141593223605, 5.279401254589093, 5.281051303023541, 5.314043055069893, 5.284923729525525, 5.312350412102852, 5.312890508640671, 5.280874366234551, 5.303385313463205, 5.32817160829479, 5.304872997708786, 5.299307505597023, 5.300146284805104, 5.2971067443424875, 5.281413553134299, 5.300074433353807, 5.289854315350757, 5.272587728123385, 5.318850459751696, 5.318394333626268, 5.281799914445212, 5.293872712467663, 5.3110499074871225, 5.301064905228496, 5.312537057298059, 5.315228091306419, 5.315514531560874, 5.286923885616921, 5.298682186177491, 5.309177101230022, 5.2741725705233495, 5.290503947917941, 5.278924298304778, 5.310253370069082, 5.303846744312324, 5.31216393904206, 5.308632047468017, 5.290019046762032, 5.278659045130287, 5.3175474582452855, 5.286886275169191, 5.299051587888765, 5.305130102548692, 5.30941406407023, 5.307327505464224, 5.296862726633897, 5.2668001305131416, 5.309145921848258, 5.298324621000371, 5.312318188779699, 5.3032558557357525, 5.302220215325924, 5.284813480338656, 5.3109507396194156, 5.305289056927935, 5.296362720490902, 5.32191397951925, 5.307619648697684, 5.326926607388528, 5.293907920978849, 5.30117758531069, 5.322099451522393, 5.308462045087438, 5.32463340666575, 5.303994485388563, 5.2871631869175, 5.324486331091945, 5.289064174995945, 5.299038217946311, 5.292373133137974, 5.310361272571536, 5.2977228639822105, 5.267804889971471, 5.278548868713892, 5.32487009413129, 5.309055799632091, 5.301305391385736, 5.298764548634442, 5.308949893683226, 5.2826659120062285, 5.276181643804475, 5.2770591882234505, 5.274223350552452, 5.314855739987573, 5.311787729010088, 5.317937583358007, 5.289387443778694, 5.294026309444594, 5.320950163134613, 5.319253205999511, 5.302926109496459, 5.324172407620355, 5.296575113936772, 5.31583404948262, 5.292467911143433, 5.312979117411925, 5.343659212324896, 5.303870070567607, 5.271447151345236, 5.287166320908918, 5.286907122170132, 5.290886065317731, 5.33208060772237, 5.289775901400857, 5.287017170131799, 5.295761445371248, 5.2718225243475505, 5.321595085735592, 5.317430256504166, 5.297464836005036, 5.281199221477471, 5.291651726769308, 5.296309853942248, 5.303659965578305, 5.305573565822166, 5.278673790528612, 5.313484102582707, 5.299276932836183, 5.293988308288226, 5.310649553695124, 5.312559264734278, 5.328637067777084, 5.2951498711783485, 5.3095114954788425, 5.300095318394989, 5.337189907452604, 5.2827152552918735, 5.297171092405711, 5.293704235361691, 5.269025722698126, 5.3032309911184345, 5.306268703600362, 5.32584021073732, 5.314788818531132, 5.298629933788922, 5.29527848450469, 5.303484307245592, 5.311599266880622, 5.308882628469206, 5.279770050752312, 5.341961840880709, 5.292142288871956, 5.291022454291313, 5.2803287356128745, 5.307745350267657, 5.318506684092724, 5.302797842106224, 5.307811253613625, 5.265044996535802, 5.294157418034516, 5.284536332718729, 5.312414197476125, 5.286437122696206, 5.303601571423309, 5.269708794896803, 5.275903154033922, 5.303832308101443, 5.303125481491094, 5.279008254200212, 5.2921110546526355, 5.313300914450219, 5.301232769955217, 5.291224128649031, 5.277997802779457, 5.306773513958992, 5.270217297354928, 5.325286205390773, 5.2798770620415425, 5.26969887629204, 5.3292405412870565, 5.2857774210554735, 5.293902534891507, 5.28881912956917, 5.2769190654840745, 5.291566978213543, 5.275688351729012, 5.313734378681542, 5.2961224201977135, 5.327418852377393, 5.2932872152008, 5.284311861696395, 5.349423696351122, 5.319327039841028, 5.254688844797093, 5.336789476489275, 5.253241928489773, 5.3094643639425545, 5.322568266149759, 5.313052642677618, 5.274243595589133, 5.3103951907831135, 5.297709261352243, 5.297110035653884, 5.286953985211921, 5.361450461931034, 5.2854816186404125, 5.313196466878863, 5.325965209717038, 5.317740685939914, 5.276129962093279, 5.331287344956731, 5.299740338938499, 5.291655597911122, 5.235769935963552, 5.3006311788877465, 5.29932438128066, 5.338571910315243, 5.313649095390277, 5.318271082339471, 5.266436166111937, 5.357110211622041, 5.325306816244661, 5.343097119473923, 5.286584734372248, 5.327654648646214, 5.331743090283437, 5.283429977876525, 5.284474671084435, 5.3046722591529445, 5.32897791656941, 5.316610550339542, 5.320052316029833, 5.324207570994367, 5.26825019501139, 5.303907244459767, 5.331245449273974, 5.329582142017735, 5.279884117505203, 5.316981964910394, 5.289964156180007, 5.327930441379108, 5.315116489767675, 5.324889304264832, 5.308088759543367, 5.283114437566697, 5.290374372955242, 5.2484390575819315, 5.33378270592267, 5.333070510544208, 5.36442925576979, 5.314172336766022, 5.332752921806632, 5.292839485739956, 5.28934729140125, 5.326620797961309, 5.34068300803484, 5.278245059203591, 5.294601418075044, 5.26376353073023, 5.292534910439945, 5.303149635625112, 5.316247235202519, 5.266882644603475, 5.322288041462568, 5.306561905259751, 5.375620966958783, 5.3321950839640495, 5.321166382845564, 5.297331052879546, 5.300615933651278, 5.362300922996987, 5.3014788737033465, 5.3313089419243616, 5.30185777855703, 5.345221673652426, 5.299798449318328, 5.287070713549671, 5.331823543885126, 5.327045769519357, 5.325622948131442, 5.329279216422324, 5.2962147816166105, 5.284406718233757, 5.325116347971958, 5.284082061840041, 5.308213313320081, 5.335567399870919, 5.3012707853465075, 5.301400992180502, 5.271038234112995, 5.296122123691399, 5.304012334266498, 5.285107315622028, 5.31830634577333, 5.315511409046273, 5.308270686778483, 5.3507113047020125, 5.294303051487725, 5.319503810100232, 5.265832627322445, 5.3289521376589, 5.288211785555276, 5.3254146651825724, 5.330288604858252, 5.30796215746887, 5.262321085086456, 5.331957156237857, 5.320588835800489, 5.318611207556669, 5.328554433258103, 5.313775575458796, 5.274267097627403, 5.286076429724313, 5.248034551213822, 5.28279226231449, 5.324704275592941, 5.310841113217056, 5.309659131395709, 5.29831988173653, 5.315639787609852, 5.277355622802015, 5.284203148357061, 5.325014147865757, 5.3238209082116255, 5.289657834969718, 5.283905916266811, 5.299533552727323, 5.298826655681578, 5.319351924546946, 5.334060966847571, 5.2669760086847734, 5.330290179132864, 5.297994478758497, 5.247279372918718, 5.2543885786208335, 5.321195293991029, 5.315035875201986, 5.313120678440283, 5.296250970392654, 5.3045215362575115, 5.330138036790183, 5.308429569336835, 5.313862721662535, 5.333415183595653, 5.291356124780217, 5.280796819844975, 5.310823161233204, 5.23015607927915, 5.351026693706611, 5.272383972838337, 5.239208616953425, 5.241430474446537, 5.305237158810307, 5.329187998868239, 5.253352201096081, 5.337094913232113, 5.262353922475061, 5.293809852338638, 5.290547260697177, 5.337578334850791, 5.359232262400154, 5.287098110740574, 5.318747934329034, 5.329194599576818, 5.298077103746854, 5.311910396605562, 5.294945323877039, 5.296733621168701, 5.278538123015612, 5.295300625994742, 5.288039785109616, 5.339227171406826, 5.321129385186602, 5.290016862094424, 5.228217671530165, 5.3045143953164295, 5.268812101350461, 5.337314349361455, 5.23912082601709, 5.29751479130655, 5.237989898148928, 5.27820918802157, 5.30114781885063, 5.216859695924747, 5.297014435676549, 5.384857998531481, 5.262073816836144, 5.329679270148539, 5.290126464690905, 5.328032879435062, 5.289651947734674, 5.312366266285615, 5.294015211787957, 5.345240431533645, 5.323747413523707, 5.3239657056523155, 5.336189718758208, 5.320195318168795, 5.308840556455818, 5.3301707740711795, 5.362793180187062, 5.263214817284624, 5.302690257248459, 5.437141805724605, 5.320667623710724, 5.2666842304920705, 5.297898965726229, 5.2600382774613506, 5.328146538909856, 5.26089073572203, 5.349554072594405, 5.279116656368506, 5.261310037711867, 5.348540928700023, 5.229960171311324, 5.349007896456103, 5.356912792105557, 5.351195254267327, 5.284194158162951, 5.317695038139782, 5.329737279062398, 5.404198172911337, 5.286268334347445, 5.277286845220273, 5.33296558438928, 5.352791565397774, 5.281440834421151, 5.397254325220874, 5.343297455476831, 5.3293827977436905, 5.346307684718625, 5.3013689411188105, 5.262887804255443, 5.406031048859134, 5.300661540004314, 5.345488155073755, 5.243858723827723, 5.339510972487872, 5.291493212833863, 5.317826654219773, 5.2345011506697485, 5.265032017366195, 5.2975709089271446, 5.2959597725392324, 5.308759443759077, 5.320228662138818, 5.346282208747534, 5.215721309490564, 5.377067293412175, 5.295091450319228, 5.321715984694014, 5.218823168189336, 5.3872205478371695, 5.362769829706245, 5.23415854247951, 5.219294932446165, 5.3240595563793605, 5.274712014827621, 5.263466186504016, 5.452452636615618, 5.312417141849143, 5.330016639309688, 5.305902676142766, 5.2441212436979745, 5.37482878390053, 5.311155558185996, 5.300630955209487, 5.218763463210765, 5.313313020252255, 5.372269797797711, 5.260535073445263, 5.310445975686841, 5.27899714832341, 5.500954749751048, 5.295767434560807, 5.366393852355058, 5.275162087262342, 5.2792698698668685, 5.268296607182728, 5.384036719303113, 5.277210975954611, 5.328735372708353, 5.341783760609665, 5.278882162145789, 5.267258793533146, 5.428533793997175, 5.4413570422428785, 5.281798018131929, 5.197211989715089, 5.327495826830931, 5.340252285423437, 5.2603710512693285, 5.396125288671853, 5.425451195232686, 5.286172124638113, 5.260460615675294, 5.395771947526706, 5.289559847351637, 5.268809323369093, 5.291481194357329, 5.267207994556477, 5.4189825432681245, 5.3371736009808135, 5.331512890100976, 5.318774811479209, 5.473427293879579, 5.415632904485827, 5.388793745649243, 5.439191706221947, 5.291898722827832, 5.3511456280233745, 5.423965699658348, 5.381712333451965, 5.284814622395764, 5.273752421830108, 5.467216036154821, 5.324288712379163, 5.369562633844052, 5.369123471132606, 5.281938371916661, 5.377310471069569, 5.242110039568405, 5.3948829342494395, 5.228464572407846, 5.31357368317569, 5.297223421025782, 5.394440868640409, 5.315688006338024, 5.198083736727155, 5.270499410521042, 5.421812355355735, 5.184002509015221, 5.253893979328618, 5.25790682206061, 5.2112100038422735, 5.264916089948106, 5.314591944507472, 5.35384271888354, 5.302870245260164, 5.383962133753887, 5.288409562960496, 5.402657688035873, 5.385140336213709, 5.309773663118734, 5.302034127768386, 5.193658984481191, 5.43083939388457, 5.241548144714594, 5.39070853561153, 5.328189360338376, 5.266395403671968, 5.350588530062882, 5.335031026379161, 5.415187118590383, 5.266238457931254, 5.347823902651379, 5.471674386076831, 5.322274348330749, 5.4118542931938824, 5.337615252966268, 5.383466592470176, 5.216978232800203, 5.303739565163727, 5.350124919194459, 5.390177684438991, 5.421060985504513, 5.2389402185060705, 5.402085313391035, 5.254612287414295, 5.41713329334387, 5.476115938218726, 5.278870509446888, 5.410308010085343, 5.206518796625559, 5.357661653868871, 5.356120947060324, 5.3737777417457355, 5.414959340750445, 5.388080537393316, 5.446621714515532, 5.373318650003982, 5.313206570786009, 5.303046936592038, 5.319086428169205, 5.263224863484167, 5.163575488889975, 5.248981574210239, 5.403740129450876, 5.368957345586771, 5.222569503287741, 5.343548321594456, 5.319548414901002, 5.459617896588104, 5.368593078012029, 5.35650337912475, 5.352914393484914, 5.387439987676054, 5.199014517655176, 5.330153700105533, 5.371380896840174, 5.281724940989684, 5.455099813256192, 5.386941833373174, 5.353563727679061, 5.11310646685072, 5.280589805232779, 5.337338044275698, 5.355017644348773, 5.343221330827781, 5.276946415215806, 5.28886254845691, 5.528460217909246, 5.403001597802725, 5.4408862916468665, 5.261402187843866, 5.301711293339973, 5.423435973192232, 5.287917929413912, 5.333491626516803, 5.3292278952152285, 5.309304633131075, 5.5247390524220705, 5.375780547794392, 5.332226314195262, 5.324773930940902, 5.34750212083759, 5.259905334264215, 5.458383077228086, 5.2665866816955385, 5.300261379164593, 5.194010233764434, 5.480464084660801, 5.345304688515025, 5.323800614128, 5.405048156292095, 5.409413381560496, 5.374786252156025, 5.4736683241389255, 5.447186054163801, 5.269713148647179, 5.346700863008226, 5.3530155420157595, 5.313094694294496, 5.423015386926591, 5.3730517009828365, 5.50908538641234, 5.141789860837241, 5.454253342824112, 5.480230504315813, 5.549400657326219, 5.460710233625479, 5.373014985381532, 5.488429115497368, 5.329887476204218, 5.48386114985306, 5.3810682511243995, 5.437032164551271, 5.351449752813284, 5.490490125012528, 5.378573206266988, 5.48558591754978, 5.3870791400031, 5.365995725603062, 5.324156606702919, 5.463041391178018, 5.266167913541378, 5.377433746635153, 5.487046380952344, 5.380163666868599, 5.2877033223977605, 5.449973662046169, 5.362539004402677, 5.306967839522106, 5.366052394032079, 5.381446828211679, 5.30030468726235, 5.244018767901072, 5.457959219755319, 5.4288472541381605, 5.514520738551815, 5.209546159241333, 5.322374442657194, 5.511228251261166, 5.527552564548012, 5.509405935663557, 5.37607362725416, 5.390685890505678, 5.340308220265752, 5.37306800895214, 5.504064685961625, 5.311353985766358, 5.533480678477375, 5.462504094614407, 5.413778226227061, 5.411471521362534, 5.339568792390197, 5.4384083902742075, 5.34656390325452, 5.337130601061174, 5.261217931407106, 5.464305938859267, 5.333312066998685, 5.370697983158899, 5.154978678904625, 5.420652951598621, 5.354366910371752, 5.485480537151985, 5.394808115489964, 5.356879088752158, 5.15622837603906, 5.584642014396903, 5.194922815819366, 5.308137217567873, 5.364273905961417, 5.418833305433464, 5.405627661688948, 5.391583497398691, 5.226438415745585, 5.369744943038687, 5.291893877825265, 5.465915661120909, 5.471166895187007, 5.3935877913681525, 5.405521971551968, 5.3041396656120385, 5.35189477605218, 5.395220618982191, 5.3600578977195585, 5.276127507878982, 5.275804598865176, 5.468810405658937, 5.3306605377066045, 5.504490788536827, 5.227196518485856, 5.430457372434551, 5.408595950833777, 5.385516540131543, 5.14534771586622, 5.355743122029784, 5.257641201983685, 5.32368190835083, 5.3572692731371365, 5.319739552210043, 5.442994800752429, 5.50548747614396, 5.520745160083079, 5.42261521050678, 5.347916995372397, 5.550911818474019, 5.309499877154908, 5.469576961144824, 5.342602105896513, 5.278190756671546, 5.22024018847776, 5.392835966498242, 5.340705214917956, 5.4111618241882935, 5.387799813169146, 5.387489124670985, 5.3485327614569655, 5.328992649796553, 5.5758960034519, 5.267724899798514, 5.284526839471898, 5.388369417518684, 5.3622037688202555, 5.42450664426215, 5.5320868155408665, 5.238619409828825, 5.418687282316922, 5.257715191890885, 5.31116338243189, 5.4613662824292835, 5.509499423431867, 5.303321689050511, 5.445832899253918, 5.215920249291206, 5.475138500764989, 5.475821103188679, 5.405877836639895, 5.403016153807693, 5.467245147804315, 5.533838816495094, 5.469157628680873, 5.196007233890491, 5.486051739267315, 5.446850577644976, 5.273457900130137, 5.395082861445732, 5.162634417950249, 5.431380721142367, 5.556983885371483, 5.094251211691569, 5.539729143816463, 5.450301453132373, 5.3850608054663125, 5.383838159633184, 5.462831920915498, 5.289192005910297, 5.417776039018116, 5.473134343163136, 5.384707088159033, 5.50031026650416, 5.520979966285717, 5.3887563959969516, 5.385910587609947, 5.255952344507674, 5.348663940038547, 5.344646939346276, 5.503814632233575, 5.380880860751084, 5.439410322044614, 5.374486895486432, 5.726523664153482, 5.2527125829977, 5.415190211766978, 5.400366956819485, 5.458233826502616, 5.394658103737585, 5.275824443841104, 5.331813132413381, 5.234733831441919, 5.369348923200021, 5.46743040711752, 5.413295829580852, 5.560621162891517, 5.532778217618954, 5.51542637885583, 5.443060941705587, 5.35926229383502, 5.28879282587805, 5.461836521184795, 5.2678163157131745, 5.373488446673859, 5.444442180459319, 5.32705244575069, 5.343619675475666, 5.442246770821463, 5.464886806976902, 5.39421697445205, 5.374066368394739, 5.336554404093176, 5.317689461296037, 5.233439547910527, 5.387215883933603, 5.470408672748935, 5.127696273550761, 5.390614173137213, 5.376005795974381, 5.412730591847532, 5.321532602042065, 5.335469499039068, 5.665379298874685, 5.294579545945503, 5.383838241200175, 5.378939922824962, 5.447568091862779, 5.350034512990203, 5.411355871288921, 5.345949100144321, 5.427044934904149, 5.3151367120816975, 5.583994350515991, 5.317961713591098, 5.293206786093251, 5.405504245664879, 5.502530294941282, 5.505690033685131, 5.3759817232641876, 5.386406438945867, 5.3227570453261395, 5.318630334718931, 5.26014305593302, 5.372321879903925, 5.477434953642525, 5.597078473675061, 5.352123652845147, 5.540351739033322, 5.528769958537515, 5.3748504094977365, 5.384731600134795, 5.432479816251259, 5.294357745227576, 5.126429467560284, 5.36517874556319, 5.3425919333139165, 5.4882865000572805, 5.322417014233094, 5.571363843579251, 5.3461297580267155, 5.321180983846309, 5.527604551409158, 5.37816942047249, 5.44435528154562, 5.596465973175586, 5.273888851694941, 5.37412011250954, 5.250357742304322, 5.463533285566408, 5.398235944280375, 5.398599684445269, 5.494146548456695, 5.34165235891619, 5.291295994506629, 5.49653673020949, 5.540027411399278, 5.472653406234317, 5.442122918299399, 5.426620492452874, 5.4386826036850024, 5.39922976299755, 5.439838343438033, 5.290661851888839, 5.478286490575624, 5.531264396832307, 5.3562977405989, 5.3585400306466955, 5.379339406142725, 5.347106947507312, 5.279581042671486, 5.477290052817389, 5.322522168337757, 5.400174829268525, 5.390242242031393, 5.29239102103914, 5.39857424515773, 5.437355070117498, 5.496900689661394, 5.458537720135558, 5.208036903523748, 5.381169789891087, 5.201586268322595, 5.276907013619228, 5.337417405888354, 5.415498699174121, 5.423788617418058, 5.201394607068917, 5.365136899368126, 5.315770156182999, 5.422351057281159, 5.584299668772673, 5.380379942670899, 5.30894549797164, 5.344415461128865, 5.485609394843351, 5.2955926625082075, 5.466414303180471, 5.543913871911267, 5.381214962617657, 5.463185727159612, 5.284917434298066, 5.345206553866008, 5.380967916848584, 5.389509941887061, 5.464912235973034, 5.585247346810648, 5.478063168122773, 5.4409979385149825, 5.363399777235818, 5.278713095879029, 5.475172518125461, 5.216344234696577, 5.2630384229185605, 5.635045739243081, 5.392131337521403, 5.593991317580942, 5.4209532721964795, 5.433517974743434, 5.515400591153843, 5.256727468909871, 5.272599604572915, 5.316842657207185, 5.425218402013034, 5.525597394527674, 5.328963119698919, 5.364918421869421, 5.592379586811385, 5.509606869703886, 5.527386330765575, 5.245896266596991, 5.320663472247987, 5.406852718983231, 5.267368822204714, 5.61106376995177, 5.318982663645549, 5.572746786794428, 5.709169797132273, 5.71671793403299, 5.543513031963451, 5.215418028392095, 5.234196755212698, 5.54037387874722, 5.35144587549902, 5.482979295378264, 5.351757756635094, 5.270149216405288, 5.608740497812059, 5.424236366896653, 5.374365753764162, 5.487042853266235, 5.653507637431538, 5.594512123845608, 5.446619882459322, 5.396238898476766, 5.259545676370406, 5.430763217967344, 5.505862101322869, 5.111265445932157, 5.515538717633722, 5.383668762681478, 5.3879986825536985, 5.278145347601141, 5.500200009662882, 5.418483387049536, 5.512720704085723, 5.546949514287401, 5.578490152280122, 5.372914021330229, 5.417171414919203, 5.284131999368706, 5.625275790199412, 5.547169119611032, 5.477011866404199, 5.613273970021483, 5.608744854080859, 5.241900475507873, 5.273559189854206, 5.453279567430938, 5.521954848730715, 5.531528114924999, 5.387890175532523, 5.643385529839892, 5.24264780061652, 5.19172266020375, 5.276797059951483, 5.6185914845681655, 5.520823859111313, 5.457393655785289, 5.458884527548262, 5.192082298831557, 5.492634740788466, 5.4393116329564135, 5.271118589455749, 5.354696566077651, 5.358709497283295, 5.460522772170032, 5.536749920341154, 5.417824317488423, 5.500715539098333, 5.411385788696983, 5.370261445823099, 5.338327481031922, 5.378112740158379, 5.171040911837487, 5.625760182200324, 5.429144182630814, 5.458004356498034, 5.371088742317061, 5.367532950209824, 5.3068913380101845, 5.3410710771380625, 5.342419309931825, 5.440123183074616, 5.25589477095171, 5.605052163322138, 5.5074467355880445, 5.560684345123899, 5.422721029324711, 5.378472550979565, 5.4530995822305925, 5.490326332018384, 5.76890560672271, 5.304073213647146, 5.585556918045606, 5.088265632320153, 5.320129098516009, 5.422483837153967, 5.395057227120988, 5.568636652229258, 5.481074471021077, 5.564125444635492, 5.442086798884811, 5.35884933468689, 5.362931161870277, 5.299771388659402, 5.410544295781081, 5.187723310152721, 5.433420642615333, 5.239080394342186, 5.46378873344446, 5.7464780634561645, 5.32012279528266, 5.170539841532859, 5.33276501447961, 5.233374041834695, 5.895034985757173, 5.426957141141365, 5.279563095527168, 5.291322277001172, 5.337495807339452, 5.613209287376961, 5.303489861047694, 5.578455245262068, 5.648458937970828, 5.297120870041871, 5.523195682996561, 5.417688528753491, 5.417197389770394, 5.279473198726362, 5.251531309719271, 5.409925898477288, 5.522039175197264, 5.6794258628881185, 5.3694612553050005, 5.427803759889391, 5.256444639794934, 5.644941144081293, 5.567578288845843, 5.597241143295035, 5.462054821460372, 5.63047658689564, 5.86815549871509, 5.1914020904052816, 5.419186105855514, 5.647182588893587, 5.280577116546124, 5.267598880758111, 5.349334898113432, 5.52449202959505, 5.495701804728183, 5.420385856966293, 5.40292073050112, 5.381622272659461, 5.400904668525839, 5.371292334454063, 5.42147855005502, 5.441714153274502, 5.9054010256782625, 5.435298203117939, 5.469973070184557, 5.6496710427614945, 5.786931365272447, 5.501883413054161, 5.217164840347833, 5.4596217300993315, 5.465227444446339, 5.192755730727203, 5.547145912192413, 5.787682770047915, 5.45612482981863, 5.607239542426532, 5.468602315111454, 5.691877999918189, 5.309810012738062, 5.540139532956159, 5.491560892102234, 5.518132881554459, 5.508758115619839, 5.493883351320302, 5.470066746061528, 5.422857713947838, 5.296146869924023, 5.287018415335392, 5.462001843984799, 5.420307159875376, 5.56995500503911, 5.287983008405888, 5.5780765913609365, 5.724771920067779, 5.440061106185377, 5.5334192945836955, 5.375576538521578, 5.372908467628294, 5.612003416499627, 5.360899229095781, 5.456036578694589, 5.479982193380631, 5.530987153148248, 5.45945689461093, 5.303633068772436, 5.320468848563945, 5.556569057651558, 5.540711479501103, 5.7634584979915315, 5.627815848472844, 5.424901220252973, 5.4593831848841505, 5.55245129051584, 5.462413542794721, 5.312234326560314, 5.624709640844626, 5.349465734425847, 5.322230623039451, 5.524247452343896, 5.336006043871838, 5.313757989878544, 5.554100789476431, 5.807512953699392, 5.287488756109359, 5.516695900772811, 5.55775218757802, 5.676921702314048, 5.792892665575979, 5.429952017454303, 5.359871563873993, 5.232723176841068, 5.7744396583667505, 5.390747991699255, 5.425043261302612, 5.3474536828595856, 5.6639200636817595, 5.798147416158535, 5.640954858947744, 5.301159089793922, 5.3811705324125345, 5.24835203424238, 5.4840818100138, 5.559053655316854, 5.577998798771044, 5.431559419616676, 5.35619615101867, 5.328884208523538, 5.499131881854399, 5.662654224930701, 5.422274947608832, 5.625658034990157, 5.328019428975203, 5.5759707179683184, 5.402645356450483, 5.5964033793061825, 5.380681592446759, 5.213374767796654, 5.359427069033052, 5.398431977244149, 5.3220685227181646, 5.518504512172687, 5.811953540242847, 5.688291075343912, 5.335775368890471, 5.416505994619229, 5.230516245986563, 5.451186650191557, 5.754334950332067, 5.433234163494298, 5.915718630975765, 5.362187217760663, 5.753284758598199, 5.313414002940405, 5.255704167182226, 5.6001189940447045, 5.5714146853325435, 5.47676596640948, 5.479773670549679, 5.689354718922036, 5.309891394027452, 5.556217910595057, 5.444633679649961, 5.238573814457551, 5.514321935137772, 5.712914988792361, 5.453250990333272, 5.374402309855772, 5.406656115092417, 5.489872823571974, 5.265060706799307, 5.333730774504959, 5.243542331542374, 5.407253113804307, 5.631437224616263, 5.468997644769085, 5.645530672802105, 5.585577582501147, 5.565535110224251, 5.706274165375744, 5.207388815434487, 5.60270247565946, 5.38125110757589, 5.524757215757575, 5.5966643567018215, 5.508717154656524, 5.263724061487704, 5.491986284383668, 5.478862489483508, 5.400482953377036, 5.502448305471442, 5.313146694544921, 5.602221343819343, 5.604999578090347, 5.711177245375444, 5.421868758688481, 5.579023668660783, 5.360183301562474, 5.597466678089878, 5.342108038339784, 5.536685404800686, 5.600604484184022, 5.706802635899752, 5.433799079584841, 5.3224526612604635, 5.364401941229684, 5.413597400657922, 5.318526670225805, 5.72527203773694, 5.383867279939972, 5.432549228096164, 5.560845716815447, 5.45752405833372, 5.308935795781082, 5.52955928808417, 5.742651197472987, 5.500328294410022, 5.8069502762285214, 5.344224335756977, 5.156596969374301, 5.4502704836989135, 5.344679454917813, 5.359000087044163, 5.621992074297946, 5.398252856954078, 5.364211241096647, 5.385522147269368, 5.398252456981888, 5.375649948731325, 5.403356019774109, 5.153105686437568, 5.6376555770241765, 5.458883212284511, 5.636748033426893, 5.3127541877336295, 5.502857171432639, 5.336513965309064, 5.319737362337468, 5.4789444600226425, 5.375592552785212, 5.438413663851385, 5.507524590599781, 5.460207108109789, 5.774520237426712, 5.638910376104766, 5.451659744689561, 5.326312655798434, 5.623437286650727, 5.635758335484863, 5.677341058255921, 5.619858890410243, 5.411597580003881, 5.483596452871579, 5.443606267592868, 5.425770812230446, 5.2972074656762675, 5.5083918121607, 5.337182360883209, 5.158262985864377, 5.453111782794144, 5.511216309066954, 5.506521731785057, 5.5419039098430005, 5.589853144440321, 5.336458568725677, 5.120387766597998, 5.4758837995516965, 5.554095797711442, 5.423017908274512, 5.457641223996182, 5.419755513276099, 5.6511946525343975, 5.470408482838553, 5.515710000573682, 5.658960496107635, 5.4133670004362475, 5.2949330057755954, 5.401665149204527, 5.574794415822123, 5.472770828043642, 5.4851113723063, 5.32223616876185, 5.676358758563348, 5.365583581900151, 5.5293814682094675, 5.42216552208648, 5.408079702655083, 5.337575228728651, 5.394164260019236, 5.653092772782427, 5.596390461827686, 5.484319693320016, 5.473436475221632, 5.718890396370087, 5.73828915573299, 5.625271032961882, 5.56578494007435, 5.7896912788769495, 5.412336811629142, 5.662278788815696, 5.696760213126394, 5.706336546634299, 5.694758998530107, 5.599727786529852, 5.372314249433652, 5.392924743060216, 5.177554515868648, 5.545859516194741, 5.7609916039251505, 5.5004459597185, 5.705143678043354, 5.319432979277196, 5.550314712158128, 5.270111253034239, 5.281572640776203, 5.4441512566940595, 5.7227760196342095, 5.428095482192324, 5.836556537505337, 5.478189054953439, 5.719141211749863, 5.516976935373354, 5.429304741498934, 5.616507187707617, 5.255790889747134, 5.43657923506487, 5.620336783180607, 5.542376829565382, 5.552660349900238, 5.844433773085976, 5.516168482509906, 5.411827209599105, 5.266430121550506, 5.868329927466275, 5.395140071745198, 5.300661881205898, 5.460210083974756, 5.82438531579178, 5.5993604944591935, 5.384174620733009, 5.682858050667424, 5.396857315798063, 5.181322702559054, 5.548202487195712, 5.145874699319373, 5.524042574651547, 5.751381925955915, 5.6449664949763365, 5.82547779466068, 5.635035985777026, 5.097975713452194, 5.681094184094945, 5.732718720821251, 5.459785057660584, 5.539284489361332, 5.783048852922183, 5.766911695314976, 5.928871449940102, 5.5728727890321395, 5.431012111231611, 5.510080910025127, 5.561097639420204, 5.530313638036979, 5.542292675873002, 5.626250355160661, 5.6887613886334005, 5.713909576733525, 5.555310319051978, 5.218267397143497, 5.473929159012919, 5.710726073962134, 5.675040685389087, 5.501415716625336, 5.372259211707983, 5.704245181558199, 5.532248038841802, 5.621583784364432, 5.8190292680412545, 5.544296919649362, 5.879464930408625, 5.642767010381689, 5.117742783198821, 5.571329228658914, 5.346939827001146, 5.5860475205309745, 5.402460600564312, 5.563695180937193, 5.706916156674668, 5.531816103524045, 5.65440839592087, 5.310845440139515, 5.5825062321266135, 5.286155899557979, 5.656957422559481, 5.50592582258963, 5.965885333847504, 5.891979978429063, 5.690341307996726, 5.766608003549233, 5.879149998609296, 5.676341255228097, 5.7429508800857025, 5.602806954581058, 5.551793490424808, 5.448969824912988, 5.271143640249162, 5.855459113414288, 5.347124054870799, 5.645583110258373, 5.874032481298919, 5.528250537895531, 5.742113918216459, 5.547239924831926, 5.625659549354741, 5.577469030270286, 5.6826008260102645, 5.897378058966977, 5.921982536331152, 5.317408526510908, 5.473987114209834, 5.254994858560603, 5.600163810574523, 5.809248232621478, 5.409290108537183, 5.764435496558819, 5.769014196390268, 5.797242672908996, 5.590440799266958, 5.390494938451023, 5.901006196176383, 5.754132629099969, 5.50084864515338, 5.601784183450229, 5.81235151457941, 5.875970535954961, 5.823008178163528, 5.631826553130224, 5.518242265560889, 5.442886441573409, 5.52410105960765, 5.7302255782371265, 5.663682323026917, 5.780320431725719, 5.4445940022998, 5.554716148460791, 5.415510901628344, 5.708450495945819, 5.614316768819013, 5.604505372441025, 5.650647114653733, 5.482431656146043, 5.546182493510831, 5.4973734493246535, 5.378686306772523, 5.811452396180718, 5.538016853726573, 5.7404830435252325, 5.633878625544078, 5.473258138836388, 5.574762175046925, 5.778951090700617, 5.241828007471453, 5.443534887027929, 5.504346437271411, 5.495404364659022, 5.848732301340716, 5.368276382118035, 5.484150550373647, 6.019549096580417, 5.382599996971342, 5.3331017459009855, 5.562570716871242, 5.92137202740224, 5.5847265086731355, 5.3998442675406455, 5.61979778474574, 5.66836866640877, 5.72415632566266, 5.506488198823593, 5.8064532819075065, 5.482827091069054, 5.7191077776572055, 5.604787804759582, 5.240721470063515, 5.414639014928473, 5.4539046640754, 5.546016525727474, 5.490286547556495, 5.198384553695158, 5.455936584532817, 5.505633799690445, 5.909926891392108, 5.558705214692294, 5.551907046388697, 5.345317387621405, 5.640803484129438, 5.26647419166095, 5.80807500897851, 5.439016607319893, 5.44416353243043, 5.624056416631538, 5.345366074274597, 5.40306703878243, 5.454732075074105, 5.552890539309693, 5.48931880987489, 5.641799170862582, 5.4228610418683925, 5.613930182068332, 5.651088847941134, 5.89829850493395, 5.866081738205234, 5.599167765294152, 5.636840597454719, 5.684641732018312, 5.629057869823113, 5.387816140625043, 5.548285664401493, 5.508783403476023, 5.651960754341674, 5.4969177517707735, 5.56714315346262, 5.776031737865734, 5.769462786782607, 5.699236205684228, 5.90277773801763, 5.7167386821751744, 5.127061755884946, 5.338564930162724, 5.29232717490824, 5.7552281800670055, 5.216107646528515, 5.707375609842286, 5.561848026060661, 5.3744408979389195, 5.452110683948151, 5.645925354857754, 5.600662455131596, 5.354645758528482, 5.5359019773416, 5.616240308791861, 5.356983157114103, 5.837969531525511, 5.612320056585888, 5.50502282744672, 5.895012346849903, 5.832134862670728, 5.8051808387196004, 5.489888812348488, 5.514717139741976, 5.227419367845168, 5.766942634711552, 5.512289212947508, 5.3403511081936434, 5.741375979915338, 5.430832320547201, 5.60985928316326, 5.604214491432983, 5.719489573365659, 5.659644434308305, 5.199645501647011, 5.821145797017796, 5.649998821223211, 5.661326566436458, 5.445972736725052, 5.398351260703491, 5.492942833093321, 5.789176108956323, 5.618986096822367, 5.304068589215278, 5.5655611818213035, 5.474456958408874, 5.640087645583764, 5.547849070568913, 5.574246385107858, 5.674256122309876, 5.452246730721211, 5.7806761855189945, 5.296614461950752, 5.71915472555563, 5.906273815043972, 5.296976638997171, 5.47742191639675, 5.610430030226297, 5.83295056686673, 5.556374750839899, 5.899857282313459, 5.885810893224539, 5.380876444552227, 5.542999989728512, 5.004991959639841, 5.267078176023991, 5.642121038892396, 5.814097528982903, 5.597476335330059, 5.343137338325914, 5.326786227508161, 5.743016360951691, 5.824109414652858, 5.774905887398783, 5.518446760765327, 5.9049467778121585, 5.54313966396095, 5.444654045093355, 5.332274394400599, 5.9574187153406895, 5.674365346118412, 5.5166345563025505, 5.8133803971832245, 5.602082040998399, 5.963446851707699, 5.605307528930926, 5.363526754761962, 5.878635236069472, 5.786244330786476, 5.378416263655095, 5.96252145603996, 6.052163548549086, 5.565338641137706, 5.502535383904043, 5.450754328045996, 5.468586643976086, 5.543418977127642, 5.778859127780349, 5.854335540616884, 5.53021468587121, 5.843698600649817, 5.4029509101024535, 5.975672810178375, 6.164115225406597, 5.604602443352911, 5.712926319060577, 5.515604330107566, 5.5799936545283515, 6.069095271600132, 5.706951150618272, 5.477798722167495, 6.1176836614840635, 5.7372091931137765, 5.9960311188992055, 5.7664859194481854, 5.372035534044424, 5.599237227428533, 5.488740382367586, 5.410273242860287, 6.01644125699594, 5.454308850019738, 5.67901798337449, 5.642181966369479, 5.6417851785795055, 5.481098322868367, 5.355366490817468, 5.6136956363599335, 5.87252233822098, 5.885842561691939, 5.8842300595037305, 5.43812110841872, 5.5144573499031235, 5.774069422264001, 5.585329732360919, 5.853789651785636, 5.240574611306007, 5.512111230772137, 5.927403778673139, 5.4300194538469375, 5.637301219294727, 5.474612935374902, 5.4858922092668365, 5.4932760161658365, 5.643944818877964, 5.445723706812002, 5.778661375946704, 5.688794706442279, 5.839623278108333, 5.547314534498457, 5.7358167522756585, 5.769734879549853, 5.4074716613870475, 5.91162914259062, 5.64108255462329, 5.645650925400845, 5.955557934708195, 5.80741024472269, 5.480077451424488, 5.513832391528846, 5.919798960114188, 5.42287034819795, 5.76191444883886, 5.554372303783043, 5.663325132548189, 5.887441928344257, 5.565464055171134, 5.620642475942235, 5.433239039979695, 5.5669601840054455, 5.766260831517149, 5.631857257839658, 5.399797024928233, 5.531566920321832, 5.771536436275094, 5.73514993873634, 5.883073537664034, 5.703181920525573, 5.62705076948943, 5.397096947966817, 5.36107373435303, 5.47017755367952, 5.692697000098439, 5.5737544045683425, 5.7335885557212585, 5.5486662968230345, 5.506591716687188, 5.666727301989352, 5.108107259543869, 5.762729354526459, 5.549512870398704, 5.619094093862675, 5.645056507265469, 5.7814068942061745, 5.725563634805536, 5.522624573738752, 5.8554664656817295, 5.796517230849199, 5.727278738246871, 5.627431218354987, 5.487353243091906, 5.263337048566074, 5.74886306838261, 5.9108915632186605, 5.33058260964866, 5.715107101359927, 5.8928093092575935, 5.732102815707224, 5.839700587603313, 5.686670699812468, 5.577024567089929, 5.394344975256322, 5.51776786244086, 5.499654866738309, 5.480936840352212, 5.657372499847453, 5.78042316756495, 5.5104978734967105, 5.629590348218121, 5.277758394084886, 5.4402343753681635, 5.6970412820574055, 5.778599685027379, 6.00692618976348, 5.320737713702909, 5.3161553617256, 6.091917825284537, 5.732585265937976, 5.435773998686348, 5.851317539997605, 5.591054758354874, 5.6544519953950045, 5.857109216464901, 5.576980813825256, 5.689609536386137, 5.589799461093191, 5.486885367293232, 5.723220552749074, 5.948323201366932, 5.506126347046399, 5.396949447905159, 5.759287640628194, 5.411456796341083, 5.818032495785071, 5.6785607767318975, 5.872094420283429, 5.553473626963324, 5.347470001088074, 5.600856236075588, 5.624761920745914, 5.407570029108577, 5.5298698359444405, 5.31770771370702, 5.6469820636571715, 5.882351527162706, 5.4481799441918195, 5.3345201231121315, 5.818864115184196, 5.709562022590493, 5.934960338256022, 5.322043462236131, 5.822877324698613, 5.7064712655551775, 5.917911782068016, 6.07332882133924, 5.852976057373016, 5.719488049001496, 5.806073667752226, 5.3967626090257586, 5.846149207828777, 5.804736978755984, 5.889198039113235, 5.666062104803347, 5.410562191788202, 5.784905176990426, 5.7480574184920705, 5.587417953779365, 5.673574444852003, 5.633468751343642, 6.150845888322588, 5.42001948715877, 5.681637607674651, 5.830310267364797, 5.450950348718671, 5.728437705730057, 5.319505091882833, 5.631034195937588, 5.75586812271912, 5.614764802164766, 5.564153382898505, 5.349655290479521, 5.358019719148404, 5.620779840509902, 5.671400085150338, 5.892071392917242, 5.6771432904638495, 5.849263635709059, 5.726342017011032, 5.627099427518948, 5.601557381162794, 5.990194570969683, 5.226828991073068, 5.581253474744213, 5.742606869369351, 5.4422472708713965, 5.447475727880208, 5.659602083606144, 5.563476350508061, 5.366992932656116, 5.747542217029178, 5.7418237705932835, 5.590881011622146, 5.640006774862383, 5.213758158250068, 6.101621761729843, 5.623800165547095, 5.536147118396286, 5.398131263458366, 5.634297009059213, 5.577095425586584, 5.458219126023862, 5.3582693048830645, 5.262030695166631, 5.418948920216734, 5.506076309871297, 5.665548910413859, 5.639592969703677, 5.411707407779026, 5.766747722645097, 5.887431563157487, 5.436209191599714, 5.576240763266294, 5.387772659150952, 5.467336325031022, 5.906495784940843, 5.709138433932912, 5.404823077168843, 5.469491062739581, 5.528021888912265, 5.492162240080427, 5.641367288111317, 5.714791803883115, 5.375118481300703, 5.633570704040295, 5.734858674672148, 5.712276506166158, 5.172610555312512, 5.5820444042641935, 5.6022737332930275, 5.389950518478112, 5.404533622820109, 5.715925531334413, 5.315064064598417, 5.974565193693863, 5.820198418595259, 5.4409252521842175, 5.674053241866521, 5.6151095534048165, 5.747359220590999, 5.821012178090955, 5.540867222534381, 5.123576318313201, 5.695079046377242, 5.397632515025373, 5.717549219057953, 5.635727764692456, 5.797056110073633, 5.884299927847266, 5.874328865867746, 5.69688805046379, 5.310826271319806, 5.7891005440781615, 5.201902564269069, 5.664554251500388, 5.980636363535614, 5.636739269507261, 5.613817089066693, 5.485805499048835, 5.353535315199193, 5.2911682825272, 5.692873391458406, 5.621677486300138, 5.5562296758711796, 5.731170830380902, 6.03953629207408, 5.415803710649271, 5.535502358575731, 5.430443293979448, 5.408811409664596, 5.672931007674441, 5.204485045654844, 5.612767738087614, 5.468251646919721, 5.960080050970352, 5.665784625079103, 5.794905847820007, 5.7420332666136105, 5.484455615551491, 6.034800249564206, 5.78809871781181, 6.006336151138079, 6.113872637856124, 5.9232081667613325, 5.4639958154169435, 5.62293254705956, 5.587942129484365, 5.93584748737205, 5.737236017602291, 5.963098501128432, 5.987078474367592, 6.046126699556169, 5.688667051887981, 5.676292646779489, 5.627514732494895, 5.539598613044265, 5.793235496618069, 5.4529301289667735, 5.450524653061612, 5.414612295916847, 6.120280966324138, 5.478927753409428, 5.399655370659464, 5.482094172273922, 5.7107727949709375, 5.655970583734198, 5.763635859587242, 5.619335174280816, 5.833045345607938, 6.15275698459058, 5.572509235467031, 5.753204261520241, 5.878305643105919, 5.583878491897217, 5.819855934671283, 5.7486946852016185, 5.450011441422765, 5.606141647253715, 5.484480715285985, 5.623698922400659, 5.981886862516491, 5.5054501121167245, 5.878437146034166, 6.030061820421084, 5.586970812455547, 5.418355711837288, 5.706112226598206, 5.544445717250393, 5.436909176722334, 5.815739490872728, 5.657808327262102, 5.4849747167742064, 5.291889994213844, 5.737986759703595, 5.920928613543078, 5.729033157275177, 5.276980811399921, 5.759763087580768, 5.793503010965141, 5.799490884827642, 5.3921594533627495, 5.71751577137603, 6.161323363651642, 5.837015170826218, 5.488213950932879, 5.687070808630837, 6.14104295025371, 5.553449697566907, 5.6933556704929105, 5.406847504679247, 5.616970299766758, 5.601306869918766, 5.7425085048141415, 5.820645407676924, 5.698009521004221, 5.532191134883488, 5.65797980883531, 5.751879793998194, 6.011603392258485, 5.399456161470436, 5.432119146733311, 5.768501757701784, 5.733535173567954, 5.625623231575787, 5.531704322910523, 5.486275237386306, 5.695985062813175, 5.767584486613841, 5.94296287670064, 5.605435291545168, 5.983181477351907, 6.017286281353035, 6.054474021106116, 5.752787432420035, 5.530366774999348, 5.907531819505178, 5.722404356120195, 5.68273066612158, 5.795288878270395, 5.352922746126579, 5.636579814665216, 5.581149781205306, 5.57624266028152, 5.5150942055931145, 5.604794040291967, 6.063937847990026, 5.431292917833718, 5.553480304157949, 6.049721620607043, 5.520223457292689, 5.749101201872408, 5.8438609221977575, 5.262557160192404, 5.522751461519749, 5.636992064616673, 5.716155246441898, 5.365719397845527, 5.638302300567946, 5.472930537817084, 5.645084747988744, 6.028826269791913, 5.589968727431554, 5.678301211435506, 5.427682247753917, 5.587735104254887, 5.593126201621738, 5.849609143816117, 5.672136721131916, 5.907342921389048, 5.1886944264010495, 6.228806727579973, 5.676274233125396, 5.9357845747795945, 5.398738432844663, 5.61163661460696, 5.926534934664052, 5.863197473087458, 5.723390899430569, 5.789841085844754, 5.322661647865877, 5.794744388546514, 5.622970232632886, 5.765675861118174, 5.999398741417094, 5.69244552803652, 5.857764090638474, 5.7638557333087155, 5.844695957931416, 5.959566247998917, 6.0346840817372165, 5.448768720693307, 5.949771664587847, 5.913896066430485, 5.8342893809192296, 5.7113643880638225, 5.621472669745765, 5.805127166576507, 5.474554776571229, 5.982611233850113, 5.6959922259362505, 5.600727966579824, 5.5611763366490505, 5.408331062109063, 5.893201616259386, 5.79493670449339, 5.487528759199828, 5.74630112693661, 5.239450477785043, 5.3323275797779335, 5.875995314378751, 5.922621209049543, 5.261395454972539, 5.62314703170334, 5.3271377852431545, 5.4841135179324665, 5.616485154281536, 5.473891177535148, 5.531427345279704, 5.785427250590155, 5.83210090528001, 5.878211382359743, 5.283175651503056, 6.173065947419924, 5.773726546999649, 6.065560663129789, 5.87184640066971, 5.582901293043231, 5.6943173050174485, 5.452263285891644, 5.730191987981174, 5.310936749473676, 5.629196273655285, 5.430552678298147, 5.465622693825282, 5.780187014673248, 5.928550649241625, 5.951817363692172, 5.203949390481171, 5.105979331662678, 6.040714179863501, 6.051758086163084, 5.635785896659084, 5.393364567675386, 5.648882384325748, 6.184018357232155, 5.434274538608551, 5.784101392112808, 5.3653023277521825, 5.896363603316225, 5.9592669520116255, 6.077743296792919, 5.8207575264206515, 6.018507218730607, 5.712254360301676, 5.420573509408529, 5.793224118424513, 5.482396295002436, 5.8128046606569965, 5.584906364093675, 5.342253470132921, 5.537418113380323, 6.036412648221472, 6.012987352377988, 5.5479575295994366, 5.200965375596804, 5.390010238325301, 5.5335711896531, 6.011063389942747, 5.517174797097151, 5.796908684320604, 5.931208728855923, 5.366447137100774, 5.954319005576868, 5.918010491698944, 5.233413263617676, 5.631817444489215, 5.379717701644705, 5.553076854488591, 6.027757311860289, 5.715579416429921, 5.659531987864743, 5.56778564651461, 5.42034362366754, 5.645580670346486, 6.0400744932453225, 6.028673923426972, 5.968118997917522, 5.713781295809033, 5.734391888455238]\n"
          ],
          "name": "stdout"
        }
      ]
    },
    {
      "cell_type": "code",
      "metadata": {
        "colab": {
          "base_uri": "https://localhost:8080/",
          "height": 278
        },
        "id": "7y2G145BH8dh",
        "outputId": "73a89bd0-a851-4b39-f104-36529064788c"
      },
      "source": [
        "plt.xlabel('iter')\n",
        "plt.ylabel('loss')\n",
        "plt.plot(a.loss_list);"
      ],
      "execution_count": 21,
      "outputs": [
        {
          "output_type": "display_data",
          "data": {
            "image/png": "[encoded data removed]",
            "text/plain": [
              "<Figure size 432x288 with 1 Axes>"
            ]
          },
          "metadata": {
            "tags": [],
            "needs_background": "light"
          }
        }
      ]
    },
    {
      "cell_type": "code",
      "metadata": {
        "id": "WABzNR-O_v1u"
      },
      "source": [
        "class GetMiniBatch:\n",
        "    \"\"\"\n",
        "    ミニバッチを取得するイテレータ\n",
        "    Parameters\n",
        "    ----------\n",
        "    X : 次の形のndarray, shape (n_samples, n_features)\n",
        "      訓練データ\n",
        "    y : 次の形のndarray, shape (n_samples, 1)\n",
        "      正解値\n",
        "    batch_size : int\n",
        "      バッチサイズ\n",
        "    seed : int\n",
        "      NumPyの乱数のシード\n",
        "    \"\"\"\n",
        "    def __init__(self, X, y, batch_size = 20, seed=0):\n",
        "        self.batch_size = batch_size\n",
        "        np.random.seed(seed)\n",
        "        shuffle_index = np.random.permutation(np.arange(X.shape[0]))\n",
        "        self._X = X[shuffle_index]\n",
        "        self._y = y[shuffle_index]\n",
        "        self._stop = np.ceil(X.shape[0]/self.batch_size).astype(np.int)\n",
        "    def __len__(self):\n",
        "        return self._stop\n",
        "    def __getitem__(self,item):\n",
        "        p0 = item*self.batch_size\n",
        "        p1 = item*self.batch_size + self.batch_size\n",
        "        return self._X[p0:p1], self._y[p0:p1]        \n",
        "    def __iter__(self):\n",
        "        self._counter = 0\n",
        "        return self\n",
        "    def __next__(self):\n",
        "        if self._counter >= self._stop:\n",
        "            raise StopIteration()\n",
        "        p0 = self._counter*self.batch_size\n",
        "        p1 = self._counter*self.batch_size + self.batch_size\n",
        "        self._counter += 1\n",
        "        return self._X[p0:p1], self._y[p0:p1]"
      ],
      "execution_count": 10,
      "outputs": []
    },
    {
      "cell_type": "markdown",
      "metadata": {
        "id": "Z2CsF2My_8zr"
      },
      "source": [
        "# 【問題1】重みの初期値を決めるコードの作成\n",
        "ニューラルネットワークの各層の重みの初期値を決めるコードを作成してください。\n",
        "\n",
        "\n",
        "重みの初期値はさまざまな方法が提案されていますが、今回はガウス分布による単純な初期化を行います。バイアスに関しても同様です。\n",
        "\n",
        "\n",
        "以下のコードを参考にしてください。標準偏差の値sigmaはハイパーパラメータです。発展的な重みの初期化方法については次のSprintで扱います。"
      ]
    },
    {
      "cell_type": "code",
      "metadata": {
        "id": "RD-dsmVa__b9"
      },
      "source": [
        "#上方クラスへ実装済み"
      ],
      "execution_count": null,
      "outputs": []
    },
    {
      "cell_type": "markdown",
      "metadata": {
        "id": "mNKRF9AkEt07"
      },
      "source": [
        "# 【問題2】フォワードプロパゲーションの実装\n",
        "三層のニューラルネットワークの フォワードプロパゲーション を作成してください。以下の説明ではノード数は1層目は400、2層目は200としますが、変更しても構いません。\n",
        "\n",
        "\n",
        "各層の数式を以下に示します。今回はそれぞれの記号が表す配列が、実装上どのようなndarrayのshapeになるかを併記してあります。"
      ]
    },
    {
      "cell_type": "code",
      "metadata": {
        "id": "7XWG81tIErBc"
      },
      "source": [
        "#上方クラスへ実装済み"
      ],
      "execution_count": null,
      "outputs": []
    },
    {
      "cell_type": "markdown",
      "metadata": {
        "id": "fDE7nz5YKVWA"
      },
      "source": [
        "# 【問題3】交差エントロピー誤差の実装\n",
        "目的関数（損失関数）を作成します。\n",
        "\n",
        "\n",
        "多クラス分類の目的関数である交差エントロピー誤差 \n",
        "L\n",
        " は次の数式です。\n",
        "\n",
        "\n",
        "L\n",
        "=\n",
        "−\n",
        "1\n",
        "n\n",
        "b\n",
        "n\n",
        "b\n",
        "∑\n",
        "j\n",
        "  \n",
        "n\n",
        "c\n",
        "∑\n",
        "k\n",
        " \n",
        "y\n",
        "j\n",
        "k\n",
        "l\n",
        "o\n",
        "g\n",
        "(\n",
        "z\n",
        "3\n",
        "_\n",
        "j\n",
        "k\n",
        ")\n",
        "\n",
        "y\n",
        "i\n",
        "j\n",
        " : \n",
        "j\n",
        " 番目のサンプルの \n",
        "k\n",
        " 番目のクラスの正解ラベル（one-hot表現で0か1のスカラー）\n",
        "\n",
        "\n",
        "z\n",
        "3\n",
        "i\n",
        "j\n",
        " : \n",
        "j\n",
        " 番目のサンプルの \n",
        "k\n",
        " 番目のクラスの確率（スカラー）\n",
        "\n",
        "\n",
        "n\n",
        "b\n",
        " : バッチサイズ、batch_size\n",
        "\n",
        "\n",
        "n\n",
        "c\n",
        " : クラスの数、n_output（今回のMNISTでは10）\n",
        "\n",
        "\n",
        "サンプル1つあたりの誤差が求まります。\n",
        "\n",
        "\n",
        "実数におけるlog(x)の定義域は0 < xです。したがって、logの中身がとても小さい値になってしまったときエラーを起こします。そこでlogの中に1e-7を足すことでエラーを回避できます。\n",
        "\n",
        "\n",
        "こういった処理はlogに限らず、さまざまな場所で出てくることがあります。"
      ]
    },
    {
      "cell_type": "code",
      "metadata": {
        "id": "P0eRaIIw__hk"
      },
      "source": [
        "#上方クラスへ実装済み"
      ],
      "execution_count": null,
      "outputs": []
    },
    {
      "cell_type": "markdown",
      "metadata": {
        "id": "BgAavpt1hPgM"
      },
      "source": [
        "# 【問題4】バックプロパゲーションの実装\n",
        "三層のニューラルネットワークのバックプロパゲーションを作成してください。確率的勾配降下法を行う部分です。\n",
        "\n",
        "\n",
        "数式を以下に示します。\n",
        "\n",
        "\n",
        "まず、i層目の重みとバイアスの更新式です。 \n",
        "W\n",
        "i\n",
        " と \n",
        "B\n",
        "i\n",
        " に対し、更新後の \n",
        "W\n",
        "′\n",
        "i\n",
        " と \n",
        "B\n",
        "′\n",
        "i\n",
        " は次の数式で求められます。\n",
        "\n",
        "\n",
        "W\n",
        "′\n",
        "i\n",
        "=\n",
        "W\n",
        "i\n",
        "−\n",
        "α\n",
        "∂\n",
        "L\n",
        "∂\n",
        "W\n",
        "i\n",
        "B\n",
        "′\n",
        "i\n",
        "=\n",
        "B\n",
        "i\n",
        "−\n",
        "α\n",
        "∂\n",
        "L\n",
        "∂\n",
        "B\n",
        "i\n",
        "\n",
        "α\n",
        " : 学習率（層ごとに変えることも可能だが、基本的にはすべて同じとする）\n",
        "\n",
        "\n",
        "∂\n",
        "L\n",
        "∂\n",
        "W\n",
        "i\n",
        " : \n",
        "W\n",
        "i\n",
        " に関する損失 \n",
        "L\n",
        " の勾配\n",
        "\n",
        "\n",
        "∂\n",
        "L\n",
        "∂\n",
        "B\n",
        "i\n",
        " : \n",
        "B\n",
        "i\n",
        " に関する損失 \n",
        "L\n",
        " の勾配\n",
        "\n",
        "\n",
        "＊この勾配はミニバッチのサンプル数分の合計または平均を考えます。ここでは合計を計算します。\n",
        "\n",
        "\n",
        "この更新方法はSprint3線形回帰やsprint4ロジスティック回帰における最急降下法と同様です。より効果的な更新方法が知られており、それは次のSprintで扱います。\n",
        "\n",
        "\n",
        "勾配 \n",
        "∂\n",
        "L\n",
        "∂\n",
        "W\n",
        "i\n",
        " や \n",
        "∂\n",
        "L\n",
        "∂\n",
        "B\n",
        "i\n",
        " を求めるために、バックプロパゲーションを行います。以下の数式です。ハイパボリックタンジェント関数を使用した例を載せました。シグモイド関数の場合の数式はその後ろにあります。"
      ]
    },
    {
      "cell_type": "code",
      "metadata": {
        "id": "PZeviZ_7__kn"
      },
      "source": [
        "#上方クラスへ実装済み"
      ],
      "execution_count": null,
      "outputs": []
    }
  ]
}