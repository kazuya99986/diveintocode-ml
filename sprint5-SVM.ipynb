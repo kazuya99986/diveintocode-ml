{
  "nbformat": 4,
  "nbformat_minor": 0,
  "metadata": {
    "colab": {
      "name": "Untitled33.ipynb",
      "provenance": [],
      "collapsed_sections": []
    },
    "kernelspec": {
      "name": "python3",
      "display_name": "Python 3"
    },
    "language_info": {
      "name": "python"
    }
  },
  "cells": [
    {
      "cell_type": "markdown",
      "metadata": {
        "id": "6UJH49qKeak1"
      },
      "source": [
        "# Sprint5_SVM"
      ]
    },
    {
      "cell_type": "code",
      "metadata": {
        "colab": {
          "base_uri": "https://localhost:8080/"
        },
        "id": "V8syoEAhfE8p",
        "outputId": "28905609-fa8f-4713-f9e4-4b3069c17754"
      },
      "source": [
        "import pandas as pd\n",
        "from sklearn.model_selection import train_test_split\n",
        "import numpy as np\n",
        "from sklearn.preprocessing import StandardScaler\n",
        "\n",
        "#シンプルデータセット1作成コード\n",
        "np.random.seed(seed=0)\n",
        "n_samples = 500\n",
        "f0 = [-1, 2]\n",
        "f1 = [2, -1]\n",
        "cov = [[1.0,0.8], [0.8, 1.0]]\n",
        "f0 = np.random.multivariate_normal(f0, cov, n_samples // 2)\n",
        "f1 = np.random.multivariate_normal(f1, cov, n_samples // 2)\n",
        "X = np.concatenate([f0, f1])\n",
        "y = np.concatenate([\n",
        "    np.full(n_samples // 2, 1),\n",
        "    np.full(n_samples // 2, -1)\n",
        "])\n",
        "\n",
        "X_train, X_test, y_train, y_test = train_test_split(X, y, train_size=0.8)\n",
        "\n",
        "scaler = StandardScaler()\n",
        "X_train_scaled = scaler.fit_transform(X_train)\n",
        "X_test_scaled = scaler.transform(X_test)"
      ],
      "execution_count": 59,
      "outputs": [
        {
          "output_type": "execute_result",
          "data": {
            "text/plain": [
              "(400, 2)"
            ]
          },
          "metadata": {
            "tags": []
          },
          "execution_count": 59
        }
      ]
    },
    {
      "cell_type": "code",
      "metadata": {
        "id": "JGA1bnOKgGEi"
      },
      "source": [
        "class ScratchSVMClassifier():\n",
        "    \"\"\"\n",
        "    SVM分類器のスクラッチ実装\n",
        "    Parameters\n",
        "    ----------\n",
        "    num_iter : int\n",
        "      イテレーション数\n",
        "    lr : float\n",
        "      学習率\n",
        "    kernel : str\n",
        "      カーネルの種類。線形カーネル（linear）か多項式カーネル（polly）\n",
        "    threshold : float\n",
        "      サポートベクターを選ぶための閾値\n",
        "    verbose : bool\n",
        "      学習過程を出力する場合はTrue\n",
        "    Attributes\n",
        "    ----------\n",
        "    self.n_support_vectors : int\n",
        "      サポートベクターの数\n",
        "    self.index_support_vectors : 次の形のndarray, shape (n_support_vectors,)\n",
        "      サポートベクターのインデックス\n",
        "    self.X_sv :  次の形のndarray, shape(n_support_vectors, n_features)\n",
        "      サポートベクターの特徴量\n",
        "    self.lam_sv :  次の形のndarray, shape(n_support_vectors, 1)\n",
        "      サポートベクターの未定乗数\n",
        "    self.y_sv :  次の形のndarray, shape(n_support_vectors, 1)\n",
        "      サポートベクターのラベル\n",
        "    \"\"\"\n",
        "    def __init__(self, num_iter, lr, kernel='linear', threshold=0.1, verbose=False):\n",
        "        # ハイパーパラメータを属性として記録\n",
        "        self.iter = num_iter\n",
        "        self.lr = lr\n",
        "        self.kernel = kernel\n",
        "        self.threshold = threshold\n",
        "        self.verbose = verbose\n",
        "\n",
        "    def fit(self, X, y, X_val=None, y_val=None):\n",
        "        \"\"\"\n",
        "        SVM分類器を学習する。検証データが入力された場合はそれに対する精度もイテレーションごとに計算する。\n",
        "        Parameters\n",
        "        ----------\n",
        "        X : 次の形のndarray, shape (n_samples, n_features)\n",
        "            訓練データの特徴量\n",
        "        y : 次の形のndarray, shape (n_samples, )\n",
        "            訓練データの正解値\n",
        "        X_val : 次の形のndarray, shape (n_samples, n_features)\n",
        "            検証データの特徴量\n",
        "        y_val : 次の形のndarray, shape (n_samples, )\n",
        "            検証データの正解値\n",
        "        \"\"\"\n",
        "        self.X_sv = []\n",
        "        self.y_sv = []\n",
        "        self.lam_sv = np.random.rand(len(X), 1) #適当にlambdaを決める\n",
        "\n",
        "        #メイン処理\n",
        "        for i in range(self.iter):\n",
        "          self._langrange(X, y) #イテレーション回数、lambdaを更新する\n",
        "\n",
        "        self.index_support_vectors = np.where(self.lam_sv < self.threshold)[0]\n",
        "        self.lam_sv = self.lam_sv[self.index_support_vectors] \n",
        "        self.X_sv = X[self.index_support_vectors]\n",
        "        self.y_sv = y[self.index_support_vectors]\n",
        "\n",
        "\n",
        "        if self.verbose:\n",
        "            #verboseをTrueにした際は学習過程を出力\n",
        "            print()\n",
        "        pass\n",
        "        \n",
        "    #問題1\n",
        "    def _langrange(self, X, y):\n",
        "        '''\n",
        "        ラグランジュの未定乗数法による最急降下法でlambdaの値を更新する\n",
        "        ---\n",
        "        引数\n",
        "        X : 次の形のndarray, shape (n_samples, n_features)\n",
        "            訓練データの特徴量\n",
        "        y : 次の形のndarray, shape (n_samples, )\n",
        "            訓練データの正解値\n",
        "        ---\n",
        "        戻り値\n",
        "        なし\n",
        "        '''\n",
        "        for i in range(len(X)):\n",
        "          lam_sum = 0\n",
        "          \n",
        "          for j in range(len(X)):\n",
        "            lam_sum += self.lam_sv[j] * y[i] * y[j] * self._kernel(X[i], X[j])\n",
        "            \n",
        "          self.lam_sv[i] += self.lr * ( 1 - lam_sum )\n",
        "\n",
        "          if self.lam_sv[i] < 0: #lambdaが0以下になった場合は、0へ修正する\n",
        "            self.lam_sv[i] = 0\n",
        "            \n",
        "          return\n",
        "      \n",
        "    def _kernel(self, xi, xj): \n",
        "        '''\n",
        "        カーネル関数の計算\n",
        "        ---\n",
        "        引数\n",
        "        X : 次の形のndarray, shape (n_samples, n_features)\n",
        "            訓練データの特徴量\n",
        "        y : 次の形のndarray, shape (n_samples, )\n",
        "            訓練データの正解値\n",
        "        ---\n",
        "        戻り値\n",
        "        k：　\n",
        "        　　　　　　カーネル関数\n",
        "        '''\n",
        "        if self.kernel  == 'linear': #kernelの指定により計算結果を変える\n",
        "          k = np.dot(xi.T, xj)\n",
        "\n",
        "          return k\n",
        "        \n",
        "        elif self.kernel == 'poly':\n",
        "          d = 6\n",
        "          r = 1\n",
        "          k = ( self.threshold * np.dot(xi.T, xj) * r ) ** d\n",
        "          \n",
        "          return k\n",
        "\n",
        "    def predict(self, X):\n",
        "        \"\"\"\n",
        "        SVM分類器を使いラベルを推定する。\n",
        "        Parameters\n",
        "        ----------\n",
        "        X : 次の形のndarray, shape (n_samples, n_features)\n",
        "            サンプル\n",
        "        Returns\n",
        "        -------\n",
        "        Y_pred: 次の形のndarray, shape (n_samples, 1)\n",
        "            SVM分類器による推定結果\n",
        "        \"\"\"\n",
        "        Y_pred = 0\n",
        "\n",
        "        for i in range(len(X)):\n",
        "          Y_pred += self.lam_sv[0] * self.y_sv[0] * self._kernel(X.T, self.X_sv[0].T)\n",
        "\n",
        "        Y_pred = result = np.where(Y_pred > 0, 1, -1) #1と-1の2値に振り分ける\n",
        "\n",
        "        return Y_pred\n",
        "\n",
        "num_iter = 20\n",
        "lr = 0.0000001\n",
        "threshold = 0.03       \n",
        "\n",
        "a = ScratchSVMClassifier(num_iter=num_iter, lr=lr, threshold=threshold)"
      ],
      "execution_count": null,
      "outputs": []
    },
    {
      "cell_type": "markdown",
      "metadata": {
        "id": "YBtj2dvOehjW"
      },
      "source": [
        "# 【問題1】ラグランジュの未定乗数法による最急降下法\n",
        "SVMの学習は、ラグランジュの未定乗数法を用います。サンプル数分のラグランジュ乗数 $\\lambda$ を用意して、以下の式により更新していきます。この計算を行うメソッドをScratchSVMClassifierクラスに実装してください。"
      ]
    },
    {
      "cell_type": "code",
      "metadata": {
        "id": "kPdLGxbzTovm"
      },
      "source": [
        "#上方クラスへ実装済み"
      ],
      "execution_count": null,
      "outputs": []
    },
    {
      "cell_type": "markdown",
      "metadata": {
        "id": "uSN97mLKehmg"
      },
      "source": [
        "# 【問題2】サポートベクターの決定\n",
        "計算したラグランジュ乗数 $\\lambda$ が設定した閾値より大きいサンプルをサポートベクターとして扱います。推定時にサポートベクターが必要になります。サポートベクターを決定し、インスタンス変数として保持しておくコードを書いてください。\n",
        "\n",
        "\n",
        "閾値はハイパーパラメータですが、1e-5程度からはじめると良いでしょう。サポートベクターの数を出力させられるようにしておくと学習がうまく行えているかを確認できます。"
      ]
    },
    {
      "cell_type": "code",
      "metadata": {
        "id": "WgO1zeX0T0FZ"
      },
      "source": [
        "#上方へ記載"
      ],
      "execution_count": null,
      "outputs": []
    },
    {
      "cell_type": "markdown",
      "metadata": {
        "id": "skApuzIZehpl"
      },
      "source": [
        "# 【問題3】推定\n",
        "推定時には、推定したいデータの特徴量とサポートベクターの特徴量をカーネル関数によって計算します。求めた $f(x)$ の符号が分類結果です。"
      ]
    },
    {
      "cell_type": "code",
      "metadata": {
        "colab": {
          "base_uri": "https://localhost:8080/"
        },
        "id": "b8RP7HDHT8xE",
        "outputId": "c3e5d8c2-1ff3-4180-fb57-1008e4925342"
      },
      "source": [
        "a = ScratchSVMClassifier(num_iter=num_iter, lr=lr)\n",
        "a.fit(X_train,y_train, X_test, y_test)\n",
        "Y_pred = a.predict(X_test)\n",
        "print('スクラッチ')\n",
        "print(Y_pred)\n",
        "print('---------------')\n",
        "\n",
        "#sklearnのモジュールで結果確認\n",
        "from sklearn import svm\n",
        "clf = svm.SVC()\n",
        "clf.fit(X_train,y_train)\n",
        "Y_pred = clf.predict(X_test)\n",
        "print('モジュール')\n",
        "print(Y_pred)"
      ],
      "execution_count": 219,
      "outputs": [
        {
          "output_type": "stream",
          "text": [
            "スクラッチ\n",
            "[-1  1  1  1  1  1 -1 -1 -1 -1 -1  1  1 -1  1  1  1 -1 -1  1  1  1 -1 -1\n",
            "  1 -1  1 -1  1 -1  1  1  1 -1  1  1  1  1 -1 -1  1 -1 -1  1 -1 -1  1  1\n",
            "  1 -1 -1  1  1  1  1 -1  1  1  1 -1 -1  1  1  1 -1  1 -1 -1 -1 -1 -1  1\n",
            " -1  1  1  1 -1 -1  1  1  1  1  1 -1  1 -1 -1  1  1 -1 -1  1  1 -1  1  1\n",
            "  1 -1  1 -1]\n",
            "---------------\n",
            "モジュール\n",
            "[-1  1  1  1  1  1 -1 -1 -1 -1 -1  1  1 -1  1  1  1 -1 -1  1  1  1 -1 -1\n",
            "  1 -1  1 -1  1 -1  1  1  1 -1  1  1  1  1 -1 -1  1 -1 -1  1 -1 -1  1  1\n",
            "  1 -1 -1  1  1  1  1 -1  1  1  1 -1 -1  1  1  1 -1  1 -1 -1 -1 -1 -1  1\n",
            " -1  1  1  1 -1 -1  1  1  1  1  1 -1  1 -1 -1  1  1 -1 -1  1  1 -1  1  1\n",
            "  1 -1  1 -1]\n"
          ],
          "name": "stdout"
        }
      ]
    },
    {
      "cell_type": "markdown",
      "metadata": {
        "id": "JbZq5uNOehsU"
      },
      "source": [
        "# 【問題4】学習と推定\n",
        "機械学習スクラッチ入門のSprintで用意したシンプルデータセット1の2値分類に対してスクラッチ実装の学習と推定を行なってください。\n",
        "\n",
        "\n",
        "scikit-learnによる実装と比べ、正しく動いているかを確認してください。\n",
        "\n",
        "\n",
        "AccuracyやPrecision、Recallなどの指標値はscikit-learnを使用してください。"
      ]
    },
    {
      "cell_type": "code",
      "metadata": {
        "colab": {
          "base_uri": "https://localhost:8080/"
        },
        "id": "e7LbWfgg-_up",
        "outputId": "60b9cb7e-5c88-4886-93e0-feca205d504f"
      },
      "source": [
        "from sklearn.metrics import precision_score\n",
        "from sklearn.metrics import recall_score\n",
        "from sklearn.metrics import f1_score\n",
        "from sklearn.metrics import accuracy_score\n",
        "from sklearn.metrics import confusion_matrix\n",
        "\n",
        "print(f'accuracy_score : {accuracy_score(y_test, Y_pred):.2%}')#正解率（正解の割合）\n",
        "print(f'precision_score : {precision_score(y_test, Y_pred):.2%}')#適合率（陽性と予測されたサンプルのうち正解したサンプルの割合）\n",
        "print(f'recall_score : {recall_score(y_test, Y_pred):.2%}.')#再現率（実際に陽性のサンプルのうち正解したサンプルの割合）\n",
        "print(f'f1_score : {f1_score(y_test, Y_pred):.2%}')#F値（適合率と再現率の調和平均）\n",
        "print('confusion_matrix :')#混同行列\n",
        "print(confusion_matrix(y_test, Y_pred))"
      ],
      "execution_count": 218,
      "outputs": [
        {
          "output_type": "stream",
          "text": [
            "accuracy_score : 100.00%\n",
            "precision_score : 100.00%\n",
            "recall_score : 100.00%.\n",
            "f1_score : 100.00%\n",
            "confusion_matrix :\n",
            "[[43  0]\n",
            " [ 0 57]]\n"
          ],
          "name": "stdout"
        }
      ]
    },
    {
      "cell_type": "markdown",
      "metadata": {
        "id": "xa_W0pRxehur"
      },
      "source": [
        "# 【問題5】決定領域の可視化\n",
        "決定領域を可視化してください。\n",
        "\n",
        "\n",
        "以下の例のようにサポートベクターは異なる色で示してください。"
      ]
    },
    {
      "cell_type": "code",
      "metadata": {
        "colab": {
          "base_uri": "https://localhost:8080/",
          "height": 294
        },
        "id": "MlGX6YUa_gMZ",
        "outputId": "33efa3e0-1b6d-463e-e518-f2a64ed02532"
      },
      "source": [
        "from matplotlib.colors import ListedColormap\n",
        "import matplotlib.patches as mpatches\n",
        "import matplotlib.pyplot as plt\n",
        "\n",
        "def decision_region(X, y, model, step=0.05, title='decision region', xlabel='xlabel', ylabel='ylabel', target_names=['-1', '1']):\n",
        "    \"\"\"\n",
        "    2値分類を2次元の特徴量で学習したモデルの決定領域を描く。\n",
        "    背景の色が学習したモデルによる推定値から描画される。\n",
        "    散布図の点は訓練データまたは検証データである。\n",
        "    Parameters\n",
        "    ----------------\n",
        "    X : ndarray, shape(n_samples, 2)\n",
        "        特徴量\n",
        "    y : ndarray, shape(n_samples,)\n",
        "        ラベル\n",
        "    model : object\n",
        "        学習したモデルのインスタンスを入れる\n",
        "    step : float, (default : 0.1)\n",
        "        推定値を計算する間隔を設定する\n",
        "    title : str\n",
        "        グラフのタイトルの文章を与える\n",
        "    xlabel, ylabel : str\n",
        "        軸ラベルの文章を与える\n",
        "    target_names= : list of str\n",
        "        凡例の一覧を与える\n",
        "    \"\"\"\n",
        "    # setting\n",
        "    scatter_color = ['red', 'blue']\n",
        "    contourf_color = ['pink', 'skyblue']\n",
        "    n_class = 2\n",
        "    # pred\n",
        "    mesh_f0, mesh_f1  = np.meshgrid(np.arange(np.min(X[:,0])-0.5, np.max(X[:,0])+0.5, step), np.arange(np.min(X[:,1])-0.5, np.max(X[:,1])+0.5, step))\n",
        "    mesh = np.c_[np.ravel(mesh_f0),np.ravel(mesh_f1)]\n",
        "    y_pred = model.predict(mesh).reshape(mesh_f0.shape)\n",
        "\n",
        "    # plot\n",
        "    plt.title(title)\n",
        "    plt.xlabel(xlabel)\n",
        "    plt.ylabel(ylabel)\n",
        "    plt.contourf(mesh_f0, mesh_f1, y_pred, n_class-1, cmap=ListedColormap(contourf_color))\n",
        "    plt.contour(mesh_f0, mesh_f1, y_pred, n_class-1, colors='y', linewidths=3, alpha=0.5)\n",
        "    for i, target in enumerate(set(y)):\n",
        "        plt.scatter(X[y==target][:, 0], X[y==target][:, 1], s=80, color=scatter_color[i], label=target_names[i], marker='o')\n",
        "    plt.scatter(a.X_sv[:,0], a.X_sv[:,1], color='yellow')\n",
        "    patches = [mpatches.Patch(color=scatter_color[i], label=target_names[i]) for i in range(n_class)]\n",
        "    plt.legend(handles=patches)\n",
        "    plt.legend()\n",
        "    plt.show()\n",
        "\n",
        "decision_region(X_train, y_train, a)"
      ],
      "execution_count": 217,
      "outputs": [
        {
          "output_type": "display_data",
          "data": {
            "image/png": "[encoded data removed]",
            "text/plain": [
              "<Figure size 432x288 with 1 Axes>"
            ]
          },
          "metadata": {
            "tags": [],
            "needs_background": "light"
          }
        }
      ]
    }
  ]
}