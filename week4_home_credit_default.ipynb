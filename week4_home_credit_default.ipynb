{
  "nbformat": 4,
  "nbformat_minor": 0,
  "metadata": {
    "colab": {
      "name": "week4_home-credit-default.ipynb",
      "provenance": [],
      "collapsed_sections": []
    },
    "kernelspec": {
      "name": "python3",
      "display_name": "Python 3"
    },
    "language_info": {
      "name": "python"
    }
  },
  "cells": [
    {
      "cell_type": "code",
      "metadata": {
        "id": "4TqFGBG3v_FX"
      },
      "source": [
        "import pandas as pd\n",
        "import matplotlib.pyplot as plt\n",
        "import missingno as msno\n",
        "from google.colab import drive\n",
        "import seaborn as sns\n",
        "import numpy as np\n",
        "from sklearn.model_selection import train_test_split\n",
        "from sklearn.preprocessing import StandardScaler\n",
        "from sklearn.preprocessing import LabelEncoder\n",
        "from sklearn.preprocessing import OrdinalEncoder\n",
        "import lightgbm as lgb\n",
        "from sklearn.model_selection import train_test_split\n",
        "from sklearn import metrics\n",
        "from sklearn.metrics import roc_curve\n",
        "from sklearn.ensemble import RandomForestClassifier\n",
        "from sklearn import tree\n",
        "from sklearn.metrics import precision_score\n",
        "from sklearn.metrics import recall_score\n",
        "from sklearn.metrics import f1_score\n",
        "from sklearn.metrics import accuracy_score\n",
        "from sklearn.metrics import confusion_matrix\n",
        "from sklearn.metrics import log_loss\n",
        "from sklearn.metrics import roc_auc_score\n",
        "from sklearn.neighbors import KNeighborsClassifier\n",
        "from sklearn.linear_model import LogisticRegression\n",
        "from sklearn.svm import SVC\n",
        "import xgboost"
      ],
      "execution_count": 32,
      "outputs": []
    },
    {
      "cell_type": "markdown",
      "metadata": {
        "id": "nsmutDVCwx9Z"
      },
      "source": [
        "データセット読み込み"
      ]
    },
    {
      "cell_type": "code",
      "metadata": {
        "id": "ha2BP-YfwATz"
      },
      "source": [
        "df = pd.read_csv('drive/My Drive/data/application_train.csv')\n",
        "df_test = pd.read_csv('drive/My Drive/data/application_test.csv') "
      ],
      "execution_count": 33,
      "outputs": []
    },
    {
      "cell_type": "markdown",
      "metadata": {
        "id": "lVjHM74pw9S7"
      },
      "source": [
        "データチェック（307511サンプル×122カラム。typeはint,float,object）"
      ]
    },
    {
      "cell_type": "code",
      "metadata": {
        "colab": {
          "base_uri": "https://localhost:8080/"
        },
        "id": "uKqVUw5FwDCA",
        "outputId": "2a843348-6be0-49bf-fe6a-f101a17fd17b"
      },
      "source": [
        "print(df.head(4))\n",
        "print(df.info())\n",
        "print(df.describe())"
      ],
      "execution_count": 34,
      "outputs": [
        {
          "output_type": "stream",
          "text": [
            "   SK_ID_CURR  TARGET  ... AMT_REQ_CREDIT_BUREAU_QRT AMT_REQ_CREDIT_BUREAU_YEAR\n",
            "0      100002       1  ...                       0.0                        1.0\n",
            "1      100003       0  ...                       0.0                        0.0\n",
            "2      100004       0  ...                       0.0                        0.0\n",
            "3      100006       0  ...                       NaN                        NaN\n",
            "\n",
            "[4 rows x 122 columns]\n",
            "<class 'pandas.core.frame.DataFrame'>\n",
            "RangeIndex: 307511 entries, 0 to 307510\n",
            "Columns: 122 entries, SK_ID_CURR to AMT_REQ_CREDIT_BUREAU_YEAR\n",
            "dtypes: float64(65), int64(41), object(16)\n",
            "memory usage: 286.2+ MB\n",
            "None\n",
            "          SK_ID_CURR  ...  AMT_REQ_CREDIT_BUREAU_YEAR\n",
            "count  307511.000000  ...               265992.000000\n",
            "mean   278180.518577  ...                    1.899974\n",
            "std    102790.175348  ...                    1.869295\n",
            "min    100002.000000  ...                    0.000000\n",
            "25%    189145.500000  ...                    0.000000\n",
            "50%    278202.000000  ...                    1.000000\n",
            "75%    367142.500000  ...                    3.000000\n",
            "max    456255.000000  ...                   25.000000\n",
            "\n",
            "[8 rows x 106 columns]\n"
          ],
          "name": "stdout"
        }
      ]
    },
    {
      "cell_type": "markdown",
      "metadata": {
        "id": "ktFr3_DRGNqC"
      },
      "source": [
        "テストデータチェック（48744サンプル×121カラム。typeはint,float,object）"
      ]
    },
    {
      "cell_type": "code",
      "metadata": {
        "colab": {
          "base_uri": "https://localhost:8080/"
        },
        "id": "Rw_JX9rhGQwL",
        "outputId": "ca55b0ca-f49d-4719-9282-2b677c09ce74"
      },
      "source": [
        "print(df_test.head(4))\n",
        "print(df_test.info())\n",
        "print(df_test.describe())"
      ],
      "execution_count": 35,
      "outputs": [
        {
          "output_type": "stream",
          "text": [
            "   SK_ID_CURR  ... AMT_REQ_CREDIT_BUREAU_YEAR\n",
            "0      100001  ...                        0.0\n",
            "1      100005  ...                        3.0\n",
            "2      100013  ...                        4.0\n",
            "3      100028  ...                        3.0\n",
            "\n",
            "[4 rows x 121 columns]\n",
            "<class 'pandas.core.frame.DataFrame'>\n",
            "RangeIndex: 48744 entries, 0 to 48743\n",
            "Columns: 121 entries, SK_ID_CURR to AMT_REQ_CREDIT_BUREAU_YEAR\n",
            "dtypes: float64(65), int64(40), object(16)\n",
            "memory usage: 45.0+ MB\n",
            "None\n",
            "          SK_ID_CURR  ...  AMT_REQ_CREDIT_BUREAU_YEAR\n",
            "count   48744.000000  ...                42695.000000\n",
            "mean   277796.676350  ...                    1.983769\n",
            "std    103169.547296  ...                    1.838873\n",
            "min    100001.000000  ...                    0.000000\n",
            "25%    188557.750000  ...                    0.000000\n",
            "50%    277549.000000  ...                    2.000000\n",
            "75%    367555.500000  ...                    3.000000\n",
            "max    456250.000000  ...                   17.000000\n",
            "\n",
            "[8 rows x 105 columns]\n"
          ],
          "name": "stdout"
        }
      ]
    },
    {
      "cell_type": "markdown",
      "metadata": {
        "id": "0ynrFqTrnObt"
      },
      "source": [
        "目的変数（ターゲット）比率確認"
      ]
    },
    {
      "cell_type": "code",
      "metadata": {
        "colab": {
          "base_uri": "https://localhost:8080/"
        },
        "id": "ly5IFqIWnRsM",
        "outputId": "c5b8d811-7926-4ab1-86a5-37f75820e515"
      },
      "source": [
        "n_target0, n_target1 = len(df[df['TARGET'] == 0]), len(df[df['TARGET'] == 1])\n",
        "n_all = n_target0+n_target1\n",
        "print('通常債務者(target:0)の割合 :' + '{:.2%}'.format(n_target0/n_all)) #target0(通常債務者)の割合\n",
        "print('不良債務者(target:1)の割合 :' + '{:.2%}'.format(n_target1/n_all)) #target1(不良債務者)の割合"
      ],
      "execution_count": 36,
      "outputs": [
        {
          "output_type": "stream",
          "text": [
            "通常債務者(target:0)の割合 :91.93%\n",
            "不良債務者(target:1)の割合 :8.07%\n"
          ],
          "name": "stdout"
        }
      ]
    },
    {
      "cell_type": "markdown",
      "metadata": {
        "id": "a65j1CbL2mUT"
      },
      "source": [
        "グルーピング"
      ]
    },
    {
      "cell_type": "code",
      "metadata": {
        "colab": {
          "base_uri": "https://localhost:8080/"
        },
        "id": "vfozbkfR2tAz",
        "outputId": "1bfdbad6-32f3-46cd-edab-07a324787f70"
      },
      "source": [
        "grouped = df.groupby('TARGET')\n",
        "print(grouped['DAYS_BIRTH', 'REGION_RATING_CLIENT_W_CITY'].mean())"
      ],
      "execution_count": 37,
      "outputs": [
        {
          "output_type": "stream",
          "text": [
            "          DAYS_BIRTH  REGION_RATING_CLIENT_W_CITY\n",
            "TARGET                                           \n",
            "0      -16138.176397                     2.022449\n",
            "1      -14884.828077                     2.134824\n"
          ],
          "name": "stdout"
        },
        {
          "output_type": "stream",
          "text": [
            "/usr/local/lib/python3.7/dist-packages/ipykernel_launcher.py:2: FutureWarning: Indexing with multiple keys (implicitly converted to a tuple of keys) will be deprecated, use a list instead.\n",
            "  \n"
          ],
          "name": "stderr"
        }
      ]
    },
    {
      "cell_type": "markdown",
      "metadata": {
        "id": "SWftGQ0Y5ALe"
      },
      "source": [
        "データ整理（欠損データ削除）"
      ]
    },
    {
      "cell_type": "code",
      "metadata": {
        "id": "c9NrEP4C0wLL"
      },
      "source": [
        "#print(df.isnull().sum()) #欠損率（欠損の発生しているカラムは少なく、またいずれも1%未満）\n",
        "#print(df_test.isnull().sum() / len(df)) #欠損率（欠損の発生しているカラムは少なく、またいずれも1%未満）\n",
        "\n",
        "df.dropna(thresh=304000, axis=1, inplace=True) #3000つ以上欠損値がある特徴量（列）の削除\n",
        "df.dropna(how='any', axis=0, inplace=True) #欠損値があるサンプル（行）の削除\n",
        "\n",
        "df_test['TARGET'] = '' #↓の処理の際にTARGETカラムが無いと処理できない為、追加\n",
        "df_test = df_test[df.columns] #訓練データとカラムを合わせる\n",
        "df_test.fillna(0) #欠損値には0を適用\n",
        "\n",
        "df.info()\n",
        "df_test.info()"
      ],
      "execution_count": null,
      "outputs": []
    },
    {
      "cell_type": "markdown",
      "metadata": {
        "id": "LYncXSaf6Z4o"
      },
      "source": [
        "相関関係ヒートマップ"
      ]
    },
    {
      "cell_type": "code",
      "metadata": {
        "id": "Tdqde_UX54sz"
      },
      "source": [
        "df_corr = df.corr().abs() #相関関係のデータフレーム作成\n",
        "df_corr.style.background_gradient(axis=None) #相関係数行列のヒートマップ"
      ],
      "execution_count": null,
      "outputs": []
    },
    {
      "cell_type": "markdown",
      "metadata": {
        "id": "DX1DaGtuE0F4"
      },
      "source": [
        "targetと相関関係の強いカラムを抽出"
      ]
    },
    {
      "cell_type": "code",
      "metadata": {
        "colab": {
          "base_uri": "https://localhost:8080/"
        },
        "id": "O2e-Yr5s7uCj",
        "outputId": "a36f9e31-ee68-48ce-aaac-4ffa7c2eec8c"
      },
      "source": [
        "selected_cols = df_corr.nlargest(13,'TARGET')['TARGET'].index\n",
        "print(selected_cols)"
      ],
      "execution_count": 27,
      "outputs": [
        {
          "output_type": "stream",
          "text": [
            "Index(['TARGET', 'EXT_SOURCE_2', 'DAYS_BIRTH', 'REGION_RATING_CLIENT_W_CITY',\n",
            "       'REGION_RATING_CLIENT', 'DAYS_LAST_PHONE_CHANGE', 'DAYS_ID_PUBLISH',\n",
            "       'REG_CITY_NOT_WORK_CITY', 'FLAG_EMP_PHONE', 'DAYS_EMPLOYED',\n",
            "       'REG_CITY_NOT_LIVE_CITY', 'FLAG_DOCUMENT_3', 'DAYS_REGISTRATION'],\n",
            "      dtype='object')\n"
          ],
          "name": "stdout"
        }
      ]
    },
    {
      "cell_type": "markdown",
      "metadata": {
        "id": "jMC5ipgglV4L"
      },
      "source": [
        "前処理・訓練データと検証データの分割、標準化"
      ]
    },
    {
      "cell_type": "code",
      "metadata": {
        "id": "PBQBkm3lsL3P"
      },
      "source": [
        "X = df.select_dtypes(exclude=[\"object\"]) #オブジックト列削除\n",
        "X = X.drop('TARGET',axis=1).values # 説明変数(target以外の特徴量)\n",
        "\n",
        "y = df['TARGET'].values # 目的変数(target)\n",
        "\n",
        "t = df_test.select_dtypes(exclude=[\"object\"]) #テストデータのオブジェクト列削除\n",
        "t = t.values #ndarrayへ変換\n",
        "\n",
        "X_train, X_test, y_train, y_test = train_test_split(X, y, test_size=0.3, random_state=0)\n",
        "\n",
        "scaler = StandardScaler()\n",
        "scaler.fit(X_train)\n",
        "X_train = scaler.transform(X_train)\n",
        "X_test = scaler.transform(X_test)\n",
        "\n",
        "print(X_train.shape)\n",
        "print(y_train.shape)\n",
        "print(t.shape)\n",
        "print(type(t))\n",
        "t"
      ],
      "execution_count": null,
      "outputs": []
    },
    {
      "cell_type": "markdown",
      "metadata": {
        "id": "ZeYRVLHAdfzQ"
      },
      "source": [
        "スコア評価関数"
      ]
    },
    {
      "cell_type": "code",
      "metadata": {
        "id": "TPBW05xmdmyR"
      },
      "source": [
        "def result(y_test_, Y_pred_):\n",
        "  print('accuracy_score= ' + str(accuracy_score(y_test_, Y_pred_)))#正解率（正解の割合）\n",
        "  print('precision_score= '+ str(precision_score(y_test_, Y_pred_)))#適合率（陽性と予測されたサンプルのうち正解したサンプルの割合）\n",
        "  print('recall_score= '+ str(recall_score(y_test_, Y_pred_)))#再現率（実際に陽性のサンプルのうち正解したサンプルの割合）\n",
        "  print('f1_score= '+ str(f1_score(y_test_, Y_pred_)))#F値（適合率と再現率の調和平均）\n",
        "  print('confusion_matrix= ')#混同行列\n",
        "  print(confusion_matrix(y_test_, Y_pred_))\n",
        "\n",
        "  print('AUC=' + str(roc_auc_score(y_test_, Y_pred_)))\n",
        "\n",
        "  #ROC曲線描写\n",
        "  fpr, tpr, thresholds = metrics.roc_curve(y_test_, Y_pred_)# FPR, TPR(, しきい値) を算出\n",
        "  auc = metrics.auc(fpr, tpr) #auc\n",
        "\n",
        "  plt.plot(fpr, tpr, label='ROC curve (area = %.2f)'%auc)\n",
        "  plt.legend()\n",
        "  plt.title('ROC curve')\n",
        "  plt.xlabel('False Positive Rate')\n",
        "  plt.ylabel('True Positive Rate')\n",
        "  plt.grid(True)"
      ],
      "execution_count": 6,
      "outputs": []
    },
    {
      "cell_type": "markdown",
      "metadata": {
        "id": "P7Y4PMyBb9U5"
      },
      "source": [
        "決定木モデル"
      ]
    },
    {
      "cell_type": "code",
      "metadata": {
        "colab": {
          "base_uri": "https://localhost:8080/",
          "height": 431
        },
        "id": "kjvb4vUscDOt",
        "outputId": "ef869433-07d1-4eb5-84b0-9fe5a1ed6ba4"
      },
      "source": [
        "descision_tree = tree.DecisionTreeClassifier(random_state=0)#インスタンス作成\n",
        "descision_tree.fit(X_train, y_train) # 学習\n",
        "Y_pred = descision_tree.predict(X_test)# 予測　\n",
        "decision_tree = result(y_test, Y_pred) #評価出力"
      ],
      "execution_count": 66,
      "outputs": [
        {
          "output_type": "stream",
          "text": [
            "accuracy_score= 0.8469133099824868\n",
            "precision_score= 0.1274126838235294\n",
            "recall_score= 0.14786666666666667\n",
            "f1_score= 0.13687978276968651\n",
            "confusion_matrix= \n",
            "[[76265  7595]\n",
            " [ 6391  1109]]\n",
            "AUC=0.5286495269894268\n"
          ],
          "name": "stdout"
        },
        {
          "output_type": "display_data",
          "data": {
            "image/png": "[encoded data removed]",
            "text/plain": [
              "<Figure size 432x288 with 1 Axes>"
            ]
          },
          "metadata": {
            "tags": [],
            "needs_background": "light"
          }
        }
      ]
    },
    {
      "cell_type": "markdown",
      "metadata": {
        "id": "Xtinyk0oq9z_"
      },
      "source": [
        "最近傍法"
      ]
    },
    {
      "cell_type": "code",
      "metadata": {
        "id": "GPpKDJwArEdE"
      },
      "source": [
        "##10-nn\n",
        "knc_10nn = KNeighborsClassifier(n_neighbors=10)\n",
        "knc_10nn.fit(X_train, y_train)\n",
        "Y_pred = knc_10nn.predict(X_test)# 予測\n",
        "result(y_test, Y_pred)"
      ],
      "execution_count": null,
      "outputs": []
    },
    {
      "cell_type": "code",
      "metadata": {
        "colab": {
          "base_uri": "https://localhost:8080/",
          "height": 431
        },
        "id": "I3OhL9jFr9UH",
        "outputId": "e56acc49-f619-4653-9dc9-f72e1c5ecda7"
      },
      "source": [
        "##5-nn\n",
        "knc_5nn = KNeighborsClassifier(n_neighbors=5)\n",
        "knc_5nn.fit(X_train, y_train)\n",
        "Y_pred = knc_5nn.predict(X_test)# 予測　\n",
        "result(y_test, Y_pred)"
      ],
      "execution_count": 53,
      "outputs": [
        {
          "output_type": "stream",
          "text": [
            "accuracy_score= 0.9298721425803952\n",
            "precision_score= 0.0\n",
            "recall_score= 0.0\n",
            "f1_score= 0.0\n",
            "confusion_matrix= \n",
            "[[2400    5]\n",
            " [ 176    0]]\n",
            "AUC=0.498960498960499\n"
          ],
          "name": "stdout"
        },
        {
          "output_type": "display_data",
          "data": {
            "image/png": "[encoded data removed]",
            "text/plain": [
              "<Figure size 432x288 with 1 Axes>"
            ]
          },
          "metadata": {
            "tags": [],
            "needs_background": "light"
          }
        }
      ]
    },
    {
      "cell_type": "code",
      "metadata": {
        "colab": {
          "base_uri": "https://localhost:8080/",
          "height": 431
        },
        "id": "0ZYEU26gr_tx",
        "outputId": "4c5ef534-d1f9-46e7-b421-6b00398aa74e"
      },
      "source": [
        "##1-nn\n",
        "knc_nn1 = KNeighborsClassifier(n_neighbors=1)\n",
        "knc_nn1.fit(X_train, y_train)\n",
        "Y_pred = knc_nn1.predict(X_test)# 予測　\n",
        "result(y_test, Y_pred)"
      ],
      "execution_count": 54,
      "outputs": [
        {
          "output_type": "stream",
          "text": [
            "accuracy_score= 0.8934521503293297\n",
            "precision_score= 0.0975609756097561\n",
            "recall_score= 0.06818181818181818\n",
            "f1_score= 0.0802675585284281\n",
            "confusion_matrix= \n",
            "[[2294  111]\n",
            " [ 164   12]]\n",
            "AUC=0.511013986013986\n"
          ],
          "name": "stdout"
        },
        {
          "output_type": "display_data",
          "data": {
            "image/png": "[encoded data removed]",
            "text/plain": [
              "<Figure size 432x288 with 1 Axes>"
            ]
          },
          "metadata": {
            "tags": [],
            "needs_background": "light"
          }
        }
      ]
    },
    {
      "cell_type": "markdown",
      "metadata": {
        "id": "WoNQO7TTvXpa"
      },
      "source": [
        "ロジスティック回帰"
      ]
    },
    {
      "cell_type": "code",
      "metadata": {
        "colab": {
          "base_uri": "https://localhost:8080/",
          "height": 601
        },
        "id": "6bob-XihvZ2N",
        "outputId": "1553d6e7-9297-414d-f3cf-b50fc1975dc0"
      },
      "source": [
        "lr = LogisticRegression(random_state=0) # インスタンスを作成\n",
        "lr.fit(X_train, y_train) # 学習\n",
        "Y_pred = lr.predict(X_test)# 予測　\n",
        "logistic_regression = result(y_test, Y_pred) #評価出力"
      ],
      "execution_count": null,
      "outputs": [
        {
          "output_type": "stream",
          "text": [
            "/usr/local/lib/python3.7/dist-packages/sklearn/linear_model/_logistic.py:940: ConvergenceWarning: lbfgs failed to converge (status=1):\n",
            "STOP: TOTAL NO. of ITERATIONS REACHED LIMIT.\n",
            "\n",
            "Increase the number of iterations (max_iter) or scale the data as shown in:\n",
            "    https://scikit-learn.org/stable/modules/preprocessing.html\n",
            "Please also refer to the documentation for alternative solver options:\n",
            "    https://scikit-learn.org/stable/modules/linear_model.html#logistic-regression\n",
            "  extra_warning_msg=_LOGISTIC_SOLVER_CONVERGENCE_MSG)\n",
            "/usr/local/lib/python3.7/dist-packages/sklearn/metrics/_classification.py:1272: UndefinedMetricWarning: Precision is ill-defined and being set to 0.0 due to no predicted samples. Use `zero_division` parameter to control this behavior.\n",
            "  _warn_prf(average, modifier, msg_start, len(result))\n"
          ],
          "name": "stderr"
        },
        {
          "output_type": "stream",
          "text": [
            "accuracy_score= 0.9179632402404357\n",
            "precision_score= 0.0\n",
            "recall_score= 0.0\n",
            "f1_score= 0.0\n",
            "confusion_matrix= \n",
            "[[84605     0]\n",
            " [ 7561     0]]\n",
            "AUC=0.5\n"
          ],
          "name": "stdout"
        },
        {
          "output_type": "display_data",
          "data": {
            "image/png": "[encoded data removed]",
            "text/plain": [
              "<Figure size 432x288 with 1 Axes>"
            ]
          },
          "metadata": {
            "tags": [],
            "needs_background": "light"
          }
        }
      ]
    },
    {
      "cell_type": "markdown",
      "metadata": {
        "id": "i4PoAGPawGBz"
      },
      "source": [
        "SVM"
      ]
    },
    {
      "cell_type": "code",
      "metadata": {
        "id": "LYzHDa8QwMvo"
      },
      "source": [
        "clf = SVC(random_state=0)#インスタンス作成\n",
        "clf.fit(X_train, y_train) # 学習\n",
        "Y_pred = clf.predict(X_test)# 予測　\n",
        "svm = result(y_test, Y_pred) #評価出力"
      ],
      "execution_count": null,
      "outputs": []
    },
    {
      "cell_type": "markdown",
      "metadata": {
        "id": "B_b9xJ1CxaCR"
      },
      "source": [
        "ランダムフォレスト"
      ]
    },
    {
      "cell_type": "code",
      "metadata": {
        "colab": {
          "base_uri": "https://localhost:8080/",
          "height": 465
        },
        "id": "wjLwGORNxbhT",
        "outputId": "348f4bd8-295c-421b-b5ff-efa68598e5b5"
      },
      "source": [
        "rfc = RandomForestClassifier(random_state=0)#インスタンス作成\n",
        "rfc.fit(X_train, y_train) # 学習\n",
        "Y_pred = rfc.predict(X_test)# 予測　\n",
        "random_forest = result(y_test, Y_pred) #評価出力"
      ],
      "execution_count": null,
      "outputs": [
        {
          "output_type": "stream",
          "text": [
            "accuracy_score= 0.9179632402404357\n",
            "precision_score= 0.0\n",
            "recall_score= 0.0\n",
            "f1_score= 0.0\n",
            "confusion_matrix= \n",
            "[[84605     0]\n",
            " [ 7561     0]]\n",
            "AUC=0.5\n"
          ],
          "name": "stdout"
        },
        {
          "output_type": "stream",
          "text": [
            "/usr/local/lib/python3.7/dist-packages/sklearn/metrics/_classification.py:1272: UndefinedMetricWarning: Precision is ill-defined and being set to 0.0 due to no predicted samples. Use `zero_division` parameter to control this behavior.\n",
            "  _warn_prf(average, modifier, msg_start, len(result))\n"
          ],
          "name": "stderr"
        },
        {
          "output_type": "display_data",
          "data": {
            "image/png": "[encoded data removed]",
            "text/plain": [
              "<Figure size 432x288 with 1 Axes>"
            ]
          },
          "metadata": {
            "tags": [],
            "needs_background": "light"
          }
        }
      ]
    },
    {
      "cell_type": "markdown",
      "metadata": {
        "id": "y8OGyHwZ-q7G"
      },
      "source": [
        "LightGBM"
      ]
    },
    {
      "cell_type": "code",
      "metadata": {
        "colab": {
          "base_uri": "https://localhost:8080/",
          "height": 465
        },
        "id": "EoY6B_4T_GsC",
        "outputId": "9523d621-3de4-4a92-e6cc-d371b6cfc097"
      },
      "source": [
        "lgbm = lgb.LGBMClassifier(random_state=0) # モデルのインスタンスの作成\n",
        "lgbm.fit(X_train, y_train) # モデルの学習\n",
        "Y_pred = lgbm.predict(X_test)\n",
        "lgbm = result(y_test, Y_pred) #評価出力"
      ],
      "execution_count": null,
      "outputs": [
        {
          "output_type": "stream",
          "text": [
            "accuracy_score= 0.9179632402404357\n",
            "precision_score= 0.0\n",
            "recall_score= 0.0\n",
            "f1_score= 0.0\n",
            "confusion_matrix= \n",
            "[[84605     0]\n",
            " [ 7561     0]]\n",
            "AUC=0.5\n"
          ],
          "name": "stdout"
        },
        {
          "output_type": "stream",
          "text": [
            "/usr/local/lib/python3.7/dist-packages/sklearn/metrics/_classification.py:1272: UndefinedMetricWarning: Precision is ill-defined and being set to 0.0 due to no predicted samples. Use `zero_division` parameter to control this behavior.\n",
            "  _warn_prf(average, modifier, msg_start, len(result))\n"
          ],
          "name": "stderr"
        },
        {
          "output_type": "display_data",
          "data": {
            "image/png": "[encoded data removed]",
            "text/plain": [
              "<Figure size 432x288 with 1 Axes>"
            ]
          },
          "metadata": {
            "tags": [],
            "needs_background": "light"
          }
        }
      ]
    },
    {
      "cell_type": "markdown",
      "metadata": {
        "id": "YJlypozFVajl"
      },
      "source": [
        "決定木手法を使用し、評価データ（テストデータ）を適用"
      ]
    },
    {
      "cell_type": "code",
      "metadata": {
        "colab": {
          "base_uri": "https://localhost:8080/",
          "height": 345
        },
        "id": "VjspXAGMIxoG",
        "outputId": "5ed7fead-71e2-4e2f-c93f-c038170e7f3a"
      },
      "source": [
        "descision_tree = tree.DecisionTreeClassifier(random_state=0)#インスタンス作成\n",
        "descision_tree.fit(X_train, y_train) # 学習\n",
        "Y_pred = descision_tree.predict(t)# 予測　"
      ],
      "execution_count": 40,
      "outputs": [
        {
          "output_type": "error",
          "ename": "ValueError",
          "evalue": "ignored",
          "traceback": [
            "\u001b[0;31m---------------------------------------------------------------------------\u001b[0m",
            "\u001b[0;31mValueError\u001b[0m                                Traceback (most recent call last)",
            "\u001b[0;32m<ipython-input-40-e4b5eaa3e454>\u001b[0m in \u001b[0;36m<module>\u001b[0;34m()\u001b[0m\n\u001b[1;32m      1\u001b[0m \u001b[0mdescision_tree\u001b[0m \u001b[0;34m=\u001b[0m \u001b[0mtree\u001b[0m\u001b[0;34m.\u001b[0m\u001b[0mDecisionTreeClassifier\u001b[0m\u001b[0;34m(\u001b[0m\u001b[0mrandom_state\u001b[0m\u001b[0;34m=\u001b[0m\u001b[0;36m0\u001b[0m\u001b[0;34m)\u001b[0m\u001b[0;31m#インスタンス作成\u001b[0m\u001b[0;34m\u001b[0m\u001b[0;34m\u001b[0m\u001b[0m\n\u001b[1;32m      2\u001b[0m \u001b[0mdescision_tree\u001b[0m\u001b[0;34m.\u001b[0m\u001b[0mfit\u001b[0m\u001b[0;34m(\u001b[0m\u001b[0mX_train\u001b[0m\u001b[0;34m,\u001b[0m \u001b[0my_train\u001b[0m\u001b[0;34m)\u001b[0m \u001b[0;31m# 学習\u001b[0m\u001b[0;34m\u001b[0m\u001b[0;34m\u001b[0m\u001b[0m\n\u001b[0;32m----> 3\u001b[0;31m \u001b[0mY_pred\u001b[0m \u001b[0;34m=\u001b[0m \u001b[0mdescision_tree\u001b[0m\u001b[0;34m.\u001b[0m\u001b[0mpredict\u001b[0m\u001b[0;34m(\u001b[0m\u001b[0mt\u001b[0m\u001b[0;34m)\u001b[0m\u001b[0;31m# 予測\u001b[0m\u001b[0;34m\u001b[0m\u001b[0;34m\u001b[0m\u001b[0m\n\u001b[0m",
            "\u001b[0;32m/usr/local/lib/python3.7/dist-packages/sklearn/tree/_classes.py\u001b[0m in \u001b[0;36mpredict\u001b[0;34m(self, X, check_input)\u001b[0m\n\u001b[1;32m    417\u001b[0m         \"\"\"\n\u001b[1;32m    418\u001b[0m         \u001b[0mcheck_is_fitted\u001b[0m\u001b[0;34m(\u001b[0m\u001b[0mself\u001b[0m\u001b[0;34m)\u001b[0m\u001b[0;34m\u001b[0m\u001b[0;34m\u001b[0m\u001b[0m\n\u001b[0;32m--> 419\u001b[0;31m         \u001b[0mX\u001b[0m \u001b[0;34m=\u001b[0m \u001b[0mself\u001b[0m\u001b[0;34m.\u001b[0m\u001b[0m_validate_X_predict\u001b[0m\u001b[0;34m(\u001b[0m\u001b[0mX\u001b[0m\u001b[0;34m,\u001b[0m \u001b[0mcheck_input\u001b[0m\u001b[0;34m)\u001b[0m\u001b[0;34m\u001b[0m\u001b[0;34m\u001b[0m\u001b[0m\n\u001b[0m\u001b[1;32m    420\u001b[0m         \u001b[0mproba\u001b[0m \u001b[0;34m=\u001b[0m \u001b[0mself\u001b[0m\u001b[0;34m.\u001b[0m\u001b[0mtree_\u001b[0m\u001b[0;34m.\u001b[0m\u001b[0mpredict\u001b[0m\u001b[0;34m(\u001b[0m\u001b[0mX\u001b[0m\u001b[0;34m)\u001b[0m\u001b[0;34m\u001b[0m\u001b[0;34m\u001b[0m\u001b[0m\n\u001b[1;32m    421\u001b[0m         \u001b[0mn_samples\u001b[0m \u001b[0;34m=\u001b[0m \u001b[0mX\u001b[0m\u001b[0;34m.\u001b[0m\u001b[0mshape\u001b[0m\u001b[0;34m[\u001b[0m\u001b[0;36m0\u001b[0m\u001b[0;34m]\u001b[0m\u001b[0;34m\u001b[0m\u001b[0;34m\u001b[0m\u001b[0m\n",
            "\u001b[0;32m/usr/local/lib/python3.7/dist-packages/sklearn/tree/_classes.py\u001b[0m in \u001b[0;36m_validate_X_predict\u001b[0;34m(self, X, check_input)\u001b[0m\n\u001b[1;32m    378\u001b[0m         \u001b[0;34m\"\"\"Validate X whenever one tries to predict, apply, predict_proba\"\"\"\u001b[0m\u001b[0;34m\u001b[0m\u001b[0;34m\u001b[0m\u001b[0m\n\u001b[1;32m    379\u001b[0m         \u001b[0;32mif\u001b[0m \u001b[0mcheck_input\u001b[0m\u001b[0;34m:\u001b[0m\u001b[0;34m\u001b[0m\u001b[0;34m\u001b[0m\u001b[0m\n\u001b[0;32m--> 380\u001b[0;31m             \u001b[0mX\u001b[0m \u001b[0;34m=\u001b[0m \u001b[0mcheck_array\u001b[0m\u001b[0;34m(\u001b[0m\u001b[0mX\u001b[0m\u001b[0;34m,\u001b[0m \u001b[0mdtype\u001b[0m\u001b[0;34m=\u001b[0m\u001b[0mDTYPE\u001b[0m\u001b[0;34m,\u001b[0m \u001b[0maccept_sparse\u001b[0m\u001b[0;34m=\u001b[0m\u001b[0;34m\"csr\"\u001b[0m\u001b[0;34m)\u001b[0m\u001b[0;34m\u001b[0m\u001b[0;34m\u001b[0m\u001b[0m\n\u001b[0m\u001b[1;32m    381\u001b[0m             if issparse(X) and (X.indices.dtype != np.intc or\n\u001b[1;32m    382\u001b[0m                                 X.indptr.dtype != np.intc):\n",
            "\u001b[0;32m/usr/local/lib/python3.7/dist-packages/sklearn/utils/validation.py\u001b[0m in \u001b[0;36mcheck_array\u001b[0;34m(array, accept_sparse, accept_large_sparse, dtype, order, copy, force_all_finite, ensure_2d, allow_nd, ensure_min_samples, ensure_min_features, warn_on_dtype, estimator)\u001b[0m\n\u001b[1;32m    576\u001b[0m         \u001b[0;32mif\u001b[0m \u001b[0mforce_all_finite\u001b[0m\u001b[0;34m:\u001b[0m\u001b[0;34m\u001b[0m\u001b[0;34m\u001b[0m\u001b[0m\n\u001b[1;32m    577\u001b[0m             _assert_all_finite(array,\n\u001b[0;32m--> 578\u001b[0;31m                                allow_nan=force_all_finite == 'allow-nan')\n\u001b[0m\u001b[1;32m    579\u001b[0m \u001b[0;34m\u001b[0m\u001b[0m\n\u001b[1;32m    580\u001b[0m     \u001b[0;32mif\u001b[0m \u001b[0mensure_min_samples\u001b[0m \u001b[0;34m>\u001b[0m \u001b[0;36m0\u001b[0m\u001b[0;34m:\u001b[0m\u001b[0;34m\u001b[0m\u001b[0;34m\u001b[0m\u001b[0m\n",
            "\u001b[0;32m/usr/local/lib/python3.7/dist-packages/sklearn/utils/validation.py\u001b[0m in \u001b[0;36m_assert_all_finite\u001b[0;34m(X, allow_nan, msg_dtype)\u001b[0m\n\u001b[1;32m     58\u001b[0m                     \u001b[0mmsg_err\u001b[0m\u001b[0;34m.\u001b[0m\u001b[0mformat\u001b[0m\u001b[0;34m\u001b[0m\u001b[0;34m\u001b[0m\u001b[0m\n\u001b[1;32m     59\u001b[0m                     (type_err,\n\u001b[0;32m---> 60\u001b[0;31m                      msg_dtype if msg_dtype is not None else X.dtype)\n\u001b[0m\u001b[1;32m     61\u001b[0m             )\n\u001b[1;32m     62\u001b[0m     \u001b[0;31m# for object dtype data, we only check for NaNs (GH-13254)\u001b[0m\u001b[0;34m\u001b[0m\u001b[0;34m\u001b[0m\u001b[0;34m\u001b[0m\u001b[0m\n",
            "\u001b[0;31mValueError\u001b[0m: Input contains NaN, infinity or a value too large for dtype('float32')."
          ]
        }
      ]
    },
    {
      "cell_type": "markdown",
      "metadata": {
        "id": "NErr8RPnU7WF"
      },
      "source": [
        "特徴量エンジニアリング（one-hot-encording)"
      ]
    },
    {
      "cell_type": "code",
      "metadata": {
        "id": "mzMnWjhUGxcm"
      },
      "source": [
        "ohe_columns = ['CODE_GENDER', 'FLAG_OWN_REALTY', 'FLAG_OWN_CAR']\n",
        "df = pd.get_dummies(df, columns=ohe_columns)"
      ],
      "execution_count": null,
      "outputs": []
    },
    {
      "cell_type": "markdown",
      "metadata": {
        "id": "whCFd1nKVDiv"
      },
      "source": [
        "特徴量エンジニアリング（OrdinalEncoder）"
      ]
    },
    {
      "cell_type": "code",
      "metadata": {
        "id": "fX9cv_NEVNxI"
      },
      "source": [
        "df_temp = df[['NAME_INCOME_TYPE', 'NAME_EDUCATION_TYPE', 'NAME_FAMILY_STATUS', 'NAME_HOUSING_TYPE']] #一時的に代入\n",
        "#df_temp = df.select_dtypes(include='object') #一時的に代入\n",
        "\n",
        "oe = OrdinalEncoder()\n",
        "oe.fit(df_temp)\n",
        "df_trans = oe.transform(df_temp)\n",
        "df[['NAME_INCOME_TYPE', 'NAME_EDUCATION_TYPE', 'NAME_FAMILY_STATUS', 'NAME_HOUSING_TYPE']] = df_trans"
      ],
      "execution_count": null,
      "outputs": []
    }
  ]
}